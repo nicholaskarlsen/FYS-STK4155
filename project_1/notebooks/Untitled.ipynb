{
 "cells": [
  {
   "cell_type": "code",
   "execution_count": 1,
   "metadata": {},
   "outputs": [],
   "source": [
    "import numpy as np\n",
    "import matplotlib.pyplot as plt\n",
    "from sklearn.model_selection import train_test_split\n",
    "\n",
    "import sys\n",
    "sys.path.insert(0,\"../src/\")\n",
    "\n",
    "from linear_regression import *\n",
    "from main import *"
   ]
  },
  {
   "cell_type": "code",
   "execution_count": 2,
   "metadata": {},
   "outputs": [
    {
     "data": {
      "text/plain": [
       "<matplotlib.legend.Legend at 0x7f7b533dd070>"
      ]
     },
     "execution_count": 2,
     "metadata": {},
     "output_type": "execute_result"
    },
    {
     "name": "stderr",
     "output_type": "stream",
     "text": [
      "findfont: Font family ['sans-serif'] not found. Falling back to DejaVu Sans.\n"
     ]
    },
    {
     "data": {
      "image/png": "[encoded data removed]",
      "text/plain": [
       "<Figure size 432x288 with 1 Axes>"
      ]
     },
     "metadata": {
      "needs_background": "light"
     },
     "output_type": "display_data"
    }
   ],
   "source": [
    "# Inconsistent MSE plots? Try Monte-Carlo (this is probably quite silly)\n",
    "N_trials = 500\n",
    "n = 100\n",
    "degrees = np.arange(1, 15)\n",
    "\n",
    "MSE_train = np.zeros([N_trials, len(degrees)])\n",
    "MSE_test = np.zeros([N_trials, len(degrees)])\n",
    "\n",
    "for trial in range(N_trials):\n",
    "    x = np.random.uniform(0, 1, n)\n",
    "    y = np.random.uniform(0, 1, n)\n",
    "    z = FrankeFunction(x, y) + np.random.normal(0, 1, n) * 0.2\n",
    "\n",
    "    for i, deg in enumerate(degrees):\n",
    "        X = design_matrix_2D(x, y, deg)\n",
    "        X_train, X_test, z_train, z_test = train_test_split(X, z, test_size = 0.2)\n",
    "        #beta = OLS_SVD_2D(X_train, z_train)\n",
    "        beta = np.linalg.pinv(X_train.T @ X_train) @ X_train.T @ z_train\n",
    "\n",
    "        MSE_train[trial,i] = MSE(z_train, X_train @ beta)\n",
    "        MSE_test[trial, i] = MSE(z_test, X_test @ beta)\n",
    "        \n",
    "MSE_train_mean = [np.mean(MSE_train[:, i]) for i in range(len(degrees))]\n",
    "MSE_test_mean = [np.mean(MSE_test[:, i]) for i in range(len(degrees))]\n",
    "     \n",
    "plt.semilogy(degrees, MSE_train_mean, label = \"Training data\")\n",
    "plt.semilogy(degrees, MSE_test_mean, label = \"Test data\")\n",
    "plt.xlabel(\"Model Complexity\")\n",
    "plt.ylabel(\"MSE\")\n",
    "plt.legend()"
   ]
  }
 ],
 "metadata": {
  "kernelspec": {
   "display_name": "Python 3",
   "language": "python",
   "name": "python3"
  },
  "language_info": {
   "codemirror_mode": {
    "name": "ipython",
    "version": 3
   },
   "file_extension": ".py",
   "mimetype": "text/x-python",
   "name": "python",
   "nbconvert_exporter": "python",
   "pygments_lexer": "ipython3",
   "version": "3.8.3"
  }
 },
 "nbformat": 4,
 "nbformat_minor": 2
}
