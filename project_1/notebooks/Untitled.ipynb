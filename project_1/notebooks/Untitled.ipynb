{
 "cells": [
  {
   "cell_type": "code",
   "execution_count": 1,
   "metadata": {},
   "outputs": [],
   "source": [
    "import numpy as np\n",
    "import matplotlib.pyplot as plt\n",
    "from sklearn.model_selection import train_test_split\n",
    "from sklearn.preprocessing import StandardScaler\n",
    "\n",
    "import sys\n",
    "sys.path.insert(0,\"../src/\")\n",
    "\n",
    "from linear_regression import *\n",
    "from main import *\n",
    "from bootstrap import *"
   ]
  },
  {
   "cell_type": "code",
   "execution_count": 10,
   "metadata": {},
   "outputs": [
    {
     "data": {
      "text/plain": [
       "<matplotlib.legend.Legend at 0x7f8ed9fa7be0>"
      ]
     },
     "execution_count": 10,
     "metadata": {},
     "output_type": "execute_result"
    },
    {
     "data": {
      "image/png": "[encoded data removed]",
      "text/plain": [
       "<Figure size 432x288 with 1 Axes>"
      ]
     },
     "metadata": {
      "needs_background": "light"
     },
     "output_type": "display_data"
    }
   ],
   "source": [
    "n = 300\n",
    "degrees = np.arange(1, 11)\n",
    "MSE_train = np.zeros(len(degrees))\n",
    "MSE_test = np.zeros(len(degrees))\n",
    "\n",
    "MSE_train_boot = np.zeros(len(degrees))\n",
    "MSE_test_boot = np.zeros(len(degrees))\n",
    "\n",
    "R2_train = np.zeros(len(degrees))\n",
    "R2_test = np.zeros(len(degrees))\n",
    "\n",
    "x = np.random.uniform(0, 1, n)\n",
    "y = np.random.uniform(0, 1, n)\n",
    "z = FrankeFunction(x, y) + np.random.normal(0, 1, n) * 0.2\n",
    "\n",
    "scaler = StandardScaler()\n",
    "\n",
    "for i, deg in enumerate(degrees):\n",
    "    X = design_matrix_2D(x, y, deg)\n",
    "    X_train, X_test, z_train, z_test = train_test_split(X, z, test_size = 0.2)\n",
    "    \n",
    "    for X in [X_train, X_test]:\n",
    "        X = scaler.fit_transform(X)\n",
    "        X[:, 0] = np.ones(X.shape[0])\n",
    "    \n",
    "    beta = OLS_SVD_2D(X_train, z_train)\n",
    "    MSE_train[i] = MSE(z_train, X_train @ beta)\n",
    "    MSE_test[i] = MSE(z_test, X_test @ beta)\n",
    "    \n",
    "    MSE_train_boot[i], MSE_test_boot[i], _, _ = bootstrap(\n",
    "        X_train, X_test, z_train, z_test, bootstraps = 100\n",
    "    )\n",
    "    \n",
    "  #  R2_train[i] = R2(z_train, X_train @ beta)\n",
    "   # R2_test[i] = R2(z_test, X_test @ beta)\n",
    "    \n",
    "    #var_b = var_beta(z_train, X_train)\n",
    "\n",
    "plt.semilogy(degrees, MSE_train, label = \"Training data\")\n",
    "plt.semilogy(degrees, MSE_test, label = \"Test data\")\n",
    "plt.semilogy(degrees, MSE_train_boot, label = \"Training data (Bootstrap)\")\n",
    "plt.semilogy(degrees, MSE_test_boot, label = \"Test data (Bootstrap)\")\n",
    "plt.xlabel(\"Model Complexity\")\n",
    "plt.ylabel(\"MSE\")\n",
    "plt.legend()"
   ]
  },
  {
   "cell_type": "code",
   "execution_count": null,
   "metadata": {},
   "outputs": [],
   "source": [
    "x = np.array([[1,2], [4, 5]])\n",
    "\n",
    "plt.matshow(x)\n",
    "plt.colorbar()\n",
    "plt.show()"
   ]
  },
  {
   "cell_type": "code",
   "execution_count": null,
   "metadata": {},
   "outputs": [],
   "source": [
    "plt.plot(degrees, R2_train, label = \"Training data\")\n",
    "plt.plot(degrees, R2_test, label = \"Test data\")\n",
    "plt.xlabel(\"Model Complexity\")\n",
    "plt.ylabel(\"R2\")\n",
    "plt.legend()"
   ]
  },
  {
   "cell_type": "code",
   "execution_count": null,
   "metadata": {},
   "outputs": [],
   "source": [
    "print(np.sqrt(var_b)) # for deg = 5\n",
    "print(beta)"
   ]
  },
  {
   "cell_type": "code",
   "execution_count": null,
   "metadata": {},
   "outputs": [],
   "source": [
    "def k_fold_split(X, z, k_folds = 5):\n",
    "    perm = np.random.permutation(len(z))\n",
    "    perm = np.split(perm, k_folds)\n",
    "    return perm\n",
    "\n",
    "X =  np.ones([5, 5])\n",
    "z = np.ones([5])\n",
    "for i in range(5):\n",
    "    X[i] *= i\n",
    "    z[i] *= i"
   ]
  }
 ],
 "metadata": {
  "kernelspec": {
   "display_name": "Python 3",
   "language": "python",
   "name": "python3"
  },
  "language_info": {
   "codemirror_mode": {
    "name": "ipython",
    "version": 3
   },
   "file_extension": ".py",
   "mimetype": "text/x-python",
   "name": "python",
   "nbconvert_exporter": "python",
   "pygments_lexer": "ipython3",
   "version": "3.7.3"
  }
 },
 "nbformat": 4,
 "nbformat_minor": 2
}
