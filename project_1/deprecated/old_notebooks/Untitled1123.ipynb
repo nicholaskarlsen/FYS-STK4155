{
 "cells": [
  {
   "cell_type": "code",
   "execution_count": 1,
   "metadata": {},
   "outputs": [],
   "source": [
    "import numpy as np\n",
    "import matplotlib.pyplot as plt\n",
    "import pandas as pd\n",
    "from sklearn.model_selection import train_test_split\n",
    "from sklearn.preprocessing import StandardScaler\n",
    "\n",
    "#import sys\n",
    "#sys.path.insert(0,\"../src/\")\n",
    "\n",
    "from FrankeFunction import FrankeFunction\n",
    "from linear_regression import *\n",
    "from bootstrap import *\n",
    "from cross_validation import *\n",
    "from stat_tools import *\n",
    "import unit_tests\n",
    "\n",
    "# Make sure things are working as expected\n",
    "unit_tests.OLS_unit_test()\n",
    "unit_tests.OLS_SVD_unit_test()\n",
    "unit_tests.Ridge_unit_test()\n",
    "\n",
    "# Generate test data\n",
    "n = 300 # Number of data points\n",
    "\n",
    "x_dat = np.random.uniform(0, 1, n)\n",
    "y_dat = np.random.uniform(0, 1, n)\n",
    "z_dat = FrankeFunction(x_dat, y_dat)\n",
    "\n",
    "# Set up the scaler\n",
    "scaler = StandardScaler()\n",
    "\n"
   ]
  },
  {
   "cell_type": "code",
   "execution_count": 5,
   "metadata": {},
   "outputs": [],
   "source": [
    "X = design_matrix(x_dat, y_dat, 6)\n",
    "# Split data, but don't shuffle. OK since data is already randomly sampled! \n",
    "# Fasilitates a direct comparrison of the clean & Noisy data\n",
    "X_train, X_test, z_train, z_test = train_test_split(X, z_dat, test_size = 0.2, shuffle=False)\n",
    "\n",
    "# Normalize data sets\n",
    "X_train = scaler.fit_transform(X_train)\n",
    "X_train[:, 0] = np.ones(X_train.shape[0])\n",
    "X_test = scaler.fit_transform(X_test)\n",
    "X_test[:, 0] = np.ones(X_test.shape[0])\n",
    "\n",
    "z_bootstrap, z_model_train, z_model_test = bootstrap(\n",
    "    X_train, \n",
    "    X_test, \n",
    "    z_train, \n",
    "    z_test,\n",
    "    bootstraps = 100,\n",
    "    regression = linear_regression.OLS_SVD\n",
    ")"
   ]
  },
  {
   "cell_type": "code",
   "execution_count": 8,
   "metadata": {},
   "outputs": [
    {
     "name": "stdout",
     "output_type": "stream",
     "text": [
      "(100, 240)\n",
      "(100, 240)\n",
      "(100, 60)\n",
      "(60,)\n"
     ]
    }
   ],
   "source": [
    "print(z_bootstrap.shape)\n",
    "print(z_model_train.shape)\n",
    "print(z_model_test.shape)\n",
    "print(z_test.shape)"
   ]
  },
  {
   "cell_type": "code",
   "execution_count": 20,
   "metadata": {},
   "outputs": [
    {
     "name": "stdout",
     "output_type": "stream",
     "text": [
      "0.0034787026763840267\n",
      "0.003478702676384026\n",
      "0.08007819005762337\n",
      "0.08114069088013887\n"
     ]
    }
   ],
   "source": [
    "print(MSE(z_test,z_model_test))\n",
    "\n",
    "mse = 0\n",
    "bias_sq = 0\n",
    "var = 0\n",
    "for i in range(100):\n",
    "    mse += np.mean((z_test - z_model_test[i])**2)\n",
    "    var += np.mean((z_model_test - np.mean(z_model_test[i]))**2)\n",
    "    bias_sq += np.mean((z_test - np.mean(z_model_test[i]))**2)\n",
    "\n",
    "mse /= 100\n",
    "bias_sq /= 100\n",
    "var /= 100\n",
    "print(mse)\n",
    "print(var)\n",
    "print(bias_sq)"
   ]
  },
  {
   "cell_type": "code",
   "execution_count": null,
   "metadata": {},
   "outputs": [],
   "source": [
    "def p2_analysis(x, y, z, degrees, N_bootstraps):\n",
    "    \n",
    "    columns = [\n",
    "        \"MSE train\",\n",
    "        \"MSE test\",\n",
    "        \"R2 train\",\n",
    "        \"R2 test\",\n",
    "        \"Bias train\",\n",
    "        \"Bias test\",\n",
    "        \"Variance train\",\n",
    "        \"Variance test\",\n",
    "    ]\n",
    "    \n",
    "    df = pd.DataFrame(columns=columns)\n",
    "    \n",
    "    for i, deg in enumerate(degrees):\n",
    "        X = design_matrix(x, y, deg)\n",
    "        # Split data, but don't shuffle. OK since data is already randomly sampled! \n",
    "        # Fasilitates a direct comparrison of the clean & Noisy data\n",
    "        X_train, X_test, z_train, z_test = train_test_split(X, z, test_size = 0.2, shuffle=False)\n",
    "        \n",
    "        # Normalize data sets\n",
    "        X_train = scaler.fit_transform(X_train)\n",
    "        X_train[:, 0] = np.ones(X_train.shape[0])\n",
    "        X_test = scaler.fit_transform(X_test)\n",
    "        X_test[:, 0] = np.ones(X_test.shape[0])\n",
    "        \n",
    "        output = bootstrap(\n",
    "            X_train, \n",
    "            X_test, \n",
    "            z_train, \n",
    "            z_test,\n",
    "            bootstraps = N_bootstraps,\n",
    "            regression = linear_regression.OLS_SVD\n",
    "        )\n",
    "\n",
    "        df = df.append(pd.DataFrame(output, index=[deg]))\n",
    "    \n",
    "    return df\n",
    "\n",
    "degrees = np.arange(1, 20)\n",
    "N_bootstraps = 100\n",
    "data_bootstrap = p2_analysis(x_dat, y_dat, z_dat, degrees, N_bootstraps)\n",
    "\n",
    "plt.figure(figsize=(8,4))\n",
    "degrees = np.arange(1, 20) \n",
    "#plt.semilogy(degrees, data_bootstrap[\"MSE train\"],\"o--\", label = \"MSE TRAIN\")\n",
    "plt.semilogy(degrees, data_bootstrap[\"MSE test\"],\"o--\", label = \"MSE TEST\")\n",
    "plt.semilogy(degrees, data_bootstrap[\"Variance test\"],\"o--\", label = \"VAR TEST\")\n",
    "#plt.semilogy(degrees, data_bootstrap[\"Variance train\"],\"o--\", label = \"VAR TRAIN\")\n",
    "plt.semilogy(degrees, data_bootstrap[\"Bias test\"],\"o--\", label = \"BIAS^2 TEST\")\n",
    "#plt.semilogy(degrees, data_bootstrap[\"Bias train\"],\"o--\", label = \"BIAS^2 TEST\")\n",
    "plt.xlabel(\"Model Complexity\")\n",
    "plt.ylabel(\"MSE\")\n",
    "plt.title(\"Bootstrap\")\n",
    "plt.legend(loc=\"best\")"
   ]
  },
  {
   "cell_type": "code",
   "execution_count": null,
   "metadata": {},
   "outputs": [],
   "source": [
    "data_bootstrap"
   ]
  }
 ],
 "metadata": {
  "kernelspec": {
   "display_name": "Python 3",
   "language": "python",
   "name": "python3"
  },
  "language_info": {
   "codemirror_mode": {
    "name": "ipython",
    "version": 3
   },
   "file_extension": ".py",
   "mimetype": "text/x-python",
   "name": "python",
   "nbconvert_exporter": "python",
   "pygments_lexer": "ipython3",
   "version": "3.8.3"
  }
 },
 "nbformat": 4,
 "nbformat_minor": 4
}
