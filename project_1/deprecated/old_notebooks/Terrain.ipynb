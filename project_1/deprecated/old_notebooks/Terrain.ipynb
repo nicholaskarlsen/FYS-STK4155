{
 "cells": [
  {
   "cell_type": "code",
   "execution_count": 1,
   "metadata": {},
   "outputs": [],
   "source": [
    "import sys\n",
    "sys.path.insert(0,\"../src/\")\n",
    "\n",
    "import numpy as np\n",
    "import matplotlib.pyplot as plt\n",
    "\n",
    "# For pleasant viewing in the notebook\n",
    "plt.rc('xtick', labelsize='large')\n",
    "plt.rc('ytick', labelsize='large')"
   ]
  },
  {
   "cell_type": "markdown",
   "metadata": {},
   "source": [
    "### Potentially interesting data to plot\n",
    "- LASSO & Ridge plots showing how the BIAS/VARIANCE plots evolve wrt. lambda in same plot\n",
    "- Alternatively just the bootstrapped MSE. (less information clutter!)\n",
    "- Plot of the betas evolve wrt lambda for some semi-low order polynomial (not TOO many parameters to clutter the plots) -> visual representation of how $\\lambda$ squishes the betas"
   ]
  },
  {
   "cell_type": "code",
   "execution_count": 1,
   "metadata": {},
   "outputs": [
    {
     "ename": "SyntaxError",
     "evalue": "EOL while scanning string literal (<ipython-input-1-adde7bd5a10f>, line 1)",
     "output_type": "error",
     "traceback": [
      "\u001b[0;36m  File \u001b[0;32m\"<ipython-input-1-adde7bd5a10f>\"\u001b[0;36m, line \u001b[0;32m1\u001b[0m\n\u001b[0;31m    'from terrain_analysis import *\u001b[0m\n\u001b[0m                                   ^\u001b[0m\n\u001b[0;31mSyntaxError\u001b[0m\u001b[0;31m:\u001b[0m EOL while scanning string literal\n"
     ]
    }
   ],
   "source": [
    "'from terrain_analysis import *"
   ]
  },
  {
   "cell_type": "code",
   "execution_count": null,
   "metadata": {},
   "outputs": [],
   "source": [
    "degrees = np.arange(max_degree)\n",
    "plt.semilogy(degrees, mse_ols_train, \"o--\", label = \"OLS TRAIN\")\n",
    "plt.semilogy(degrees, mse_ols_test, \"o--\", label = \"OLS TEST\")\n",
    "plt.title(\"OLS\")\n",
    "plt.xlabel(\"Complexity\")\n",
    "plt.ylabel(\"MSE\")\n",
    "plt.legend()\n",
    "plt.show()"
   ]
  },
  {
   "cell_type": "code",
   "execution_count": null,
   "metadata": {},
   "outputs": [],
   "source": [
    "## BOOTSTRAP PLOTS\n",
    "plt.figure(figsize=(20, 5))\n",
    "\n",
    "plt.subplot(131)\n",
    "plt.semilogy(degrees, ols_boot_mse,\"o--\",label=\"MSE\")\n",
    "plt.semilogy(degrees, ols_boot_bias,\"o--\", label=\"BIAS\")\n",
    "plt.semilogy(degrees, ols_boot_variance,\"o--\", label=\"Variance\")\n",
    "plt.title(\"OLS Bootstrap\")\n",
    "plt.xlabel(\"Complexity\")\n",
    "plt.ylabel(\"MSE\")\n",
    "plt.ylim([1e-4, 1e2])\n",
    "plt.legend()\n",
    "\n",
    "plt.subplot(132)\n",
    "plt.semilogy(degrees, ridge_best_lambda_boot_mse,\"o--\",label=\"MSE\")\n",
    "plt.semilogy(degrees, ridge_best_lambda_boot_bias,\"o--\", label=\"BIAS\")\n",
    "plt.semilogy(degrees, ridge_best_lambda_boot_variance,\"o--\", label=\"Variance\")\n",
    "plt.title(\"Ridge Bootstrap\")\n",
    "plt.xlabel(\"Complexity\")\n",
    "plt.ylabel(\"MSE\")\n",
    "plt.ylim([1e-4, 1e2])\n",
    "plt.legend()\n",
    "\n",
    "plt.subplot(133)\n",
    "plt.semilogy(degrees, lasso_best_lambda_boot_mse,\"o--\",label=\"MSE\")\n",
    "plt.semilogy(degrees, lasso_best_lambda_boot_bias,\"o--\", label=\"BIAS\")\n",
    "plt.semilogy(degrees, lasso_best_lambda_boot_variance,\"o--\", label=\"Variance\")\n",
    "plt.title(\"LASSO Bootstrap\")\n",
    "plt.xlabel(\"Complexity\")\n",
    "plt.ylabel(\"MSE\")\n",
    "plt.ylim([1e-4, 1e2])\n",
    "plt.legend()\n",
    "plt.show()"
   ]
  },
  {
   "cell_type": "code",
   "execution_count": null,
   "metadata": {},
   "outputs": [],
   "source": [
    "# Same bootstrap plots, but only better resolved LASSO & Ridge\n",
    "plt.figure(figsize=(20, 5))\n",
    "plt.subplot(121)\n",
    "plt.semilogy(degrees, ridge_best_lambda_boot_mse,\"o--\",label=\"MSE\")\n",
    "plt.semilogy(degrees, ridge_best_lambda_boot_bias,\"o--\", label=\"BIAS\")\n",
    "plt.semilogy(degrees, ridge_best_lambda_boot_variance,\"o--\", label=\"Variance\")\n",
    "plt.title(\"Ridge Bootstrap\")\n",
    "plt.xlabel(\"Complexity\")\n",
    "plt.ylabel(\"MSE\")\n",
    "plt.ylim([1e-4, 1e-1])\n",
    "plt.legend()\n",
    "\n",
    "plt.subplot(122)\n",
    "plt.semilogy(degrees, lasso_best_lambda_boot_mse,\"o--\",label=\"MSE\")\n",
    "plt.semilogy(degrees, lasso_best_lambda_boot_bias,\"o--\", label=\"BIAS\")\n",
    "plt.semilogy(degrees, lasso_best_lambda_boot_variance,\"o--\", label=\"Variance\")\n",
    "plt.title(\"LASSO Bootstrap\")\n",
    "plt.xlabel(\"Complexity\")\n",
    "plt.ylabel(\"MSE\")\n",
    "plt.ylim([1e-4, 1e-1])\n",
    "plt.legend()\n",
    "plt.show()"
   ]
  },
  {
   "cell_type": "code",
   "execution_count": null,
   "metadata": {},
   "outputs": [],
   "source": [
    "plt.semilogy(degrees, best_ridge_lambda,\"o--\",label=\"MSE\")\n",
    "plt.title(\"Best ridge lambda\")\n",
    "plt.xlabel(\"Complexity\")\n",
    "plt.ylabel(\"MSE\")\n",
    "plt.legend()\n",
    "plt.show()"
   ]
  },
  {
   "cell_type": "code",
   "execution_count": null,
   "metadata": {},
   "outputs": [],
   "source": [
    "plt.semilogy(degrees, best_ridge_mse,\"o--\",label=\"MSE\")\n",
    "plt.title(\"Best ridge MSE\")\n",
    "plt.xlabel(\"Complexity\")\n",
    "plt.ylabel(\"MSE\")\n",
    "plt.legend()\n",
    "plt.show()"
   ]
  },
  {
   "cell_type": "code",
   "execution_count": null,
   "metadata": {},
   "outputs": [],
   "source": [
    "## This seems strange?\n",
    "plt.semilogy(degrees, best_lasso_lambda,\"o--\",label=\"MSE\")\n",
    "plt.title(\"Best LASSO lambda\")\n",
    "plt.xlabel(\"Complexity\")\n",
    "plt.ylabel(\"MSE\")\n",
    "plt.legend()\n",
    "plt.show()"
   ]
  },
  {
   "cell_type": "code",
   "execution_count": null,
   "metadata": {},
   "outputs": [],
   "source": [
    "plt.semilogy(degrees, best_lasso_mse,\"o--\",label=\"MSE\")\n",
    "plt.title(\"Best LASSO MSE\")\n",
    "plt.xlabel(\"Complexity\")\n",
    "plt.ylabel(\"MSE\")\n",
    "plt.legend()\n",
    "plt.show()"
   ]
  }
 ],
 "metadata": {
  "kernelspec": {
   "display_name": "Python 3",
   "language": "python",
   "name": "python3"
  },
  "language_info": {
   "codemirror_mode": {
    "name": "ipython",
    "version": 3
   },
   "file_extension": ".py",
   "mimetype": "text/x-python",
   "name": "python",
   "nbconvert_exporter": "python",
   "pygments_lexer": "ipython3",
   "version": "3.8.3"
  }
 },
 "nbformat": 4,
 "nbformat_minor": 4
}
