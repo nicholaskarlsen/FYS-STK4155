{
 "cells": [
  {
   "cell_type": "code",
   "execution_count": 1,
   "metadata": {},
   "outputs": [],
   "source": [
    "import numpy as np\n",
    "import matplotlib.pyplot as plt\n",
    "import pandas as pd\n",
    "from sklearn.model_selection import train_test_split\n",
    "from sklearn.preprocessing import StandardScaler\n",
    "\n",
    "#import sys\n",
    "#sys.path.insert(0,\"../src/\")\n",
    "\n",
    "from FrankeFunction import FrankeFunction\n",
    "from linear_regression import *\n",
    "from bootstrap import *\n",
    "from cross_validation import *\n",
    "from stat_tools import *\n",
    "import utils\n",
    "import unit_tests\n",
    "\n",
    "utils.plot_settings()\n",
    "\n",
    "FIGPATH = \"../../figs/\""
   ]
  },
  {
   "cell_type": "code",
   "execution_count": 2,
   "metadata": {},
   "outputs": [],
   "source": [
    "# Make sure things are working as expected\n",
    "unit_tests.OLS_unit_test()\n",
    "unit_tests.OLS_SVD_unit_test()\n",
    "unit_tests.Ridge_unit_test()"
   ]
  },
  {
   "cell_type": "markdown",
   "metadata": {},
   "source": [
    "# Problem 1a)\n",
    "\n",
    "- Play around with the franke funtion both with & without noise!\n",
    "- Perform OLS up to 5th order\n",
    "- Compute R2\n",
    "- Compute MSE\n",
    "- Find confidence interval of beta"
   ]
  },
  {
   "cell_type": "code",
   "execution_count": 3,
   "metadata": {},
   "outputs": [
    {
     "name": "stdout",
     "output_type": "stream",
     "text": [
      "\n"
     ]
    }
   ],
   "source": [
    "# Generate test data\n",
    "n = 300 # Number of data points\n",
    "\n",
    "x_dat = np.random.uniform(0, 1, n)\n",
    "y_dat = np.random.uniform(0, 1, n)\n",
    "z_dat = FrankeFunction(x_dat, y_dat)\n",
    "\n",
    "# Set up the scaler\n",
    "scaler = StandardScaler()\n",
    "\n",
    "print()"
   ]
  },
  {
   "cell_type": "code",
   "execution_count": 13,
   "metadata": {},
   "outputs": [],
   "source": [
    "\n",
    "\n",
    "# Wrap the analysis in a function to duplicate for Clean & Noisy data\n",
    "def p1_analysis(x, y, z, degrees):\n",
    "    \n",
    "    mse = pd.DataFrame(columns=[\"train\", \"test\"], index = degrees)\n",
    "    r2 = pd.DataFrame(columns=[\"train\", \"test\"], index = degrees)\n",
    "    \n",
    "    # Very hacky way of determining the maximum number of terms of the polynomials\n",
    "    betas = np.zeros([len(degrees), len(utils.polynomial_form(degrees[-1]))])\n",
    "    var_betas = np.zeros([len(degrees), len(utils.polynomial_form(degrees[-1]))])\n",
    "\n",
    "    #var_b = pd.DataFrame(indices=degrees)\n",
    "    \n",
    "    for i, deg in enumerate(degrees):\n",
    "        X = design_matrix(x, y, deg)\n",
    "        # Split data, but don't shuffle. OK since data is already randomly sampled! \n",
    "        # Fasilitates a direct comparrison of the clean & Noisy data\n",
    "        X_train, X_test, z_train, z_test = train_test_split(X, z, test_size = 0.2, shuffle=False)\n",
    "        # Normalize data sets\n",
    "        X_train = scaler.fit_transform(X_train)\n",
    "        X_train[:, 0] = np.ones(X_train.shape[0])\n",
    "        X_test = scaler.fit_transform(X_test)\n",
    "        X_test[:, 0] = np.ones(X_test.shape[0])\n",
    "\n",
    "        beta = OLS_SVD(X_train, z_train)\n",
    "    \n",
    "        mse[\"train\"][i] = MSE(z_train, X_train @ beta)\n",
    "        mse[\"test\"][i] = MSE(z_test, X_test @ beta)\n",
    "        r2[\"train\"][i] = R2(z_train, X_train @ beta)\n",
    "        r2[\"test\"][i] = R2(z_test, X_test @ beta)\n",
    "        \n",
    "        betas[i, 0:len(beta)] = beta\n",
    "        var_betas[i, 0:len(beta)] = var_beta(X_train, z_train)\n",
    "\n",
    "    return mse, r2, betas, var_betas"
   ]
  },
  {
   "cell_type": "code",
   "execution_count": 14,
   "metadata": {},
   "outputs": [
    {
     "data": {
      "text/plain": [
       "<matplotlib.legend.Legend at 0x7fbe8c699670>"
      ]
     },
     "execution_count": 14,
     "metadata": {},
     "output_type": "execute_result"
    },
    {
     "data": {
      "image/png": "[encoded data removed]",
      "text/plain": [
       "<Figure size 288x576 with 2 Axes>"
      ]
     },
     "metadata": {
      "needs_background": "light"
     },
     "output_type": "display_data"
    }
   ],
   "source": [
    "degrees = np.arange(0, 6) # Degrees of the polynom\n",
    "\n",
    "# Generate data\n",
    "MSE_clean, R2_clean, betas_clean, var_betas_clean = p1_analysis(x_dat, y_dat, z_dat, degrees)\n",
    "\n",
    "plt.figure(figsize=(4,8))\n",
    "plt.tight_layout()\n",
    "# Plot MSE\n",
    "plt.subplot(211)\n",
    "plt.semilogy(degrees, MSE_clean[\"train\"],\"o--\", label = \"Training data\")\n",
    "plt.semilogy(degrees, MSE_clean[\"test\"],\"o--\", label = \"Test data\")\n",
    "plt.xlabel(\"Model Complexity\")\n",
    "plt.ylabel(\"MSE\")\n",
    "plt.legend()\n",
    "# Plot R2\n",
    "plt.subplot(212)\n",
    "plt.plot(degrees, R2_clean[\"train\"],\"o--\", label = \"Training data\")\n",
    "plt.plot(degrees, R2_clean[\"test\"],\"o--\", label = \"Test data\")\n",
    "plt.xlabel(\"Model Complexity\")\n",
    "plt.ylabel(\"R2\")\n",
    "plt.ylim([0,1])\n",
    "plt.legend()"
   ]
  },
  {
   "cell_type": "markdown",
   "metadata": {},
   "source": [
    "How does the model respond to noise?"
   ]
  },
  {
   "cell_type": "code",
   "execution_count": null,
   "metadata": {},
   "outputs": [],
   "source": [
    "noises = np.linspace(0, .5, 6)\n",
    "degrees = np.arange(0, 6)\n",
    "\n",
    "plt.figure(figsize=[4, 5])\n",
    "\n",
    "for noise in noises:\n",
    "    # Generate a new noisy dataset\n",
    "    z_dat_noisy = z_dat + np.random.normal(0, 1, n) * noise\n",
    "    MSE_noisy, R2_noisy, var_b_noisy = p1_analysis(x_dat, y_dat, z_dat_noisy,degrees)\n",
    "    \n",
    "    plt.plot(degrees, R2_noisy[\"test\"], \"o--\")\n",
    "    plt.annotate(\"$\\delta=$ %.2f\" % noise, [degrees[-1] + .3,R2_noisy[\"test\"].iloc[-1]])\n",
    "\n",
    "plt.xlim([0, degrees[-1] + 1.5])\n",
    "plt.axhline([1],color=\"black\", ls=\"--\", lw=0.75)\n",
    "plt.xlabel(\"Complexity\")\n",
    "plt.ylabel(\"R2\")\n",
    "plt.plot()"
   ]
  },
  {
   "cell_type": "markdown",
   "metadata": {},
   "source": [
    "# Problem 1b)\n",
    "- Replicate Fig 2.11 from Hastie et al using bootstrap\n",
    "- Bias variance analysis"
   ]
  },
  {
   "cell_type": "code",
   "execution_count": null,
   "metadata": {},
   "outputs": [],
   "source": [
    "def bootstrap_analysis(x, y, z, degrees, N_bootstraps, regression=linear_regression.OLS_SVD):\n",
    "    \n",
    "    columns = [\n",
    "        \"MSE train\",\n",
    "        \"MSE test\",\n",
    "        \"R2 train\",\n",
    "        \"R2 test\",\n",
    "        \"Bias train\",\n",
    "        \"Bias test\",\n",
    "        \"Variance train\",\n",
    "        \"Variance test\",\n",
    "    ]\n",
    "    \n",
    "    df = pd.DataFrame(columns=columns)\n",
    "    \n",
    "    for i, deg in enumerate(degrees):\n",
    "        X = design_matrix(x, y, deg)\n",
    "        # Split data, but don't shuffle. OK since data is already randomly sampled! \n",
    "        # Fasilitates a direct comparrison of the clean & Noisy data\n",
    "        X_train, X_test, z_train, z_test = train_test_split(X, z, test_size = 0.2, shuffle=False)\n",
    "        \n",
    "        # Normalize data sets\n",
    "        X_train = scaler.fit_transform(X_train)\n",
    "        X_train[:, 0] = np.ones(X_train.shape[0])\n",
    "        X_test = scaler.fit_transform(X_test)\n",
    "        X_test[:, 0] = np.ones(X_test.shape[0])\n",
    "        \n",
    "        output = bootstrap(\n",
    "            X_train, \n",
    "            X_test, \n",
    "            z_train, \n",
    "            z_test,\n",
    "            bootstraps = N_bootstraps,\n",
    "            regression = regression\n",
    "        )\n",
    "\n",
    "        df = df.append(pd.DataFrame(output, index=[deg]))\n",
    "    \n",
    "    return df\n",
    "\n",
    "degrees = np.arange(1, 16)\n",
    "N_bootstraps = 500\n",
    "data_bootstrap = bootstrap_analysis(x_dat, y_dat, z_dat, degrees, N_bootstraps)"
   ]
  },
  {
   "cell_type": "code",
   "execution_count": null,
   "metadata": {},
   "outputs": [],
   "source": [
    "# Reproduce 2.11 in Hastie\n",
    "plt.figure(figsize=(4,3))\n",
    "degrees = np.arange(1, 16) \n",
    "plt.semilogy(degrees, data_bootstrap[\"MSE train\"],\"o--\", label = \"MSE TRAIN\")\n",
    "plt.semilogy(degrees, data_bootstrap[\"MSE test\"],\"o--\", label = \"MSE TEST\")\n",
    "plt.xlabel(\"Model Complexity\")\n",
    "plt.ylabel(\"MSE\")\n",
    "plt.title(\"OLS Bootstrap\")\n",
    "plt.legend(loc=\"best\")\n",
    "plt.tight_layout()\n",
    "plt.savefig(FIGPATH + \"OLS_MSE_Bootstrap_Hastie_211.pdf\")"
   ]
  },
  {
   "cell_type": "code",
   "execution_count": null,
   "metadata": {},
   "outputs": [],
   "source": [
    "plt.figure(figsize=(8,4))\n",
    "degrees = np.arange(1, 20) \n",
    "plt.semilogy(degrees, data_bootstrap[\"MSE train\"],\"o--\", label = \"MSE TRAIN\")\n",
    "plt.semilogy(degrees, data_bootstrap[\"MSE test\"],\"o--\", label = \"MSE TEST\")\n",
    "plt.semilogy(degrees, data_bootstrap[\"Variance test\"],\"o--\", label = \"VAR TEST\")\n",
    "plt.semilogy(degrees, data_bootstrap[\"Variance train\"],\"o--\", label = \"VAR TRAIN\")\n",
    "plt.semilogy(degrees, data_bootstrap[\"Bias test\"],\"o--\", label = \"BIAS^2 TEST\")\n",
    "plt.semilogy(degrees, data_bootstrap[\"Bias train\"],\"o--\", label = \"BIAS^2 TEST\")\n",
    "plt.xlabel(\"Model Complexity\")\n",
    "plt.ylabel(\"MSE\")\n",
    "plt.title(\"Bootstrap\")\n",
    "plt.legend(loc=\"best\")"
   ]
  },
  {
   "cell_type": "code",
   "execution_count": null,
   "metadata": {},
   "outputs": [],
   "source": [
    "data_bootstrap"
   ]
  },
  {
   "cell_type": "markdown",
   "metadata": {},
   "source": [
    "# Problem 1c)\n",
    "- Do cross validation on the dataset. Compare MSE with bootstrap"
   ]
  },
  {
   "cell_type": "code",
   "execution_count": null,
   "metadata": {},
   "outputs": [],
   "source": [
    "def p3_analysis(x, y, z, degrees, k):\n",
    "    \n",
    "    columns = [\n",
    "        \"MSE train\", \"MSE test\",\n",
    "        \"R2 train\", \"R2 test\"\n",
    "    ]\n",
    "    \n",
    "    df = pd.DataFrame(columns=columns)\n",
    "    \n",
    "    for i, deg in enumerate(degrees):\n",
    "        X = design_matrix(x, y, deg)\n",
    "    \n",
    "        # Normalize the design matrix\n",
    "        X = scaler.fit_transform(X)\n",
    "        X[:, 0] = np.ones(X.shape[0])\n",
    "        \n",
    "        output = cross_validation(X, z, k_folds = k, regression=linear_regression.OLS_SVD)\n",
    "        \n",
    "        df = df.append(pd.DataFrame(output, index=[deg]))\n",
    "        \n",
    "        \n",
    "    return df"
   ]
  },
  {
   "cell_type": "code",
   "execution_count": null,
   "metadata": {},
   "outputs": [],
   "source": [
    "degrees = np.arange(1, 16)\n",
    "dat_cross = p3_analysis(x_dat, y_dat, z_dat, degrees, k=55)\n",
    "\n",
    "dat_cross"
   ]
  },
  {
   "cell_type": "code",
   "execution_count": null,
   "metadata": {},
   "outputs": [],
   "source": [
    "plt.figure(figsize=(8,4))\n",
    "\n",
    "plt.semilogy(degrees, dat_cross[\"MSE train\"],\"o--\", label = \"Training data\")\n",
    "plt.semilogy(degrees, dat_cross[\"MSE test\"],\"o--\", label = \"Test data\")\n",
    "plt.xlabel(\"Model Complexity\")\n",
    "plt.ylabel(\"MSE\")\n",
    "plt.title(\"Cross-Validation\")\n",
    "plt.legend(loc=\"lower left\")"
   ]
  },
  {
   "cell_type": "code",
   "execution_count": null,
   "metadata": {},
   "outputs": [],
   "source": [
    "plt.figure(figsize=(8,4))\n",
    "\n",
    "plt.plot(degrees, dat_cross[\"R2 train\"],\"o--\", label = \"Training data\")\n",
    "plt.plot(degrees, dat_cross[\"R2 test\"],\"o--\", label = \"Test data\")\n",
    "plt.xlabel(\"Model Complexity\")\n",
    "plt.ylabel(\"R2\")\n",
    "plt.title(\"Cross-Validation\")\n",
    "plt.legend(loc=\"lower left\")"
   ]
  },
  {
   "cell_type": "markdown",
   "metadata": {},
   "source": [
    "# Problem 1d)\n",
    "- Do same analysis, but with Ridge regression"
   ]
  },
  {
   "cell_type": "code",
   "execution_count": null,
   "metadata": {},
   "outputs": [],
   "source": [
    "lambdas = np.logspace(-3, 0, 10)\n",
    "\n",
    "for lamb in lambdas:\n",
    "    degrees = np.arange(1, 20)\n",
    "    N_bootstraps = 100\n",
    "    data_bootstrap = bootstrap_analysis(x_dat, y_dat, z_dat, degrees, N_bootstraps, regression = lambda X, z : stat_tools.Ridge(X, z, lamb = lamb))\n",
    "\n",
    "    #plt.semilogy(degrees, data_bootstrap[\"MSE train\"],\"o--\", label = \"MSE TRAIN\")\n",
    "    plt.semilogy(degrees, data_bootstrap[\"MSE test\"],\"o--\", label = \"MSE TEST\")\n",
    "    plt.semilogy(degrees, data_bootstrap[\"Variance test\"],\"o--\", label = \"VAR TEST\")\n",
    "    #plt.semilogy(degrees, data_bootstrap[\"Variance train\"],\"o--\", label = \"VAR TRAIN\")\n",
    "    plt.semilogy(degrees, data_bootstrap[\"Bias test\"],\"o--\", label = \"BIAS^2 TEST\")\n",
    "    #plt.semilogy(degrees, data_bootstrap[\"Bias train\"],\"o--\", label = \"BIAS^2 TEST\")\n",
    "    plt.xlabel(\"Model Complexity\")\n",
    "    plt.ylabel(\"MSE\")\n",
    "    plt.title(\"Bootstrap\")\n",
    "    plt.legend(loc=\"best\")"
   ]
  },
  {
   "cell_type": "markdown",
   "metadata": {},
   "source": [
    "# Problem 1e)\n",
    "- Do Same analysis, but with Lasso Regression"
   ]
  },
  {
   "cell_type": "markdown",
   "metadata": {},
   "source": [
    "# Problem 1f)\n",
    "- Download real data!"
   ]
  },
  {
   "cell_type": "markdown",
   "metadata": {},
   "source": [
    "# Problem 1d)\n",
    "= Analyse real data using wisdom gained from Franke Function!"
   ]
  },
  {
   "cell_type": "code",
   "execution_count": null,
   "metadata": {},
   "outputs": [],
   "source": [
    "def k_fold_split(X, z, k_folds = 5):\n",
    "    perm = np.random.permutation(len(z))\n",
    "    perm = np.split(perm, k_folds)\n",
    "    return perm\n",
    "\n",
    "X =  np.ones([5, 5])\n",
    "z = np.ones([5])\n",
    "for i in range(5):\n",
    "    X[i] *= i\n",
    "    z[i] *= i"
   ]
  }
 ],
 "metadata": {
  "kernelspec": {
   "display_name": "Python 3",
   "language": "python",
   "name": "python3"
  },
  "language_info": {
   "codemirror_mode": {
    "name": "ipython",
    "version": 3
   },
   "file_extension": ".py",
   "mimetype": "text/x-python",
   "name": "python",
   "nbconvert_exporter": "python",
   "pygments_lexer": "ipython3",
   "version": "3.8.3"
  }
 },
 "nbformat": 4,
 "nbformat_minor": 4
}
