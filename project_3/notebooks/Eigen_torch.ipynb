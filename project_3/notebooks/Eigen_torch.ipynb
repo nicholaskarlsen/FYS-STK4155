{
 "cells": [
  {
   "cell_type": "code",
   "execution_count": 1,
   "metadata": {},
   "outputs": [],
   "source": [
    "import numpy as np\n",
    "import matplotlib.pyplot as plt\n",
    "import torch\n",
    "import torch.nn.functional as F\n",
    "from torch.autograd.functional import hessian, jacobian"
   ]
  },
  {
   "cell_type": "code",
   "execution_count": 2,
   "metadata": {},
   "outputs": [],
   "source": [
    "dtype = torch.float\n",
    "#device = torch.device(\"cuda:0\")\n",
    "device = torch.device(\"cpu\")\n",
    "\n",
    "# Number of points to train on\n",
    "num_points = 100\n",
    "\n",
    "# normalized time domain for ODE\n",
    "t = torch.linspace(0, 1, num_points, device=device, dtype=dtype, requires_grad=True).reshape(-1,1)\n",
    "\n",
    "# Make a random symetric + real matrix\n",
    "Q = torch.randn(6,6, device=device, dtype=dtype, requires_grad=False)\n",
    "A = torch.transpose(Q, 0, 1) + Q \n",
    "A.requires_grad = True\n",
    "\n",
    "# Initial guess for the eigenvalue\n",
    "v0 = torch.randn(A.size(0), device=device, dtype=dtype, requires_grad=False).reshape(-1,1)\n",
    "\n",
    "# Trial solution to ODE\n",
    "def f_trial(t, N):\n",
    "    return v0 * torch.exp(-t*100) + (1 - torch.exp(-t*100)) * N\n",
    "\n",
    "# Shape of network\n",
    "input_dim = 1\n",
    "hidden_neurons = 100\n",
    "output_dim = v0.size(0)\n",
    "\n",
    "# Create random Tensors for weights.\n",
    "w1 = torch.randn(input_dim, hidden_neurons, device=device, dtype=dtype, requires_grad=True)\n",
    "w2 = torch.randn(hidden_neurons, output_dim, device=device, dtype=dtype, requires_grad=True)"
   ]
  },
  {
   "cell_type": "code",
   "execution_count": 3,
   "metadata": {},
   "outputs": [
    {
     "data": {
      "text/plain": [
       "tensor([[-14.3586],\n",
       "        [  7.5750],\n",
       "        [-12.3006],\n",
       "        [ 24.4805],\n",
       "        [-14.4461],\n",
       "        [-14.7098]], grad_fn=<AddBackward0>)"
      ]
     },
     "execution_count": 3,
     "metadata": {},
     "output_type": "execute_result"
    }
   ],
   "source": [
    "#v0.transpose(0,1).mm(A).mm(v0)\n",
    "- v0 + (v0.transpose(0,1).mm(v0) * A + (1 - v0.transpose(0,1).mm(A).mm(v0) * torch.eye(v0.size(0)))).mm(v0)"
   ]
  },
  {
   "cell_type": "markdown",
   "metadata": {},
   "source": [
    "propose a trial solution to the ODE in the form\n",
    "$$ \n",
    "    f_t(t, P) = v_0 \\, e^{-t} + (1-e^{-t}) N(t,P)\n",
    "$$\n",
    "Where $N$ denotes the Neural Network, and $P$ its free parameters."
   ]
  },
  {
   "cell_type": "code",
   "execution_count": 4,
   "metadata": {},
   "outputs": [],
   "source": [
    "def costfunction(t, N, A, trial_func):\n",
    "    loss = 0\n",
    "    \n",
    "    for i in range(t.size(0)):\n",
    "        # Compute trial eigenvector & transpose\n",
    "        v = trial_func(t[i], N[i])\n",
    "        v_T = v.transpose(0,1)\n",
    "       \n",
    "        # Time derivative of trial function\n",
    "        dfdt, dfdN = jacobian(trial_func, (t[i], N[i]), create_graph=True)  \n",
    "        \n",
    "        # right hand side of ODE\n",
    "        RHS = (- v + (v_T.mm(v) * A  + (1 - v_T.mm(A).mm(v) * torch.eye(v.size(0)))).mm(v))\n",
    "        \n",
    "        # Increment the loss function\n",
    "        loss = loss + (dfdt - RHS).pow(2).mean()\n",
    "    \n",
    "    return loss / t.size(0)"
   ]
  },
  {
   "cell_type": "code",
   "execution_count": 5,
   "metadata": {},
   "outputs": [
    {
     "name": "stdout",
     "output_type": "stream",
     "text": [
      "loss =  tensor(7619651., grad_fn=<DivBackward0>)\n",
      "loss =  tensor(1.4248e+27, grad_fn=<DivBackward0>)\n",
      "loss =  tensor(109.5872, grad_fn=<DivBackward0>)\n",
      "loss =  tensor(109.5872, grad_fn=<DivBackward0>)\n",
      "loss =  tensor(109.5872, grad_fn=<DivBackward0>)\n",
      "loss =  tensor(109.5872, grad_fn=<DivBackward0>)\n",
      "loss =  tensor(109.5872, grad_fn=<DivBackward0>)\n",
      "loss =  tensor(109.5872, grad_fn=<DivBackward0>)\n",
      "loss =  tensor(109.5872, grad_fn=<DivBackward0>)\n",
      "loss =  tensor(109.5872, grad_fn=<DivBackward0>)\n"
     ]
    }
   ],
   "source": [
    "learning_rate = 0.00002\n",
    "for epoch in range(10):\n",
    "    N_output = F.relu(t.mm(w1)).mm(w2)\n",
    "    \n",
    "    # Compute and print loss    \n",
    "    loss = costfunction(t, N_output, A, f_trial)\n",
    "    print(\"loss = \",loss)\n",
    "    \n",
    "    # Use autograd to compute the backward pass.\n",
    "    loss.backward()\n",
    "\n",
    "    # Update weights using gradient descent\n",
    "    with torch.no_grad():\n",
    "        w1 -= learning_rate * w1.grad\n",
    "        w2 -= learning_rate * w2.grad\n",
    "    \n",
    "        # Manually zero the gradients after updating weights\n",
    "        w1.grad.zero_()\n",
    "        w2.grad.zero_()"
   ]
  },
  {
   "cell_type": "code",
   "execution_count": 6,
   "metadata": {},
   "outputs": [
    {
     "name": "stdout",
     "output_type": "stream",
     "text": [
      "before norm:  tensor([[ 3.7835e-44,  3.7835e-44,  3.7835e-44,  3.7835e-44,  3.7835e-44,\n",
      "          3.7835e-44],\n",
      "        [ 4.2039e-44,  4.2039e-44,  4.2039e-44,  4.2039e-44,  4.2039e-44,\n",
      "          4.2039e-44],\n",
      "        [-5.7453e-44, -5.7453e-44, -5.7453e-44, -5.7453e-44, -5.7453e-44,\n",
      "         -5.7453e-44],\n",
      "        [-2.3822e-44, -2.3822e-44, -2.3822e-44, -2.3822e-44, -2.3822e-44,\n",
      "         -2.3822e-44],\n",
      "        [-1.5414e-44, -1.5414e-44, -1.5414e-44, -1.5414e-44, -1.5414e-44,\n",
      "         -1.5414e-44],\n",
      "        [ 2.5223e-44,  2.5223e-44,  2.5223e-44,  2.5223e-44,  2.5223e-44,\n",
      "          2.5223e-44]], grad_fn=<AddBackward0>)\n",
      "after norm tensor([[inf, inf, inf, inf, inf, inf],\n",
      "        [inf, inf, inf, inf, inf, inf],\n",
      "        [-inf, -inf, -inf, -inf, -inf, -inf],\n",
      "        [-inf, -inf, -inf, -inf, -inf, -inf],\n",
      "        [-inf, -inf, -inf, -inf, -inf, -inf],\n",
      "        [inf, inf, inf, inf, inf, inf]], grad_fn=<DivBackward0>)\n",
      "[[ 0.2796801   0.34810558  0.05551316 -0.7366981   0.20594901 -0.46084788]\n",
      " [ 0.39653185 -0.3775581  -0.54243904 -0.2723897   0.32919154  0.47266164]\n",
      " [ 0.19895597 -0.49346682  0.02659146 -0.28258693 -0.7839729  -0.14741424]\n",
      " [-0.514342   -0.63690686  0.03497808 -0.13807441  0.3949928  -0.3917839 ]\n",
      " [ 0.09847653  0.09860105 -0.72283274  0.3602544  -0.08489396 -0.5666594 ]\n",
      " [ 0.67135143 -0.2781912   0.42220905  0.3929079   0.26716676 -0.26054126]]\n"
     ]
    }
   ],
   "source": [
    "v_pred = f_trial(t[-1], N_output[-1])\n",
    "print(\"before norm: \",v_pred)\n",
    "v_pred = v_pred/v_pred.norm()\n",
    "print(\"after norm\", v_pred)\n",
    "\n",
    "eigal, eigvec = np.linalg.eigh(A.detach().numpy())\n",
    "print(eigvec)"
   ]
  }
 ],
 "metadata": {
  "kernelspec": {
   "display_name": "Python 3",
   "language": "python",
   "name": "python3"
  },
  "language_info": {
   "codemirror_mode": {
    "name": "ipython",
    "version": 3
   },
   "file_extension": ".py",
   "mimetype": "text/x-python",
   "name": "python",
   "nbconvert_exporter": "python",
   "pygments_lexer": "ipython3",
   "version": "3.8.3"
  }
 },
 "nbformat": 4,
 "nbformat_minor": 4
}
