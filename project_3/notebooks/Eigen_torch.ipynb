{
 "cells": [
  {
   "cell_type": "code",
   "execution_count": 1,
   "metadata": {},
   "outputs": [],
   "source": [
    "import numpy as np\n",
    "import matplotlib.pyplot as plt\n",
    "import torch\n",
    "import torch.nn.functional as F\n",
    "from torch.autograd.functional import hessian, jacobian"
   ]
  },
  {
   "cell_type": "code",
   "execution_count": 2,
   "metadata": {},
   "outputs": [],
   "source": [
    "dtype = torch.float\n",
    "#device = torch.device(\"cuda:0\")\n",
    "device = torch.device(\"cpu\")\n",
    "\n",
    "# Number of points to train on\n",
    "num_points = 100\n",
    "\n",
    "# normalized time domain for ODE\n",
    "t = torch.linspace(0, 1, num_points, device=device, dtype=dtype, requires_grad=True).reshape(-1,1)\n",
    "\n",
    "# Make a random symetric + real matrix\n",
    "Q = torch.randn(6,6, device=device, dtype=dtype, requires_grad=False)\n",
    "A = torch.transpose(Q, 0, 1) + Q \n",
    "A.requires_grad = True\n",
    "\n",
    "# Initial guess for the eigenvalue\n",
    "v0 = torch.randn(A.size(0), device=device, dtype=dtype, requires_grad=False).reshape(-1,1)\n",
    "\n",
    "# Trial solution to ODE\n",
    "def f_trial(t, N):\n",
    "    return v0 * torch.exp(-t*100) + (1 - torch.exp(-t*100)) * N\n",
    "\n",
    "# Shape of network\n",
    "input_dim = 1\n",
    "hidden_neurons = 100\n",
    "output_dim = v0.size(0)\n",
    "\n",
    "# Create random Tensors for weights.\n",
    "w1 = torch.randn(input_dim, hidden_neurons, device=device, dtype=dtype, requires_grad=True)\n",
    "w2 = torch.randn(hidden_neurons, output_dim, device=device, dtype=dtype, requires_grad=True)"
   ]
  },
  {
   "cell_type": "code",
   "execution_count": 3,
   "metadata": {},
   "outputs": [
    {
     "data": {
      "text/plain": [
       "tensor([[10.6911],\n",
       "        [15.7379],\n",
       "        [ 6.8398],\n",
       "        [-0.6731],\n",
       "        [-4.1671],\n",
       "        [-0.8914]], grad_fn=<AddBackward0>)"
      ]
     },
     "execution_count": 3,
     "metadata": {},
     "output_type": "execute_result"
    }
   ],
   "source": [
    "#v0.transpose(0,1).mm(A).mm(v0)\n",
    "- v0 + (v0.transpose(0,1).mm(v0) * A + (1 - v0.transpose(0,1).mm(A).mm(v0) * torch.eye(v0.size(0)))).mm(v0)"
   ]
  },
  {
   "cell_type": "markdown",
   "metadata": {},
   "source": [
    "propose a trial solution to the ODE in the form\n",
    "$$ \n",
    "    f_t(t, P) = v_0 \\, e^{-t} + (1-e^{-t}) N(t,P)\n",
    "$$\n",
    "Where $N$ denotes the Neural Network, and $P$ its free parameters."
   ]
  },
  {
   "cell_type": "code",
   "execution_count": 4,
   "metadata": {},
   "outputs": [],
   "source": [
    "def costfunction(t, N, A, trial_func):\n",
    "    loss = 0\n",
    "    \n",
    "    for i in range(t.size(0)):\n",
    "        # Compute trial eigenvector & transpose\n",
    "        v = trial_func(t[i], N[i])\n",
    "        v_T = v.transpose(0,1)\n",
    "       \n",
    "        # Time derivative of trial function\n",
    "        dfdt, dfdN = jacobian(trial_func, (t[i], N[i]), create_graph=True)  \n",
    "        \n",
    "        # right hand side of ODE\n",
    "        RHS = (- v + (v_T.mm(v) * A  + (1 - v_T.mm(A).mm(v) * torch.eye(v.size(0)))).mm(v))\n",
    "        \n",
    "        # Increment the loss function\n",
    "        loss = loss + (dfdt - RHS).pow(2).mean()\n",
    "    \n",
    "    return loss / t.size(0)"
   ]
  },
  {
   "cell_type": "code",
   "execution_count": 5,
   "metadata": {},
   "outputs": [
    {
     "name": "stdout",
     "output_type": "stream",
     "text": [
      "0: loss =  tensor(366.3965, grad_fn=<DivBackward0>)\n",
      "10: loss =  tensor(113.4785, grad_fn=<DivBackward0>)\n",
      "20: loss =  tensor(102.4861, grad_fn=<DivBackward0>)\n",
      "30: loss =  tensor(98.4074, grad_fn=<DivBackward0>)\n",
      "40: loss =  tensor(96.2200, grad_fn=<DivBackward0>)\n",
      "50: loss =  tensor(94.8521, grad_fn=<DivBackward0>)\n",
      "60: loss =  tensor(93.9013, grad_fn=<DivBackward0>)\n",
      "70: loss =  tensor(93.1981, grad_fn=<DivBackward0>)\n",
      "80: loss =  tensor(92.6543, grad_fn=<DivBackward0>)\n",
      "90: loss =  tensor(92.2195, grad_fn=<DivBackward0>)\n"
     ]
    },
    {
     "data": {
      "text/plain": [
       "Text(0, 0.5, 'Loss')"
      ]
     },
     "execution_count": 5,
     "metadata": {},
     "output_type": "execute_result"
    },
    {
     "data": {
      "image/png": "[encoded data removed]",
      "text/plain": [
       "<Figure size 432x288 with 1 Axes>"
      ]
     },
     "metadata": {
      "needs_background": "light"
     },
     "output_type": "display_data"
    }
   ],
   "source": [
    "EPOCHS = 100\n",
    "\n",
    "loss_arr = np.empty(EPOCHS, dtype=np.float)\n",
    "\n",
    "learning_rate = 0.0002\n",
    "for epoch in range(EPOCHS):\n",
    "    N_output = F.relu(t.mm(w1)).mm(w2)\n",
    "        \n",
    "    # Compute and print loss    \n",
    "    loss = costfunction(t, N_output.reshape(-1,1), A, f_trial)\n",
    "    \n",
    "    loss_arr[epoch] = loss.detach().numpy()\n",
    "    \n",
    "    if epoch % 10 == 0:\n",
    "        print(f\"{epoch}: loss = \",loss)\n",
    "    \n",
    "    # Use autograd to compute the backward pass.\n",
    "    loss.backward()\n",
    "\n",
    "    # Update weights using gradient descent\n",
    "    with torch.no_grad():\n",
    "        w1 -= learning_rate * w1.grad\n",
    "        w2 -= learning_rate * w2.grad\n",
    "    \n",
    "        # Manually zero the gradients after updating weights\n",
    "        w1.grad.zero_()\n",
    "        w2.grad.zero_()\n",
    "        \n",
    "plt.plot(loss_arr)\n",
    "plt.xlabel(\"Epoch\")\n",
    "plt.ylabel(\"Loss\")"
   ]
  },
  {
   "cell_type": "code",
   "execution_count": 6,
   "metadata": {},
   "outputs": [
    {
     "name": "stdout",
     "output_type": "stream",
     "text": [
      "before norm: \n",
      " tensor([[-3.7470],\n",
      "        [ 3.6631],\n",
      "        [-3.2929],\n",
      "        [ 3.8691],\n",
      "        [ 3.8540],\n",
      "        [-3.7396]], grad_fn=<AddBackward0>)\n",
      "after norm: \n",
      " tensor([[-0.4135],\n",
      "        [ 0.4043],\n",
      "        [-0.3634],\n",
      "        [ 0.4270],\n",
      "        [ 0.4253],\n",
      "        [-0.4127]], grad_fn=<DivBackward0>)\n",
      "[[-0.06348756  0.4681472  -0.66265756  0.20513904 -0.5096124   0.1894879 ]\n",
      " [ 0.05812219 -0.57860726  0.0618549   0.20482644 -0.2615905   0.74001753]\n",
      " [ 0.78870726  0.23381296  0.39672974  0.11442536 -0.38275546 -0.07926532]\n",
      " [-0.11184807  0.3871381   0.24766254  0.7296812   0.4309212   0.2411423 ]\n",
      " [-0.51212895  0.35631984  0.56659174 -0.30392933 -0.38655424  0.21894437]\n",
      " [-0.30942842 -0.33844286  0.13153495  0.52731705 -0.43617272 -0.55145186]]\n"
     ]
    }
   ],
   "source": [
    "v_pred = f_trial(t[-1,:], N_output[-1,:].reshape(-1,1))\n",
    "\n",
    "print(\"before norm: \\n\",v_pred)\n",
    "v_pred = v_pred/v_pred.norm()\n",
    "print(\"after norm: \\n\", v_pred)\n",
    "\n",
    "eigal, eigvec = np.linalg.eigh(A.detach().numpy())\n",
    "print(eigvec)"
   ]
  }
 ],
 "metadata": {
  "kernelspec": {
   "display_name": "Python 3",
   "language": "python",
   "name": "python3"
  },
  "language_info": {
   "codemirror_mode": {
    "name": "ipython",
    "version": 3
   },
   "file_extension": ".py",
   "mimetype": "text/x-python",
   "name": "python",
   "nbconvert_exporter": "python",
   "pygments_lexer": "ipython3",
   "version": "3.8.3"
  }
 },
 "nbformat": 4,
 "nbformat_minor": 4
}
