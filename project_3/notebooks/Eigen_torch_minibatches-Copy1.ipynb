{
 "cells": [
  {
   "cell_type": "markdown",
   "metadata": {},
   "source": [
    "# Finding Eigenvalues of Real, Symetric Matrices with Neural Networks"
   ]
  },
  {
   "cell_type": "code",
   "execution_count": 1,
   "metadata": {},
   "outputs": [],
   "source": [
    "import sys\n",
    "import numpy as np\n",
    "import matplotlib.pyplot as plt\n",
    "import torch\n",
    "import torch.nn.functional as F\n",
    "from torch.autograd.functional import hessian, jacobian\n",
    "\n",
    "sys.path.insert(0, \"../src\")\n",
    "from utils import minibatch, heat_eq_analytic\n",
    "\n",
    "plt.rcParams.update({\n",
    "        \"text.usetex\": True,\n",
    "        \"font.family\": \"serif\",\n",
    "})\n",
    "\n",
    "dtype = torch.float\n",
    "#device = torch.device(\"cuda:0\")\n",
    "device = torch.device(\"cpu\")"
   ]
  },
  {
   "cell_type": "markdown",
   "metadata": {},
   "source": [
    "Following the method proposed by Yi et al, we may find the eigenvalues of a real, symmetric matrix A by solving the differential equation\n",
    "\n",
    "$$\n",
    "    \\frac{d \\pmb x(t)}{d t} = - \\pmb x(t) + f(\\pmb x(t))\n",
    "$$\n",
    "\n",
    "where \n",
    "\n",
    "$$\n",
    "    f(\\pmb  x) = [\\pmb x^T \\pmb x A + (1 - \\pmb x^T A \\pmb x)I] \\pmb x\n",
    "$$"
   ]
  },
  {
   "cell_type": "code",
   "execution_count": 2,
   "metadata": {},
   "outputs": [],
   "source": [
    "def costfunction(t, N, A, trial_func):\n",
    "    loss = 0\n",
    "    \n",
    "    for i in range(t.size(0)):\n",
    "        # Compute trial eigenvector & transpose\n",
    "        N_curr = N[i].reshape(-1,1)\n",
    "        v = trial_func(t[i], N_curr)\n",
    "        v_T = v.transpose(0,1)\n",
    "       \n",
    "        # Time derivative of trial function\n",
    "        dfdt, dfdN = jacobian(trial_func, (t[i], N_curr), create_graph=True)  \n",
    "        \n",
    "        # right hand side of ODE\n",
    "        RHS = (- v + (v_T.mm(v) * A  + (1 - v_T.mm(A).mm(v)) * torch.eye(v.size(0))).mm(v))\n",
    "            \n",
    "        # Increment the loss function\n",
    "        loss = loss + (dfdt[:, 0] - RHS).pow(2).mean()\n",
    "    \n",
    "    return loss / t.size(0)"
   ]
  },
  {
   "cell_type": "code",
   "execution_count": 3,
   "metadata": {},
   "outputs": [],
   "source": [
    "# Set a seed for reproducability. \n",
    "torch.manual_seed(2020)\n",
    "\n",
    "# Make a random symetric + real matrix\n",
    "Q = torch.randn(6,6, device=device, dtype=dtype, requires_grad=False)\n",
    "A = torch.transpose(Q, 0, 1) + Q"
   ]
  },
  {
   "cell_type": "code",
   "execution_count": 31,
   "metadata": {},
   "outputs": [
    {
     "name": "stdout",
     "output_type": "stream",
     "text": [
      " -0.0 & 0.7 & -2.4 & 0.6 & 0.3 & -3 \\\\\n",
      " 0.7 & -3.4 & 1.2 & -0.2 & -1.4 & -1 \\\\\n",
      " -2.4 & 1.2 & -1.7 & -0.4 & -1.1 & -0 \\\\\n",
      " 0.6 & -0.2 & -0.4 & 1.7 & 2.1 & -1 \\\\\n",
      " 0.3 & -1.4 & -1.1 & 2.1 & -3.5 & 1 \\\\\n",
      " -2.8 & -1.0 & -0.4 & -0.7 & 0.5 & -2 \\\\\n"
     ]
    }
   ],
   "source": [
    "for i in range(6):\n",
    "    for j in range(6):\n",
    "        if j < 5:\n",
    "            print(\" %.1f\" % A.detach().numpy()[i,j], end=\" &\")\n",
    "        else: \n",
    "            print(\" %.f\" % A.detach().numpy()[i,j], end=\" \")\n",
    "    print(\"\\\\\\\\\")"
   ]
  },
  {
   "cell_type": "code",
   "execution_count": 5,
   "metadata": {},
   "outputs": [
    {
     "name": "stdout",
     "output_type": "stream",
     "text": [
      " [-5.42 -4.78 -3.9  -0.12  1.77  3.72]\n",
      "\n",
      "[[-0.38  0.45 -0.1   0.12 -0.54  0.58]\n",
      " [ 0.56  0.18 -0.64 -0.42 -0.24 -0.02]\n",
      " [-0.31  0.51  0.28 -0.66  0.09 -0.34]\n",
      " [-0.17 -0.14 -0.21 -0.35  0.63  0.63]\n",
      " [ 0.58  0.56  0.38  0.25  0.3   0.24]\n",
      " [-0.29  0.41 -0.55  0.43  0.39 -0.32]]\n"
     ]
    }
   ],
   "source": [
    "eigval, eigvec = np.linalg.eigh(A.detach().numpy())\n",
    "\n",
    "with np.printoptions(precision=2):\n",
    "    print(\"\",eigval)\n",
    "    print()\n",
    "    print(eigvec)"
   ]
  },
  {
   "cell_type": "code",
   "execution_count": 6,
   "metadata": {},
   "outputs": [],
   "source": [
    "# Number of points to train on\n",
    "num_points = 40\n",
    "\n",
    "# normalized time domain for ODE\n",
    "t = torch.linspace(0, 2, num_points, device=device, dtype=dtype, requires_grad=True).reshape(-1,1)\n",
    "\n",
    "# Initial guess for the eigenvalue\n",
    "v0 = torch.randn(A.size(0), device=device, dtype=dtype, requires_grad=False).reshape(-1,1)\n",
    "v0 = v0 / torch.norm(v0)\n",
    "\n",
    "# Trial solution to ODE\n",
    "def f_trial(t, N):\n",
    "    return v0 * torch.exp(-t) + (1 - torch.exp(-t)) * N"
   ]
  },
  {
   "cell_type": "code",
   "execution_count": 7,
   "metadata": {},
   "outputs": [
    {
     "name": "stdout",
     "output_type": "stream",
     "text": [
      "1\n"
     ]
    }
   ],
   "source": [
    "# Shape of network\n",
    "input_dim = 1\n",
    "hidden_neurons = 50\n",
    "output_dim = v0.size(0)\n",
    "\n",
    "learning_rate = 2e-2\n",
    "N_minibatches = 1#int(num_points / 12)\n",
    "print(N_minibatches)\n",
    "\n",
    "model = torch.nn.Sequential(\n",
    "          torch.nn.Linear(input_dim, hidden_neurons),\n",
    "          torch.nn.ReLU(),\n",
    "          torch.nn.Linear(hidden_neurons, hidden_neurons),\n",
    "          torch.nn.ReLU(),\n",
    "          torch.nn.Linear(hidden_neurons, output_dim),\n",
    "        )\n",
    "optimizer = torch.optim.Adam(model.parameters(), lr=learning_rate)\n",
    "\n",
    "\n",
    "TOT_EPOCHS_10 = 0\n",
    "\n",
    "loss_arr_tot_10 = np.empty(0, dtype=np.float)\n",
    "epoch_arr_tot_10 = np.empty(0, dtype=np.float)"
   ]
  },
  {
   "cell_type": "code",
   "execution_count": 34,
   "metadata": {},
   "outputs": [
    {
     "name": "stdout",
     "output_type": "stream",
     "text": [
      "1000: loss =  tensor(2.5248e-05, grad_fn=<DivBackward0>)\n",
      "1010: loss =  tensor(3.7295e-06, grad_fn=<DivBackward0>)\n",
      "1020: loss =  tensor(2.5449e-05, grad_fn=<DivBackward0>)\n",
      "1030: loss =  tensor(3.2958e-05, grad_fn=<DivBackward0>)\n",
      "1040: loss =  tensor(4.0866e-06, grad_fn=<DivBackward0>)\n",
      "1050: loss =  tensor(2.2009e-05, grad_fn=<DivBackward0>)\n",
      "1060: loss =  tensor(6.0606e-05, grad_fn=<DivBackward0>)\n",
      "1070: loss =  tensor(9.0432e-06, grad_fn=<DivBackward0>)\n",
      "1080: loss =  tensor(2.9195e-06, grad_fn=<DivBackward0>)\n",
      "1090: loss =  tensor(4.4272e-05, grad_fn=<DivBackward0>)\n",
      "1100: loss =  tensor(2.8475e-05, grad_fn=<DivBackward0>)\n",
      "1110: loss =  tensor(0.0003, grad_fn=<DivBackward0>)\n",
      "1120: loss =  tensor(2.7592e-05, grad_fn=<DivBackward0>)\n",
      "1130: loss =  tensor(0.0001, grad_fn=<DivBackward0>)\n",
      "1140: loss =  tensor(4.1675e-05, grad_fn=<DivBackward0>)\n",
      "1150: loss =  tensor(1.8124e-05, grad_fn=<DivBackward0>)\n",
      "1160: loss =  tensor(8.7715e-06, grad_fn=<DivBackward0>)\n",
      "1170: loss =  tensor(6.7646e-06, grad_fn=<DivBackward0>)\n",
      "1180: loss =  tensor(4.3759e-06, grad_fn=<DivBackward0>)\n",
      "1190: loss =  tensor(3.1131e-06, grad_fn=<DivBackward0>)\n",
      "1200: loss =  tensor(2.4590e-06, grad_fn=<DivBackward0>)\n",
      "1210: loss =  tensor(2.3677e-06, grad_fn=<DivBackward0>)\n",
      "1220: loss =  tensor(2.2247e-06, grad_fn=<DivBackward0>)\n",
      "1230: loss =  tensor(2.2054e-06, grad_fn=<DivBackward0>)\n",
      "1240: loss =  tensor(3.5427e-06, grad_fn=<DivBackward0>)\n",
      "1250: loss =  tensor(0.0002, grad_fn=<DivBackward0>)\n",
      "1260: loss =  tensor(0.0002, grad_fn=<DivBackward0>)\n",
      "1270: loss =  tensor(0.0001, grad_fn=<DivBackward0>)\n",
      "1280: loss =  tensor(2.3601e-05, grad_fn=<DivBackward0>)\n",
      "1290: loss =  tensor(4.7589e-06, grad_fn=<DivBackward0>)\n",
      "1300: loss =  tensor(8.0647e-06, grad_fn=<DivBackward0>)\n",
      "1310: loss =  tensor(1.6405e-05, grad_fn=<DivBackward0>)\n",
      "1320: loss =  tensor(3.2402e-06, grad_fn=<DivBackward0>)\n",
      "1330: loss =  tensor(3.3177e-06, grad_fn=<DivBackward0>)\n",
      "1340: loss =  tensor(4.1038e-05, grad_fn=<DivBackward0>)\n",
      "1350: loss =  tensor(1.3017e-05, grad_fn=<DivBackward0>)\n",
      "1360: loss =  tensor(6.0015e-05, grad_fn=<DivBackward0>)\n",
      "1370: loss =  tensor(5.7902e-05, grad_fn=<DivBackward0>)\n",
      "1380: loss =  tensor(3.2595e-06, grad_fn=<DivBackward0>)\n",
      "1390: loss =  tensor(5.1377e-05, grad_fn=<DivBackward0>)\n",
      "1400: loss =  tensor(1.0784e-05, grad_fn=<DivBackward0>)\n",
      "1410: loss =  tensor(1.3271e-05, grad_fn=<DivBackward0>)\n",
      "1420: loss =  tensor(0.0001, grad_fn=<DivBackward0>)\n",
      "1430: loss =  tensor(0.0001, grad_fn=<DivBackward0>)\n",
      "1440: loss =  tensor(4.9627e-05, grad_fn=<DivBackward0>)\n",
      "1450: loss =  tensor(2.5574e-06, grad_fn=<DivBackward0>)\n",
      "1460: loss =  tensor(5.9666e-05, grad_fn=<DivBackward0>)\n",
      "1470: loss =  tensor(4.3424e-06, grad_fn=<DivBackward0>)\n",
      "1480: loss =  tensor(3.0733e-05, grad_fn=<DivBackward0>)\n",
      "1490: loss =  tensor(7.1412e-05, grad_fn=<DivBackward0>)\n",
      "1500: loss =  tensor(4.4787e-05, grad_fn=<DivBackward0>)\n",
      "1510: loss =  tensor(2.1975e-05, grad_fn=<DivBackward0>)\n",
      "1520: loss =  tensor(7.4885e-05, grad_fn=<DivBackward0>)\n",
      "1530: loss =  tensor(4.4063e-06, grad_fn=<DivBackward0>)\n",
      "1540: loss =  tensor(5.2121e-05, grad_fn=<DivBackward0>)\n",
      "1550: loss =  tensor(5.2048e-06, grad_fn=<DivBackward0>)\n",
      "1560: loss =  tensor(2.1621e-05, grad_fn=<DivBackward0>)\n",
      "1570: loss =  tensor(0.0001, grad_fn=<DivBackward0>)\n",
      "1580: loss =  tensor(9.6824e-05, grad_fn=<DivBackward0>)\n",
      "1590: loss =  tensor(1.1769e-05, grad_fn=<DivBackward0>)\n",
      "1600: loss =  tensor(3.5931e-05, grad_fn=<DivBackward0>)\n",
      "1610: loss =  tensor(3.0006e-06, grad_fn=<DivBackward0>)\n",
      "1620: loss =  tensor(3.9368e-05, grad_fn=<DivBackward0>)\n",
      "1630: loss =  tensor(6.1768e-05, grad_fn=<DivBackward0>)\n",
      "1640: loss =  tensor(6.2586e-06, grad_fn=<DivBackward0>)\n",
      "1650: loss =  tensor(0.0001, grad_fn=<DivBackward0>)\n",
      "1660: loss =  tensor(4.2229e-06, grad_fn=<DivBackward0>)\n",
      "1670: loss =  tensor(6.5643e-05, grad_fn=<DivBackward0>)\n",
      "1680: loss =  tensor(2.8012e-05, grad_fn=<DivBackward0>)\n",
      "1690: loss =  tensor(9.0737e-05, grad_fn=<DivBackward0>)\n",
      "1700: loss =  tensor(3.3478e-05, grad_fn=<DivBackward0>)\n",
      "1710: loss =  tensor(4.2845e-05, grad_fn=<DivBackward0>)\n",
      "1720: loss =  tensor(6.8838e-06, grad_fn=<DivBackward0>)\n",
      "1730: loss =  tensor(5.7989e-05, grad_fn=<DivBackward0>)\n",
      "1740: loss =  tensor(2.0431e-05, grad_fn=<DivBackward0>)\n",
      "1750: loss =  tensor(1.9901e-05, grad_fn=<DivBackward0>)\n",
      "1760: loss =  tensor(0.0002, grad_fn=<DivBackward0>)\n",
      "1770: loss =  tensor(7.5237e-05, grad_fn=<DivBackward0>)\n",
      "1780: loss =  tensor(3.3383e-06, grad_fn=<DivBackward0>)\n",
      "1790: loss =  tensor(4.4057e-05, grad_fn=<DivBackward0>)\n",
      "1800: loss =  tensor(2.4762e-06, grad_fn=<DivBackward0>)\n",
      "1810: loss =  tensor(1.5325e-05, grad_fn=<DivBackward0>)\n",
      "1820: loss =  tensor(6.6007e-05, grad_fn=<DivBackward0>)\n",
      "1830: loss =  tensor(3.7599e-05, grad_fn=<DivBackward0>)\n",
      "1840: loss =  tensor(1.5348e-05, grad_fn=<DivBackward0>)\n",
      "1850: loss =  tensor(0.0002, grad_fn=<DivBackward0>)\n",
      "1860: loss =  tensor(4.0023e-05, grad_fn=<DivBackward0>)\n",
      "1870: loss =  tensor(1.5289e-05, grad_fn=<DivBackward0>)\n",
      "1880: loss =  tensor(4.6778e-05, grad_fn=<DivBackward0>)\n",
      "1890: loss =  tensor(1.9280e-05, grad_fn=<DivBackward0>)\n",
      "1900: loss =  tensor(3.0577e-06, grad_fn=<DivBackward0>)\n",
      "1910: loss =  tensor(3.2913e-05, grad_fn=<DivBackward0>)\n",
      "1920: loss =  tensor(0.0001, grad_fn=<DivBackward0>)\n",
      "1930: loss =  tensor(3.1010e-05, grad_fn=<DivBackward0>)\n",
      "1940: loss =  tensor(6.6125e-05, grad_fn=<DivBackward0>)\n",
      "1950: loss =  tensor(2.8042e-05, grad_fn=<DivBackward0>)\n",
      "1960: loss =  tensor(9.5584e-05, grad_fn=<DivBackward0>)\n",
      "1970: loss =  tensor(2.8579e-05, grad_fn=<DivBackward0>)\n",
      "1980: loss =  tensor(5.7970e-05, grad_fn=<DivBackward0>)\n",
      "1990: loss =  tensor(1.2191e-05, grad_fn=<DivBackward0>)\n",
      "2000: loss =  tensor(9.1286e-05, grad_fn=<DivBackward0>)\n",
      "2010: loss =  tensor(2.7143e-06, grad_fn=<DivBackward0>)\n",
      "2020: loss =  tensor(8.6763e-05, grad_fn=<DivBackward0>)\n",
      "2030: loss =  tensor(2.4831e-06, grad_fn=<DivBackward0>)\n",
      "2040: loss =  tensor(9.2191e-05, grad_fn=<DivBackward0>)\n",
      "2050: loss =  tensor(2.5354e-06, grad_fn=<DivBackward0>)\n",
      "2060: loss =  tensor(6.8333e-05, grad_fn=<DivBackward0>)\n",
      "2070: loss =  tensor(4.4055e-06, grad_fn=<DivBackward0>)\n",
      "2080: loss =  tensor(5.6509e-05, grad_fn=<DivBackward0>)\n",
      "2090: loss =  tensor(3.3524e-05, grad_fn=<DivBackward0>)\n",
      "2100: loss =  tensor(4.3494e-05, grad_fn=<DivBackward0>)\n",
      "2110: loss =  tensor(5.4355e-05, grad_fn=<DivBackward0>)\n",
      "2120: loss =  tensor(4.7204e-05, grad_fn=<DivBackward0>)\n",
      "2130: loss =  tensor(5.0469e-05, grad_fn=<DivBackward0>)\n",
      "2140: loss =  tensor(3.7174e-05, grad_fn=<DivBackward0>)\n",
      "2150: loss =  tensor(6.3498e-05, grad_fn=<DivBackward0>)\n",
      "2160: loss =  tensor(1.2790e-05, grad_fn=<DivBackward0>)\n",
      "2170: loss =  tensor(9.6447e-05, grad_fn=<DivBackward0>)\n",
      "2180: loss =  tensor(4.5648e-06, grad_fn=<DivBackward0>)\n",
      "2190: loss =  tensor(7.6308e-05, grad_fn=<DivBackward0>)\n",
      "2200: loss =  tensor(1.4027e-05, grad_fn=<DivBackward0>)\n",
      "2210: loss =  tensor(4.2575e-05, grad_fn=<DivBackward0>)\n",
      "2220: loss =  tensor(3.0293e-05, grad_fn=<DivBackward0>)\n",
      "2230: loss =  tensor(6.7081e-06, grad_fn=<DivBackward0>)\n",
      "2240: loss =  tensor(6.2387e-05, grad_fn=<DivBackward0>)\n",
      "2250: loss =  tensor(4.1170e-05, grad_fn=<DivBackward0>)\n",
      "2260: loss =  tensor(6.6943e-05, grad_fn=<DivBackward0>)\n",
      "2270: loss =  tensor(3.2008e-05, grad_fn=<DivBackward0>)\n",
      "2280: loss =  tensor(5.5445e-05, grad_fn=<DivBackward0>)\n",
      "2290: loss =  tensor(1.7345e-05, grad_fn=<DivBackward0>)\n",
      "2300: loss =  tensor(1.5292e-05, grad_fn=<DivBackward0>)\n",
      "2310: loss =  tensor(0.0002, grad_fn=<DivBackward0>)\n",
      "2320: loss =  tensor(4.5844e-05, grad_fn=<DivBackward0>)\n",
      "2330: loss =  tensor(1.6964e-05, grad_fn=<DivBackward0>)\n",
      "2340: loss =  tensor(3.0495e-05, grad_fn=<DivBackward0>)\n",
      "2350: loss =  tensor(6.6451e-05, grad_fn=<DivBackward0>)\n",
      "2360: loss =  tensor(1.3653e-05, grad_fn=<DivBackward0>)\n",
      "2370: loss =  tensor(0.0001, grad_fn=<DivBackward0>)\n",
      "2380: loss =  tensor(4.5454e-05, grad_fn=<DivBackward0>)\n",
      "2390: loss =  tensor(5.4742e-05, grad_fn=<DivBackward0>)\n",
      "2400: loss =  tensor(1.1547e-05, grad_fn=<DivBackward0>)\n",
      "2410: loss =  tensor(6.0982e-05, grad_fn=<DivBackward0>)\n",
      "2420: loss =  tensor(8.2640e-06, grad_fn=<DivBackward0>)\n",
      "2430: loss =  tensor(5.1552e-05, grad_fn=<DivBackward0>)\n",
      "2440: loss =  tensor(3.1714e-05, grad_fn=<DivBackward0>)\n"
     ]
    },
    {
     "name": "stdout",
     "output_type": "stream",
     "text": [
      "2450: loss =  tensor(4.0815e-05, grad_fn=<DivBackward0>)\n",
      "2460: loss =  tensor(3.6446e-05, grad_fn=<DivBackward0>)\n",
      "2470: loss =  tensor(1.6764e-05, grad_fn=<DivBackward0>)\n",
      "2480: loss =  tensor(0.0001, grad_fn=<DivBackward0>)\n",
      "2490: loss =  tensor(2.1688e-05, grad_fn=<DivBackward0>)\n",
      "2500: loss =  tensor(5.5098e-05, grad_fn=<DivBackward0>)\n",
      "2510: loss =  tensor(1.6502e-05, grad_fn=<DivBackward0>)\n",
      "2520: loss =  tensor(9.6388e-05, grad_fn=<DivBackward0>)\n",
      "2530: loss =  tensor(9.5167e-06, grad_fn=<DivBackward0>)\n",
      "2540: loss =  tensor(8.4946e-05, grad_fn=<DivBackward0>)\n",
      "2550: loss =  tensor(5.8868e-06, grad_fn=<DivBackward0>)\n",
      "2560: loss =  tensor(9.5979e-05, grad_fn=<DivBackward0>)\n",
      "2570: loss =  tensor(3.9964e-06, grad_fn=<DivBackward0>)\n",
      "2580: loss =  tensor(7.8224e-05, grad_fn=<DivBackward0>)\n",
      "2590: loss =  tensor(3.4381e-06, grad_fn=<DivBackward0>)\n",
      "2600: loss =  tensor(7.9912e-05, grad_fn=<DivBackward0>)\n",
      "2610: loss =  tensor(1.3325e-06, grad_fn=<DivBackward0>)\n",
      "2620: loss =  tensor(6.3146e-05, grad_fn=<DivBackward0>)\n",
      "2630: loss =  tensor(3.4716e-05, grad_fn=<DivBackward0>)\n",
      "2640: loss =  tensor(2.2775e-05, grad_fn=<DivBackward0>)\n",
      "2650: loss =  tensor(0.0001, grad_fn=<DivBackward0>)\n",
      "2660: loss =  tensor(1.2599e-05, grad_fn=<DivBackward0>)\n",
      "2670: loss =  tensor(4.4624e-05, grad_fn=<DivBackward0>)\n",
      "2680: loss =  tensor(3.7737e-06, grad_fn=<DivBackward0>)\n",
      "2690: loss =  tensor(2.8577e-06, grad_fn=<DivBackward0>)\n",
      "2700: loss =  tensor(6.7232e-05, grad_fn=<DivBackward0>)\n",
      "2710: loss =  tensor(2.5703e-05, grad_fn=<DivBackward0>)\n",
      "2720: loss =  tensor(5.8922e-05, grad_fn=<DivBackward0>)\n",
      "2730: loss =  tensor(4.5809e-05, grad_fn=<DivBackward0>)\n",
      "2740: loss =  tensor(6.8836e-06, grad_fn=<DivBackward0>)\n",
      "2750: loss =  tensor(4.7200e-06, grad_fn=<DivBackward0>)\n",
      "2760: loss =  tensor(3.3831e-05, grad_fn=<DivBackward0>)\n",
      "2770: loss =  tensor(7.5982e-05, grad_fn=<DivBackward0>)\n",
      "2780: loss =  tensor(3.9097e-05, grad_fn=<DivBackward0>)\n",
      "2790: loss =  tensor(3.9934e-05, grad_fn=<DivBackward0>)\n",
      "2800: loss =  tensor(1.2600e-05, grad_fn=<DivBackward0>)\n",
      "2810: loss =  tensor(0.0001, grad_fn=<DivBackward0>)\n",
      "2820: loss =  tensor(7.1415e-06, grad_fn=<DivBackward0>)\n",
      "2830: loss =  tensor(5.5570e-05, grad_fn=<DivBackward0>)\n",
      "2840: loss =  tensor(1.0328e-05, grad_fn=<DivBackward0>)\n",
      "2850: loss =  tensor(4.0488e-06, grad_fn=<DivBackward0>)\n",
      "2860: loss =  tensor(7.9803e-05, grad_fn=<DivBackward0>)\n",
      "2870: loss =  tensor(7.0706e-06, grad_fn=<DivBackward0>)\n",
      "2880: loss =  tensor(2.0288e-05, grad_fn=<DivBackward0>)\n",
      "2890: loss =  tensor(3.0029e-05, grad_fn=<DivBackward0>)\n",
      "2900: loss =  tensor(1.1661e-05, grad_fn=<DivBackward0>)\n",
      "2910: loss =  tensor(1.7065e-06, grad_fn=<DivBackward0>)\n",
      "2920: loss =  tensor(1.0387e-06, grad_fn=<DivBackward0>)\n",
      "2930: loss =  tensor(2.1809e-06, grad_fn=<DivBackward0>)\n",
      "2940: loss =  tensor(7.9142e-05, grad_fn=<DivBackward0>)\n",
      "2950: loss =  tensor(9.9318e-06, grad_fn=<DivBackward0>)\n",
      "2960: loss =  tensor(2.0239e-05, grad_fn=<DivBackward0>)\n",
      "2970: loss =  tensor(3.5677e-05, grad_fn=<DivBackward0>)\n",
      "2980: loss =  tensor(2.9536e-05, grad_fn=<DivBackward0>)\n",
      "2990: loss =  tensor(5.4990e-06, grad_fn=<DivBackward0>)\n"
     ]
    },
    {
     "data": {
      "text/plain": [
       "Text(0.5, 0, 'Epoch')"
      ]
     },
     "execution_count": 34,
     "metadata": {},
     "output_type": "execute_result"
    },
    {
     "data": {
      "image/png": "[encoded data removed]",
      "text/plain": [
       "<Figure size 432x288 with 1 Axes>"
      ]
     },
     "metadata": {
      "needs_background": "light"
     },
     "output_type": "display_data"
    }
   ],
   "source": [
    "EPOCHS = 2000\n",
    "\n",
    "loss_arr_curr_10 = np.empty(EPOCHS, dtype=np.float)\n",
    "epoch_arr_curr_10 = np.empty(EPOCHS, dtype=np.float)\n",
    "\n",
    "for epoch in range(EPOCHS):\n",
    "    mb = minibatch(num_points, N_minibatches)\n",
    "    for i in range(N_minibatches):\n",
    "        N_output = model(t[mb[i]])\n",
    "        # Compute and print loss\n",
    "        loss = costfunction(t[mb[i]], N_output, A, f_trial)\n",
    "        # Use autograd to compute the backward pass.\n",
    "        optimizer.zero_grad()\n",
    "        loss.backward()\n",
    "        optimizer.step()\n",
    "        \n",
    "    N_output = model(t) \n",
    "    loss = costfunction(t, N_output, A, f_trial)\n",
    "    # Compute loss of entire sample\n",
    "    if epoch % 10 == 0:\n",
    "        print(f\"{TOT_EPOCHS_10 + epoch}: loss = \",loss) \n",
    "    loss_arr_curr_10[epoch] = loss\n",
    "    epoch_arr_curr_10[epoch] = TOT_EPOCHS_10 + epoch  \n",
    "        \n",
    "        \n",
    "TOT_EPOCHS_10 += EPOCHS    \n",
    "loss_arr_tot_10 = np.append(loss_arr_tot_10, loss_arr_curr_10)\n",
    "epoch_arr_tot_10 = np.append(epoch_arr_tot_10, epoch_arr_curr_10)\n",
    "\n",
    "plt.semilogy(epoch_arr_tot_10, loss_arr_tot_10)\n",
    "plt.ylabel(\"Loss\")\n",
    "plt.xlabel(\"Epoch\")"
   ]
  },
  {
   "cell_type": "code",
   "execution_count": 35,
   "metadata": {},
   "outputs": [
    {
     "data": {
      "image/png": "[encoded data removed]",
      "text/plain": [
       "<Figure size 288x216 with 1 Axes>"
      ]
     },
     "metadata": {
      "needs_background": "light"
     },
     "output_type": "display_data"
    }
   ],
   "source": [
    "plt.figure(figsize=(4,3))\n",
    "plt.semilogy(epoch_arr_tot_10, loss_arr_tot_10)\n",
    "plt.ylabel(\"Loss\")\n",
    "plt.xlabel(\"Epoch\")\n",
    "plt.savefig(\"../figs/eigenval_loss.pdf\")"
   ]
  },
  {
   "cell_type": "code",
   "execution_count": 36,
   "metadata": {
    "scrolled": false
   },
   "outputs": [
    {
     "data": {
      "image/png": "[encoded data removed]",
      "text/plain": [
       "<Figure size 288x432 with 1 Axes>"
      ]
     },
     "metadata": {
      "needs_background": "light"
     },
     "output_type": "display_data"
    }
   ],
   "source": [
    "N_output = model(t) \n",
    "v_pred_np = np.zeros([t.size(0), 6])\n",
    "for i in range(t.size(0)):\n",
    "    ft = f_trial(t[i,:], N_output[i,:].reshape(-1,1)).detach().numpy().reshape(6)\n",
    "    v_pred_np[i] = ft / np.sqrt(np.dot(ft, ft))\n",
    "\n",
    "# Solve ODE analytically using FW Euler\n",
    "x_t = v0.detach().numpy()\n",
    "A_t = A.detach().numpy()\n",
    "dt = 0.01\n",
    "N = 200\n",
    "time = np.linspace(0, dt * N, N)\n",
    "x_euler = np.zeros([N, 6])\n",
    "\n",
    "for i in range(N):\n",
    "    x_euler[i, :] = x_t.reshape(6)\n",
    "    x_euler[i, :] /= np.sqrt(np.dot(x_euler[i, :], x_euler[i, :]))\n",
    "    x_t = x_t + (-x_t + (x_t.T @ x_t * A_t + (1 - x_t.T @ A_t @ x_t) * np.identity(6)) @ x_t)*dt\n",
    "x_euler[N-1, :] = x_t.reshape(6)\n",
    "x_euler[N-1, :] /= np.sqrt(np.dot(x_euler[i, :], x_euler[i, :]))\n",
    "\n",
    "colors = [\"tab:blue\", \"tab:orange\", \"tab:green\", \"tab:red\", \"tab:purple\", \"tab:brown\"]\n",
    "\n",
    "plt.figure(figsize=(4, 6))\n",
    "#plt.subplot(121)\n",
    "\n",
    "y_min = min([np.amin(x_euler), np.amin(v_pred_np)])\n",
    "y_max = max([np.amax(x_euler), np.amax(v_pred_np)])\n",
    "\n",
    "for d in range(6):\n",
    "    plt.plot(t.detach().numpy(), v_pred_np[:, d], ls = \"solid\", color=colors[d], linewidth=2)\n",
    "    plt.plot(time, x_euler[:, d], ls=\":\" , color=colors[d], linewidth=1.5)\n",
    "    plt.axhline(eigvec[d, -1], alpha=0.25, color=colors[d], ls=\"--\")\n",
    "#plt.yticks(x_euler[-1, :])\n",
    "plt.yticks(v_pred_np[-1, :])\n",
    "plt.ylim(y_min,y_max)\n",
    "plt.xlabel(\"t\")\n",
    "\n",
    "#plt.tick_params(axis='y', which='both', labelleft='off', labelright='on')\n",
    "#plt.gca().yaxis.set_label_position(\"right\")\n",
    "plt.ylabel(\"Eigenvector components\")\n",
    "\n",
    "\"\"\"\n",
    "plt.subplot(122)\n",
    "for d in range(6):\n",
    "    plt.plot(t.detach().numpy(), v_pred_np[:, d], \"o\", color=colors[d], linewidth=3)\n",
    "    plt.axhline(eigvec[d, -1], alpha=0.25, color=colors[d], ls=\"--\")\n",
    "plt.yticks(v_pred_np[-1, :])\n",
    "plt.ylim(y_min, y_max)\n",
    "plt.xlabel(\"t\")\n",
    "\"\"\"\n",
    "\n",
    "plt.tight_layout()\n",
    "plt.savefig(\"../figs/eigenvec_dynamics.pdf\")\n",
    "plt.show()"
   ]
  },
  {
   "cell_type": "code",
   "execution_count": 37,
   "metadata": {},
   "outputs": [
    {
     "name": "stdout",
     "output_type": "stream",
     "text": [
      "NN Eigenvalue:      3.614\n",
      "Numpy Eigenvalue:   3.722\n",
      "\n",
      "Eigenvectors:\n",
      "[ 0.521  0.001 -0.233  0.733  0.187 -0.319] NN\n",
      "[ 0.578 -0.021 -0.337  0.627  0.239 -0.318] Numpy\n",
      "\n",
      "dot product: 0.986\n"
     ]
    }
   ],
   "source": [
    "# Compute eigenvalue\n",
    "eigval_nn = (v_pred_np[-1, :].T @ A_t @ v_pred_np[-1, :] / (v_pred_np[-1, :].T @ v_pred_np[-1, :]))\n",
    "print(\"NN Eigenvalue: %10.3f\" \n",
    "      % eigval_nn)\n",
    "print(\"Numpy Eigenvalue: %7.3f\" % eigval[-1])\n",
    "\n",
    "with np.printoptions(precision=3):\n",
    "    print(\"\\nEigenvectors:\")\n",
    "    print(v_pred_np[-1, :], \"NN\")\n",
    "    print(eigvec[:,-1], \"Numpy\")\n",
    "\n",
    "# Note; eigvec is normed!\n",
    "print(\"\\ndot product: %.3f\" % np.dot(eigvec[:, -1], v_pred_np[-1, :]))"
   ]
  },
  {
   "cell_type": "markdown",
   "metadata": {},
   "source": [
    "## Compute the smalles eigenvalue & Eigenvector"
   ]
  },
  {
   "cell_type": "code",
   "execution_count": 38,
   "metadata": {},
   "outputs": [
    {
     "data": {
      "text/plain": [
       "tensor([[ 0.0173, -0.7011,  2.4403, -0.6338, -0.3444,  2.7550],\n",
       "        [-0.7011,  3.4166, -1.1724,  0.2233,  1.4215,  0.9924],\n",
       "        [ 2.4403, -1.1724,  1.7178,  0.4207,  1.0524,  0.3791],\n",
       "        [-0.6338,  0.2233,  0.4207, -1.7434, -2.0975,  0.7133],\n",
       "        [-0.3444,  1.4215,  1.0524, -2.0975,  3.5050, -0.5459],\n",
       "        [ 2.7550,  0.9924,  0.3791,  0.7133, -0.5459,  1.8151]])"
      ]
     },
     "execution_count": 38,
     "metadata": {},
     "output_type": "execute_result"
    }
   ],
   "source": [
    "A_neg = - torch.clone(A)\n",
    "A_neg"
   ]
  },
  {
   "cell_type": "code",
   "execution_count": 13,
   "metadata": {},
   "outputs": [
    {
     "name": "stdout",
     "output_type": "stream",
     "text": [
      "1\n"
     ]
    }
   ],
   "source": [
    "# Shape of network\n",
    "input_dim = 1\n",
    "hidden_neurons = 50\n",
    "output_dim = v0.size(0)\n",
    "\n",
    "learning_rate = 2e-2\n",
    "N_minibatches = 1#int(num_points / 12)\n",
    "print(N_minibatches)\n",
    "\n",
    "model_small = torch.nn.Sequential(\n",
    "          torch.nn.Linear(input_dim, hidden_neurons),\n",
    "          torch.nn.ReLU(),\n",
    "          torch.nn.Linear(hidden_neurons, hidden_neurons),\n",
    "          torch.nn.ReLU(),\n",
    "          torch.nn.Linear(hidden_neurons, output_dim),\n",
    "        )\n",
    "optimizer_small = torch.optim.Adam(model_small.parameters(), lr=learning_rate)\n",
    "\n",
    "\n",
    "TOT_EPOCHS_small = 0\n",
    "\n",
    "loss_arr_tot_small = np.empty(0, dtype=np.float)\n",
    "epoch_arr_tot_small = np.empty(0, dtype=np.float)"
   ]
  },
  {
   "cell_type": "code",
   "execution_count": 33,
   "metadata": {},
   "outputs": [
    {
     "name": "stdout",
     "output_type": "stream",
     "text": [
      "1000: loss =  tensor(1.6278e-05, grad_fn=<DivBackward0>)\n",
      "1010: loss =  tensor(1.7906e-05, grad_fn=<DivBackward0>)\n",
      "1020: loss =  tensor(7.9514e-06, grad_fn=<DivBackward0>)\n",
      "1030: loss =  tensor(2.9511e-05, grad_fn=<DivBackward0>)\n",
      "1040: loss =  tensor(2.9683e-05, grad_fn=<DivBackward0>)\n",
      "1050: loss =  tensor(3.2959e-05, grad_fn=<DivBackward0>)\n",
      "1060: loss =  tensor(1.9512e-05, grad_fn=<DivBackward0>)\n",
      "1070: loss =  tensor(1.7016e-05, grad_fn=<DivBackward0>)\n",
      "1080: loss =  tensor(8.1654e-05, grad_fn=<DivBackward0>)\n",
      "1090: loss =  tensor(3.9579e-05, grad_fn=<DivBackward0>)\n",
      "1100: loss =  tensor(6.2417e-06, grad_fn=<DivBackward0>)\n",
      "1110: loss =  tensor(5.8230e-05, grad_fn=<DivBackward0>)\n",
      "1120: loss =  tensor(9.3589e-06, grad_fn=<DivBackward0>)\n",
      "1130: loss =  tensor(1.5882e-05, grad_fn=<DivBackward0>)\n",
      "1140: loss =  tensor(1.5028e-05, grad_fn=<DivBackward0>)\n",
      "1150: loss =  tensor(7.5990e-05, grad_fn=<DivBackward0>)\n",
      "1160: loss =  tensor(3.7442e-05, grad_fn=<DivBackward0>)\n",
      "1170: loss =  tensor(5.7622e-06, grad_fn=<DivBackward0>)\n",
      "1180: loss =  tensor(4.3352e-05, grad_fn=<DivBackward0>)\n",
      "1190: loss =  tensor(6.3025e-06, grad_fn=<DivBackward0>)\n",
      "1200: loss =  tensor(1.9739e-05, grad_fn=<DivBackward0>)\n",
      "1210: loss =  tensor(2.0978e-05, grad_fn=<DivBackward0>)\n",
      "1220: loss =  tensor(4.0047e-05, grad_fn=<DivBackward0>)\n",
      "1230: loss =  tensor(3.7330e-05, grad_fn=<DivBackward0>)\n",
      "1240: loss =  tensor(7.4535e-06, grad_fn=<DivBackward0>)\n",
      "1250: loss =  tensor(2.3313e-05, grad_fn=<DivBackward0>)\n",
      "1260: loss =  tensor(5.7879e-05, grad_fn=<DivBackward0>)\n",
      "1270: loss =  tensor(4.1715e-05, grad_fn=<DivBackward0>)\n",
      "1280: loss =  tensor(5.0683e-06, grad_fn=<DivBackward0>)\n",
      "1290: loss =  tensor(3.3959e-05, grad_fn=<DivBackward0>)\n",
      "1300: loss =  tensor(2.2543e-05, grad_fn=<DivBackward0>)\n",
      "1310: loss =  tensor(3.2567e-05, grad_fn=<DivBackward0>)\n",
      "1320: loss =  tensor(2.4719e-05, grad_fn=<DivBackward0>)\n",
      "1330: loss =  tensor(1.8531e-05, grad_fn=<DivBackward0>)\n",
      "1340: loss =  tensor(5.0961e-05, grad_fn=<DivBackward0>)\n",
      "1350: loss =  tensor(4.6138e-06, grad_fn=<DivBackward0>)\n",
      "1360: loss =  tensor(4.8892e-05, grad_fn=<DivBackward0>)\n",
      "1370: loss =  tensor(6.1627e-06, grad_fn=<DivBackward0>)\n",
      "1380: loss =  tensor(2.7517e-05, grad_fn=<DivBackward0>)\n",
      "1390: loss =  tensor(1.8407e-05, grad_fn=<DivBackward0>)\n",
      "1400: loss =  tensor(2.9869e-05, grad_fn=<DivBackward0>)\n",
      "1410: loss =  tensor(1.3243e-05, grad_fn=<DivBackward0>)\n",
      "1420: loss =  tensor(7.4384e-05, grad_fn=<DivBackward0>)\n",
      "1430: loss =  tensor(2.0049e-05, grad_fn=<DivBackward0>)\n",
      "1440: loss =  tensor(1.9684e-05, grad_fn=<DivBackward0>)\n",
      "1450: loss =  tensor(9.7891e-06, grad_fn=<DivBackward0>)\n",
      "1460: loss =  tensor(6.0567e-05, grad_fn=<DivBackward0>)\n",
      "1470: loss =  tensor(4.4217e-06, grad_fn=<DivBackward0>)\n",
      "1480: loss =  tensor(6.1541e-05, grad_fn=<DivBackward0>)\n",
      "1490: loss =  tensor(7.8313e-06, grad_fn=<DivBackward0>)\n",
      "1500: loss =  tensor(2.8016e-05, grad_fn=<DivBackward0>)\n",
      "1510: loss =  tensor(4.0178e-06, grad_fn=<DivBackward0>)\n",
      "1520: loss =  tensor(2.9366e-05, grad_fn=<DivBackward0>)\n",
      "1530: loss =  tensor(4.5107e-05, grad_fn=<DivBackward0>)\n",
      "1540: loss =  tensor(3.6468e-05, grad_fn=<DivBackward0>)\n",
      "1550: loss =  tensor(3.6168e-05, grad_fn=<DivBackward0>)\n",
      "1560: loss =  tensor(1.0141e-05, grad_fn=<DivBackward0>)\n",
      "1570: loss =  tensor(1.0857e-05, grad_fn=<DivBackward0>)\n",
      "1580: loss =  tensor(8.0986e-06, grad_fn=<DivBackward0>)\n",
      "1590: loss =  tensor(0.0001, grad_fn=<DivBackward0>)\n",
      "1600: loss =  tensor(3.4442e-05, grad_fn=<DivBackward0>)\n",
      "1610: loss =  tensor(5.2871e-06, grad_fn=<DivBackward0>)\n",
      "1620: loss =  tensor(1.7511e-05, grad_fn=<DivBackward0>)\n",
      "1630: loss =  tensor(1.2411e-05, grad_fn=<DivBackward0>)\n",
      "1640: loss =  tensor(2.4570e-05, grad_fn=<DivBackward0>)\n",
      "1650: loss =  tensor(8.4176e-06, grad_fn=<DivBackward0>)\n",
      "1660: loss =  tensor(1.0582e-05, grad_fn=<DivBackward0>)\n",
      "1670: loss =  tensor(0.0001, grad_fn=<DivBackward0>)\n",
      "1680: loss =  tensor(8.4318e-05, grad_fn=<DivBackward0>)\n",
      "1690: loss =  tensor(3.1085e-05, grad_fn=<DivBackward0>)\n",
      "1700: loss =  tensor(4.6455e-06, grad_fn=<DivBackward0>)\n",
      "1710: loss =  tensor(8.3894e-06, grad_fn=<DivBackward0>)\n",
      "1720: loss =  tensor(5.6499e-06, grad_fn=<DivBackward0>)\n",
      "1730: loss =  tensor(2.8135e-05, grad_fn=<DivBackward0>)\n",
      "1740: loss =  tensor(3.4328e-05, grad_fn=<DivBackward0>)\n",
      "1750: loss =  tensor(3.3057e-05, grad_fn=<DivBackward0>)\n",
      "1760: loss =  tensor(1.4165e-05, grad_fn=<DivBackward0>)\n",
      "1770: loss =  tensor(4.3734e-05, grad_fn=<DivBackward0>)\n",
      "1780: loss =  tensor(4.3425e-06, grad_fn=<DivBackward0>)\n",
      "1790: loss =  tensor(3.8161e-05, grad_fn=<DivBackward0>)\n",
      "1800: loss =  tensor(8.7264e-06, grad_fn=<DivBackward0>)\n",
      "1810: loss =  tensor(9.3191e-06, grad_fn=<DivBackward0>)\n",
      "1820: loss =  tensor(0.0001, grad_fn=<DivBackward0>)\n",
      "1830: loss =  tensor(5.7032e-05, grad_fn=<DivBackward0>)\n",
      "1840: loss =  tensor(6.9076e-06, grad_fn=<DivBackward0>)\n",
      "1850: loss =  tensor(8.9425e-06, grad_fn=<DivBackward0>)\n",
      "1860: loss =  tensor(2.7078e-05, grad_fn=<DivBackward0>)\n",
      "1870: loss =  tensor(4.0765e-06, grad_fn=<DivBackward0>)\n",
      "1880: loss =  tensor(2.4952e-05, grad_fn=<DivBackward0>)\n",
      "1890: loss =  tensor(2.1844e-05, grad_fn=<DivBackward0>)\n",
      "1900: loss =  tensor(3.5641e-06, grad_fn=<DivBackward0>)\n",
      "1910: loss =  tensor(5.1045e-06, grad_fn=<DivBackward0>)\n",
      "1920: loss =  tensor(0.0001, grad_fn=<DivBackward0>)\n",
      "1930: loss =  tensor(0.0001, grad_fn=<DivBackward0>)\n",
      "1940: loss =  tensor(7.4270e-05, grad_fn=<DivBackward0>)\n",
      "1950: loss =  tensor(3.0190e-05, grad_fn=<DivBackward0>)\n",
      "1960: loss =  tensor(1.6075e-05, grad_fn=<DivBackward0>)\n",
      "1970: loss =  tensor(9.3667e-06, grad_fn=<DivBackward0>)\n",
      "1980: loss =  tensor(2.5559e-06, grad_fn=<DivBackward0>)\n",
      "1990: loss =  tensor(6.0489e-06, grad_fn=<DivBackward0>)\n",
      "2000: loss =  tensor(1.1489e-05, grad_fn=<DivBackward0>)\n",
      "2010: loss =  tensor(4.7411e-05, grad_fn=<DivBackward0>)\n",
      "2020: loss =  tensor(4.6128e-06, grad_fn=<DivBackward0>)\n",
      "2030: loss =  tensor(4.7831e-05, grad_fn=<DivBackward0>)\n",
      "2040: loss =  tensor(4.1123e-06, grad_fn=<DivBackward0>)\n",
      "2050: loss =  tensor(5.9917e-05, grad_fn=<DivBackward0>)\n",
      "2060: loss =  tensor(8.3650e-06, grad_fn=<DivBackward0>)\n",
      "2070: loss =  tensor(2.6536e-05, grad_fn=<DivBackward0>)\n",
      "2080: loss =  tensor(7.8323e-06, grad_fn=<DivBackward0>)\n",
      "2090: loss =  tensor(3.6226e-05, grad_fn=<DivBackward0>)\n",
      "2100: loss =  tensor(8.8980e-06, grad_fn=<DivBackward0>)\n",
      "2110: loss =  tensor(6.4397e-06, grad_fn=<DivBackward0>)\n",
      "2120: loss =  tensor(8.7741e-05, grad_fn=<DivBackward0>)\n",
      "2130: loss =  tensor(1.1035e-05, grad_fn=<DivBackward0>)\n",
      "2140: loss =  tensor(3.4213e-05, grad_fn=<DivBackward0>)\n",
      "2150: loss =  tensor(3.7908e-05, grad_fn=<DivBackward0>)\n",
      "2160: loss =  tensor(4.6854e-05, grad_fn=<DivBackward0>)\n",
      "2170: loss =  tensor(2.1169e-05, grad_fn=<DivBackward0>)\n",
      "2180: loss =  tensor(2.8319e-06, grad_fn=<DivBackward0>)\n",
      "2190: loss =  tensor(1.8023e-05, grad_fn=<DivBackward0>)\n",
      "2200: loss =  tensor(5.7642e-06, grad_fn=<DivBackward0>)\n",
      "2210: loss =  tensor(3.1593e-06, grad_fn=<DivBackward0>)\n",
      "2220: loss =  tensor(1.9780e-05, grad_fn=<DivBackward0>)\n",
      "2230: loss =  tensor(0.0001, grad_fn=<DivBackward0>)\n",
      "2240: loss =  tensor(0.0001, grad_fn=<DivBackward0>)\n",
      "2250: loss =  tensor(4.3022e-05, grad_fn=<DivBackward0>)\n",
      "2260: loss =  tensor(2.0645e-05, grad_fn=<DivBackward0>)\n",
      "2270: loss =  tensor(1.0770e-05, grad_fn=<DivBackward0>)\n",
      "2280: loss =  tensor(3.0959e-06, grad_fn=<DivBackward0>)\n",
      "2290: loss =  tensor(5.9860e-06, grad_fn=<DivBackward0>)\n",
      "2300: loss =  tensor(9.7947e-06, grad_fn=<DivBackward0>)\n",
      "2310: loss =  tensor(5.4195e-05, grad_fn=<DivBackward0>)\n",
      "2320: loss =  tensor(5.3226e-06, grad_fn=<DivBackward0>)\n",
      "2330: loss =  tensor(5.0650e-05, grad_fn=<DivBackward0>)\n",
      "2340: loss =  tensor(2.6258e-06, grad_fn=<DivBackward0>)\n",
      "2350: loss =  tensor(6.3029e-05, grad_fn=<DivBackward0>)\n",
      "2360: loss =  tensor(8.7751e-06, grad_fn=<DivBackward0>)\n",
      "2370: loss =  tensor(4.0020e-05, grad_fn=<DivBackward0>)\n",
      "2380: loss =  tensor(2.0541e-05, grad_fn=<DivBackward0>)\n",
      "2390: loss =  tensor(1.7843e-05, grad_fn=<DivBackward0>)\n",
      "2400: loss =  tensor(5.3300e-06, grad_fn=<DivBackward0>)\n",
      "2410: loss =  tensor(5.8689e-05, grad_fn=<DivBackward0>)\n",
      "2420: loss =  tensor(2.2972e-06, grad_fn=<DivBackward0>)\n",
      "2430: loss =  tensor(7.2241e-05, grad_fn=<DivBackward0>)\n",
      "2440: loss =  tensor(1.3308e-05, grad_fn=<DivBackward0>)\n"
     ]
    },
    {
     "name": "stdout",
     "output_type": "stream",
     "text": [
      "2450: loss =  tensor(3.1760e-05, grad_fn=<DivBackward0>)\n",
      "2460: loss =  tensor(3.1534e-05, grad_fn=<DivBackward0>)\n",
      "2470: loss =  tensor(6.0666e-06, grad_fn=<DivBackward0>)\n",
      "2480: loss =  tensor(2.0038e-05, grad_fn=<DivBackward0>)\n",
      "2490: loss =  tensor(2.7958e-05, grad_fn=<DivBackward0>)\n",
      "2500: loss =  tensor(2.7898e-06, grad_fn=<DivBackward0>)\n",
      "2510: loss =  tensor(3.7835e-05, grad_fn=<DivBackward0>)\n",
      "2520: loss =  tensor(2.9695e-05, grad_fn=<DivBackward0>)\n",
      "2530: loss =  tensor(5.7183e-05, grad_fn=<DivBackward0>)\n",
      "2540: loss =  tensor(4.9507e-06, grad_fn=<DivBackward0>)\n",
      "2550: loss =  tensor(3.8750e-05, grad_fn=<DivBackward0>)\n",
      "2560: loss =  tensor(2.9828e-05, grad_fn=<DivBackward0>)\n",
      "2570: loss =  tensor(2.8264e-06, grad_fn=<DivBackward0>)\n",
      "2580: loss =  tensor(1.6647e-05, grad_fn=<DivBackward0>)\n",
      "2590: loss =  tensor(3.1624e-05, grad_fn=<DivBackward0>)\n",
      "2600: loss =  tensor(5.5118e-06, grad_fn=<DivBackward0>)\n",
      "2610: loss =  tensor(4.5745e-06, grad_fn=<DivBackward0>)\n",
      "2620: loss =  tensor(7.6162e-05, grad_fn=<DivBackward0>)\n",
      "2630: loss =  tensor(1.1078e-05, grad_fn=<DivBackward0>)\n",
      "2640: loss =  tensor(1.0173e-05, grad_fn=<DivBackward0>)\n",
      "2650: loss =  tensor(2.5135e-05, grad_fn=<DivBackward0>)\n",
      "2660: loss =  tensor(1.7380e-05, grad_fn=<DivBackward0>)\n",
      "2670: loss =  tensor(9.9356e-06, grad_fn=<DivBackward0>)\n",
      "2680: loss =  tensor(3.8847e-06, grad_fn=<DivBackward0>)\n",
      "2690: loss =  tensor(2.1152e-06, grad_fn=<DivBackward0>)\n",
      "2700: loss =  tensor(3.2644e-06, grad_fn=<DivBackward0>)\n",
      "2710: loss =  tensor(5.9542e-06, grad_fn=<DivBackward0>)\n",
      "2720: loss =  tensor(3.3136e-05, grad_fn=<DivBackward0>)\n",
      "2730: loss =  tensor(3.0472e-05, grad_fn=<DivBackward0>)\n",
      "2740: loss =  tensor(2.2700e-05, grad_fn=<DivBackward0>)\n",
      "2750: loss =  tensor(2.6043e-05, grad_fn=<DivBackward0>)\n",
      "2760: loss =  tensor(2.6327e-05, grad_fn=<DivBackward0>)\n",
      "2770: loss =  tensor(1.6328e-05, grad_fn=<DivBackward0>)\n",
      "2780: loss =  tensor(3.0465e-05, grad_fn=<DivBackward0>)\n",
      "2790: loss =  tensor(1.3742e-05, grad_fn=<DivBackward0>)\n",
      "2800: loss =  tensor(2.5538e-05, grad_fn=<DivBackward0>)\n",
      "2810: loss =  tensor(2.3594e-05, grad_fn=<DivBackward0>)\n",
      "2820: loss =  tensor(2.0180e-05, grad_fn=<DivBackward0>)\n",
      "2830: loss =  tensor(3.0276e-05, grad_fn=<DivBackward0>)\n",
      "2840: loss =  tensor(6.7856e-06, grad_fn=<DivBackward0>)\n",
      "2850: loss =  tensor(5.4166e-05, grad_fn=<DivBackward0>)\n",
      "2860: loss =  tensor(4.8927e-06, grad_fn=<DivBackward0>)\n",
      "2870: loss =  tensor(1.0482e-05, grad_fn=<DivBackward0>)\n",
      "2880: loss =  tensor(9.6792e-05, grad_fn=<DivBackward0>)\n",
      "2890: loss =  tensor(9.9694e-06, grad_fn=<DivBackward0>)\n",
      "2900: loss =  tensor(1.5454e-05, grad_fn=<DivBackward0>)\n",
      "2910: loss =  tensor(5.8008e-05, grad_fn=<DivBackward0>)\n",
      "2920: loss =  tensor(3.7772e-05, grad_fn=<DivBackward0>)\n",
      "2930: loss =  tensor(1.0181e-05, grad_fn=<DivBackward0>)\n",
      "2940: loss =  tensor(6.9805e-06, grad_fn=<DivBackward0>)\n",
      "2950: loss =  tensor(3.7663e-06, grad_fn=<DivBackward0>)\n",
      "2960: loss =  tensor(2.3922e-05, grad_fn=<DivBackward0>)\n",
      "2970: loss =  tensor(5.5200e-05, grad_fn=<DivBackward0>)\n",
      "2980: loss =  tensor(4.3296e-06, grad_fn=<DivBackward0>)\n",
      "2990: loss =  tensor(5.1819e-05, grad_fn=<DivBackward0>)\n"
     ]
    },
    {
     "data": {
      "text/plain": [
       "Text(0.5, 0, 'Epoch')"
      ]
     },
     "execution_count": 33,
     "metadata": {},
     "output_type": "execute_result"
    },
    {
     "data": {
      "image/png": "[encoded data removed]",
      "text/plain": [
       "<Figure size 432x288 with 1 Axes>"
      ]
     },
     "metadata": {
      "needs_background": "light"
     },
     "output_type": "display_data"
    }
   ],
   "source": [
    "EPOCHS = 2000\n",
    "\n",
    "loss_arr_curr_small = np.empty(EPOCHS, dtype=np.float)\n",
    "epoch_arr_curr_small = np.empty(EPOCHS, dtype=np.float)\n",
    "\n",
    "for epoch in range(EPOCHS):\n",
    "    mb = minibatch(num_points, N_minibatches)\n",
    "    for i in range(N_minibatches):\n",
    "        N_output = model_small(t[mb[i]])\n",
    "        \n",
    "        # Compute and print loss\n",
    "        loss = costfunction(t[mb[i]], N_output, A_neg, f_trial)\n",
    "        # Use autograd to compute the backward pass.\n",
    "        optimizer_small.zero_grad()\n",
    "        loss.backward()\n",
    "        optimizer_small.step()\n",
    "        \n",
    "    N_output = model_small(t) \n",
    "    loss = costfunction(t, N_output, A_neg, f_trial)\n",
    "    # Compute loss of entire sample\n",
    "    if epoch % 10 == 0:\n",
    "        print(f\"{TOT_EPOCHS_small + epoch}: loss = \",loss) \n",
    "    loss_arr_curr_small[epoch] = loss\n",
    "    epoch_arr_curr_small[epoch] = TOT_EPOCHS_small + epoch  \n",
    "        \n",
    "        \n",
    "TOT_EPOCHS_small += EPOCHS    \n",
    "loss_arr_tot_small = np.append(loss_arr_tot_small, loss_arr_curr_small)\n",
    "epoch_arr_tot_small = np.append(epoch_arr_tot_small, epoch_arr_curr_small)\n",
    "\n",
    "plt.semilogy(epoch_arr_tot_small, loss_arr_tot_small)\n",
    "plt.ylabel(\"Loss\")\n",
    "plt.xlabel(\"Epoch\")"
   ]
  },
  {
   "cell_type": "code",
   "execution_count": 39,
   "metadata": {},
   "outputs": [
    {
     "data": {
      "image/png": "[encoded data removed]",
      "text/plain": [
       "<Figure size 288x216 with 1 Axes>"
      ]
     },
     "metadata": {
      "needs_background": "light"
     },
     "output_type": "display_data"
    }
   ],
   "source": [
    "plt.figure(figsize=(4,3))\n",
    "plt.semilogy(epoch_arr_tot_small, loss_arr_tot_small)\n",
    "plt.ylabel(\"Loss\")\n",
    "plt.xlabel(\"Epoch\")\n",
    "plt.savefig(\"../figs/eigenval_small_loss.pdf\")"
   ]
  },
  {
   "cell_type": "code",
   "execution_count": 40,
   "metadata": {},
   "outputs": [
    {
     "data": {
      "image/png": "[encoded data removed]",
      "text/plain": [
       "<Figure size 288x432 with 1 Axes>"
      ]
     },
     "metadata": {
      "needs_background": "light"
     },
     "output_type": "display_data"
    }
   ],
   "source": [
    "N_output = model_small(t) \n",
    "v_pred_np = np.zeros([t.size(0), 6])\n",
    "for i in range(t.size(0)):\n",
    "    ft = f_trial(t[i,:], N_output[i,:].reshape(-1,1)).detach().numpy().reshape(6)\n",
    "    v_pred_np[i] = ft / np.sqrt(np.dot(ft, ft))\n",
    "\n",
    "# Solve ODE analytically using FW Euler\n",
    "x_t = v0.detach().numpy()\n",
    "A_t = A_neg.detach().numpy()\n",
    "dt = 0.01\n",
    "N = 200\n",
    "time = np.linspace(0, dt * N, N)\n",
    "x_euler = np.zeros([N, 6])\n",
    "\n",
    "for i in range(N):\n",
    "    x_euler[i, :] = x_t.reshape(6)\n",
    "    x_euler[i, :] /= np.sqrt(np.dot(x_euler[i, :], x_euler[i, :]))\n",
    "    x_t = x_t + (-x_t + (x_t.T @ x_t * A_t + (1 - x_t.T @ A_t @ x_t) * np.identity(6)) @ x_t)*dt\n",
    "x_euler[N-1, :] = x_t.reshape(6)\n",
    "x_euler[N-1, :] /= np.sqrt(np.dot(x_euler[i, :], x_euler[i, :]))\n",
    "\n",
    "colors = [\"tab:blue\", \"tab:orange\", \"tab:green\", \"tab:red\", \"tab:purple\", \"tab:brown\"]\n",
    "\n",
    "plt.figure(figsize=(4, 6))\n",
    "#plt.subplot(121)\n",
    "\n",
    "y_min = min([np.amin(x_euler), np.amin(v_pred_np)])\n",
    "y_max = max([np.amax(x_euler), np.amax(v_pred_np)])\n",
    "\n",
    "for d in range(6):\n",
    "    plt.plot(t.detach().numpy(), -v_pred_np[:, d], ls = \"solid\", color=colors[d], linewidth=2)\n",
    "    plt.plot(time, -x_euler[:, d], ls=\":\" , color=colors[d], linewidth=1.5)\n",
    "    plt.axhline(eigvec[d, 0], alpha=0.25, color=colors[d], ls=\"--\")\n",
    "\n",
    "plt.yticks(v_pred_np[-1, :])\n",
    "plt.ylim(y_min,y_max)\n",
    "plt.xlabel(\"t\")\n",
    "\n",
    "#plt.tick_params(axis='y', which='both', labelleft='off', labelright='on')\n",
    "#plt.gca().yaxis.set_label_position(\"right\")\n",
    "plt.ylabel(\"Eigenvalue\")\n",
    "\n",
    "\"\"\"\n",
    "plt.subplot(122)\n",
    "for d in range(6):\n",
    "    plt.plot(t.detach().numpy(), v_pred_np[:, d], \"o\", color=colors[d], linewidth=3)\n",
    "    plt.axhline(eigvec[d, -1], alpha=0.25, color=colors[d], ls=\"--\")\n",
    "plt.yticks(v_pred_np[-1, :])\n",
    "plt.ylim(y_min, y_max)\n",
    "plt.xlabel(\"t\")\n",
    "\"\"\"\n",
    "\n",
    "plt.tight_layout()\n",
    "#plt.savefig(\"test.png\")\n",
    "plt.show()"
   ]
  },
  {
   "cell_type": "code",
   "execution_count": 42,
   "metadata": {},
   "outputs": [
    {
     "name": "stdout",
     "output_type": "stream",
     "text": [
      "NN Eigenvalue:      5.343\n",
      "Numpy Eigenvalue:  -5.419\n",
      "\n",
      "Eigenvectors:\n",
      "[ 0.332 -0.489  0.287  0.262 -0.662  0.247] NN\n",
      "[ 0.578 -0.021 -0.337  0.627  0.239 -0.318] Numpy\n",
      "\n",
      "dot product: 0.987\n"
     ]
    }
   ],
   "source": [
    "# Compute eigenvalue\n",
    "eigval_nn = ((-v_pred_np[-1, :]).T @ A_t @ (-v_pred_np[-1, :]) / ((-v_pred_np[-1, :]).T @ (-v_pred_np[-1, :])))\n",
    "print(\"NN Eigenvalue: %10.3f\" \n",
    "      % eigval_nn)\n",
    "print(\"Numpy Eigenvalue: %7.3f\" % eigval[0])\n",
    "\n",
    "with np.printoptions(precision=3):\n",
    "    print(\"\\nEigenvectors:\")\n",
    "    print(v_pred_np[-1, :], \"NN\")\n",
    "    print(eigvec[:,-1], \"Numpy\")\n",
    "\n",
    "# Note; eigvec is normed!\n",
    "print(\"\\ndot product: %.3f\" % np.dot(eigvec[:, 0], -v_pred_np[-1, :]))"
   ]
  }
 ],
 "metadata": {
  "kernelspec": {
   "display_name": "Python 3",
   "language": "python",
   "name": "python3"
  },
  "language_info": {
   "codemirror_mode": {
    "name": "ipython",
    "version": 3
   },
   "file_extension": ".py",
   "mimetype": "text/x-python",
   "name": "python",
   "nbconvert_exporter": "python",
   "pygments_lexer": "ipython3",
   "version": "3.8.3"
  }
 },
 "nbformat": 4,
 "nbformat_minor": 4
}
