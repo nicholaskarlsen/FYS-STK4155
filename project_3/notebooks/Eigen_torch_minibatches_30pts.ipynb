{
 "cells": [
  {
   "cell_type": "markdown",
   "metadata": {},
   "source": [
    "# Finding Eigenvalues of Real, Symetric Matrices with Neural Networks\n",
    "\n",
    "We wish to find the eigenvalues of a real, symmetric matrix A by solving the differential equation\n",
    "\n",
    "$$\n",
    "    \\frac{d \\pmb x(t)}{d t} = - \\pmb x(t) + f(\\pmb x(t))\n",
    "$$\n",
    "\n",
    "where \n",
    "\n",
    "$$\n",
    "    f(\\pmb  x) = [\\pmb x^T \\pmb x A + (1 - \\pmb x^T A \\pmb x)I] \\pmb x\n",
    "$$\n",
    "\n",
    "Using a feed forward Neural network.\n",
    "\n",
    "In this notebook, we train the Neural network on 30 data points in a time domain of $t \\in [0, 3]$. We also have another similar notebook that has been trained on 300 data points in the same domain, also using the same seed meaning that they both aim to find the eigenpairs of the same matrix $A$"
   ]
  },
  {
   "cell_type": "code",
   "execution_count": 1,
   "metadata": {},
   "outputs": [],
   "source": [
    "import sys\n",
    "import numpy as np\n",
    "import matplotlib.pyplot as plt\n",
    "import torch\n",
    "import torch.nn.functional as F\n",
    "from torch.autograd.functional import hessian, jacobian\n",
    "\n",
    "sys.path.insert(0, \"../src\")\n",
    "from utils import minibatch, heat_eq_analytic\n",
    "\n",
    "plt.rcParams.update({\n",
    "        \"text.usetex\": True,\n",
    "        \"font.family\": \"serif\",\n",
    "})\n",
    "\n",
    "dtype = torch.float\n",
    "#device = torch.device(\"cuda:0\")\n",
    "device = torch.device(\"cpu\")"
   ]
  },
  {
   "cell_type": "code",
   "execution_count": 2,
   "metadata": {},
   "outputs": [],
   "source": [
    "def costfunction(t, N, A, trial_func):\n",
    "    \"\"\"\n",
    "    Costfunction used to train the Neural Network.\n",
    "    \n",
    "    t (Tensor) : Time; input to the neural network.\n",
    "    N (Tensor) : Output of the Neural network\n",
    "    A (Tensor) : The 6x6 real, symmetric matrix we're finding solving for\n",
    "    trial_func (Function) : the trial function used to solve the DE\n",
    "    \"\"\"\n",
    "    loss = 0\n",
    "    \n",
    "    for i in range(t.size(0)):\n",
    "        # Compute trial eigenvector & transpose\n",
    "        N_curr = N[i].reshape(-1,1)\n",
    "        v = trial_func(t[i], N_curr)\n",
    "        v_T = v.transpose(0,1)\n",
    "       \n",
    "        # Time derivative of trial function\n",
    "        dfdt, dfdN = jacobian(trial_func, (t[i], N_curr), create_graph=True)  \n",
    "        \n",
    "        # right hand side of ODE\n",
    "        RHS = (- v + (v_T.mm(v) * A  + (1 - v_T.mm(A).mm(v)) * torch.eye(v.size(0))).mm(v))\n",
    "            \n",
    "        # Increment the loss function\n",
    "        loss = loss + (dfdt[:, 0] - RHS).pow(2).mean()\n",
    "    \n",
    "    return loss / t.size(0)"
   ]
  },
  {
   "cell_type": "code",
   "execution_count": 3,
   "metadata": {},
   "outputs": [
    {
     "data": {
      "text/plain": [
       "tensor([[-0.0173,  0.7011, -2.4403,  0.6338,  0.3444, -2.7550],\n",
       "        [ 0.7011, -3.4166,  1.1724, -0.2233, -1.4215, -0.9924],\n",
       "        [-2.4403,  1.1724, -1.7178, -0.4207, -1.0524, -0.3791],\n",
       "        [ 0.6338, -0.2233, -0.4207,  1.7434,  2.0975, -0.7133],\n",
       "        [ 0.3444, -1.4215, -1.0524,  2.0975, -3.5050,  0.5459],\n",
       "        [-2.7550, -0.9924, -0.3791, -0.7133,  0.5459, -1.8151]])"
      ]
     },
     "execution_count": 3,
     "metadata": {},
     "output_type": "execute_result"
    }
   ],
   "source": [
    "# Set a seed for reproducability. \n",
    "torch.manual_seed(2020)\n",
    "\n",
    "# Make a random symetric + real matrix\n",
    "Q = torch.randn(6,6, device=device, dtype=dtype, requires_grad=False)\n",
    "A = torch.transpose(Q, 0, 1) + Q\n",
    "\n",
    "A"
   ]
  },
  {
   "cell_type": "code",
   "execution_count": 4,
   "metadata": {},
   "outputs": [
    {
     "name": "stdout",
     "output_type": "stream",
     "text": [
      " [-5.42 -4.78 -3.9  -0.12  1.77  3.72]\n",
      "\n",
      "[[-0.38  0.45 -0.1   0.12 -0.54  0.58]\n",
      " [ 0.56  0.18 -0.64 -0.42 -0.24 -0.02]\n",
      " [-0.31  0.51  0.28 -0.66  0.09 -0.34]\n",
      " [-0.17 -0.14 -0.21 -0.35  0.63  0.63]\n",
      " [ 0.58  0.56  0.38  0.25  0.3   0.24]\n",
      " [-0.29  0.41 -0.55  0.43  0.39 -0.32]]\n"
     ]
    }
   ],
   "source": [
    "# Fetch the eigenpairs from numpy\n",
    "eigval, eigvec = np.linalg.eigh(A.detach().numpy())\n",
    "\n",
    "with np.printoptions(precision=2):\n",
    "    print(\"\",eigval)\n",
    "    print()\n",
    "    print(eigvec)"
   ]
  },
  {
   "cell_type": "code",
   "execution_count": 5,
   "metadata": {},
   "outputs": [],
   "source": [
    "# Number of points to train on\n",
    "num_points = 30\n",
    "\n",
    "# Time domain to train the network on\n",
    "t = torch.linspace(0, 3, num_points, device=device, dtype=dtype, requires_grad=True).reshape(-1,1)\n",
    "\n",
    "# Random initial guess for the eigenvector\n",
    "v0 = torch.randn(A.size(0), device=device, dtype=dtype, requires_grad=False).reshape(-1,1)\n",
    "v0 = v0 / torch.norm(v0)\n",
    "\n",
    "# Trial solution to ODE\n",
    "# Note: Passing v0 in a somewhat sloppy manner to avoid having to pass it every time i call f_trial.\n",
    "def f_trial(t, N):\n",
    "    return v0 * torch.exp(-t) + (1 - torch.exp(-t)) * N"
   ]
  },
  {
   "cell_type": "code",
   "execution_count": 6,
   "metadata": {},
   "outputs": [
    {
     "name": "stdout",
     "output_type": "stream",
     "text": [
      "5\n"
     ]
    }
   ],
   "source": [
    "# Shape of network\n",
    "input_dim = 1\n",
    "hidden_neurons = 50\n",
    "output_dim = v0.size(0)\n",
    "\n",
    "learning_rate = 2e-2\n",
    "N_minibatches = int(num_points / 6)\n",
    "print(N_minibatches)\n",
    "\n",
    "model = torch.nn.Sequential(\n",
    "          torch.nn.Linear(input_dim, hidden_neurons),\n",
    "          torch.nn.ReLU(),\n",
    "          torch.nn.Linear(hidden_neurons, hidden_neurons),\n",
    "          torch.nn.ReLU(),\n",
    "          torch.nn.Linear(hidden_neurons, output_dim),\n",
    "        )\n",
    "\n",
    "# Use the ADAM optimization algorithm with standard parameters\n",
    "optimizer = torch.optim.Adam(model.parameters(), lr=learning_rate)\n",
    "\n",
    "# Keep track of the total number of epochs the network has been trained for as well as a\n",
    "# cumulative record of the loss wrt to each epoch.\n",
    "TOT_EPOCHS_10 = 0\n",
    "\n",
    "loss_arr_tot_10 = np.empty(0, dtype=np.float)\n",
    "epoch_arr_tot_10 = np.empty(0, dtype=np.float)"
   ]
  },
  {
   "cell_type": "markdown",
   "metadata": {},
   "source": [
    "Now that the model has been set up, the network may be trained by running the cell below. If unhappy with the current results, you may simply rerun the cell adjusting the EPOCHS variable if so desired. Further, the loss wrt the epochs is kept track of by appending the loss of the current run (loss_arr_curr_10) to the (loss_arr_tot_10) array that we defined previously, thus the complete history of the loss is kept throughout.\n",
    "\n",
    "Note that the loss function is evaluated on the entire dataset inbetween each epoch, but the actual training is performed using minibatches!"
   ]
  },
  {
   "cell_type": "code",
   "execution_count": 7,
   "metadata": {},
   "outputs": [
    {
     "name": "stdout",
     "output_type": "stream",
     "text": [
      "0: loss =  tensor(0.3653, grad_fn=<DivBackward0>)\n",
      "10: loss =  tensor(0.0087, grad_fn=<DivBackward0>)\n",
      "20: loss =  tensor(0.0032, grad_fn=<DivBackward0>)\n",
      "30: loss =  tensor(0.0015, grad_fn=<DivBackward0>)\n",
      "40: loss =  tensor(0.0015, grad_fn=<DivBackward0>)\n",
      "50: loss =  tensor(0.0009, grad_fn=<DivBackward0>)\n",
      "60: loss =  tensor(0.0003, grad_fn=<DivBackward0>)\n",
      "70: loss =  tensor(0.0002, grad_fn=<DivBackward0>)\n",
      "80: loss =  tensor(0.0001, grad_fn=<DivBackward0>)\n",
      "90: loss =  tensor(6.0715e-05, grad_fn=<DivBackward0>)\n",
      "100: loss =  tensor(0.0001, grad_fn=<DivBackward0>)\n",
      "110: loss =  tensor(0.0019, grad_fn=<DivBackward0>)\n",
      "120: loss =  tensor(0.0048, grad_fn=<DivBackward0>)\n",
      "130: loss =  tensor(0.0018, grad_fn=<DivBackward0>)\n",
      "140: loss =  tensor(0.0003, grad_fn=<DivBackward0>)\n",
      "150: loss =  tensor(0.0002, grad_fn=<DivBackward0>)\n",
      "160: loss =  tensor(0.0001, grad_fn=<DivBackward0>)\n",
      "170: loss =  tensor(5.2385e-05, grad_fn=<DivBackward0>)\n",
      "180: loss =  tensor(7.1313e-05, grad_fn=<DivBackward0>)\n",
      "190: loss =  tensor(0.0002, grad_fn=<DivBackward0>)\n",
      "200: loss =  tensor(0.0002, grad_fn=<DivBackward0>)\n",
      "210: loss =  tensor(4.9050e-05, grad_fn=<DivBackward0>)\n",
      "220: loss =  tensor(2.9588e-05, grad_fn=<DivBackward0>)\n",
      "230: loss =  tensor(0.0002, grad_fn=<DivBackward0>)\n",
      "240: loss =  tensor(5.6768e-05, grad_fn=<DivBackward0>)\n",
      "250: loss =  tensor(6.3343e-05, grad_fn=<DivBackward0>)\n",
      "260: loss =  tensor(2.5155e-05, grad_fn=<DivBackward0>)\n",
      "270: loss =  tensor(2.9023e-05, grad_fn=<DivBackward0>)\n",
      "280: loss =  tensor(2.7624e-05, grad_fn=<DivBackward0>)\n",
      "290: loss =  tensor(3.2571e-05, grad_fn=<DivBackward0>)\n",
      "300: loss =  tensor(9.8588e-05, grad_fn=<DivBackward0>)\n",
      "310: loss =  tensor(0.0002, grad_fn=<DivBackward0>)\n",
      "320: loss =  tensor(0.0001, grad_fn=<DivBackward0>)\n",
      "330: loss =  tensor(0.0085, grad_fn=<DivBackward0>)\n",
      "340: loss =  tensor(0.0122, grad_fn=<DivBackward0>)\n",
      "350: loss =  tensor(0.0023, grad_fn=<DivBackward0>)\n",
      "360: loss =  tensor(0.0003, grad_fn=<DivBackward0>)\n",
      "370: loss =  tensor(0.0001, grad_fn=<DivBackward0>)\n",
      "380: loss =  tensor(6.4610e-05, grad_fn=<DivBackward0>)\n",
      "390: loss =  tensor(3.6564e-05, grad_fn=<DivBackward0>)\n",
      "400: loss =  tensor(0.0004, grad_fn=<DivBackward0>)\n",
      "410: loss =  tensor(0.0078, grad_fn=<DivBackward0>)\n",
      "420: loss =  tensor(0.0009, grad_fn=<DivBackward0>)\n",
      "430: loss =  tensor(0.0003, grad_fn=<DivBackward0>)\n",
      "440: loss =  tensor(0.0009, grad_fn=<DivBackward0>)\n",
      "450: loss =  tensor(0.0001, grad_fn=<DivBackward0>)\n",
      "460: loss =  tensor(0.0002, grad_fn=<DivBackward0>)\n",
      "470: loss =  tensor(6.1819e-05, grad_fn=<DivBackward0>)\n",
      "480: loss =  tensor(4.2537e-05, grad_fn=<DivBackward0>)\n",
      "490: loss =  tensor(4.0131e-05, grad_fn=<DivBackward0>)\n",
      "500: loss =  tensor(0.0001, grad_fn=<DivBackward0>)\n",
      "510: loss =  tensor(2.2336e-05, grad_fn=<DivBackward0>)\n",
      "520: loss =  tensor(5.2500e-05, grad_fn=<DivBackward0>)\n",
      "530: loss =  tensor(7.1705e-05, grad_fn=<DivBackward0>)\n",
      "540: loss =  tensor(3.9300e-05, grad_fn=<DivBackward0>)\n",
      "550: loss =  tensor(2.8055e-05, grad_fn=<DivBackward0>)\n",
      "560: loss =  tensor(3.9028e-05, grad_fn=<DivBackward0>)\n",
      "570: loss =  tensor(3.9284e-05, grad_fn=<DivBackward0>)\n",
      "580: loss =  tensor(1.8943e-05, grad_fn=<DivBackward0>)\n",
      "590: loss =  tensor(3.3481e-05, grad_fn=<DivBackward0>)\n",
      "600: loss =  tensor(5.3740e-05, grad_fn=<DivBackward0>)\n",
      "610: loss =  tensor(0.0002, grad_fn=<DivBackward0>)\n",
      "620: loss =  tensor(8.4796e-05, grad_fn=<DivBackward0>)\n",
      "630: loss =  tensor(0.0001, grad_fn=<DivBackward0>)\n",
      "640: loss =  tensor(0.0005, grad_fn=<DivBackward0>)\n",
      "650: loss =  tensor(0.0005, grad_fn=<DivBackward0>)\n",
      "660: loss =  tensor(0.0005, grad_fn=<DivBackward0>)\n",
      "670: loss =  tensor(0.0002, grad_fn=<DivBackward0>)\n",
      "680: loss =  tensor(0.0001, grad_fn=<DivBackward0>)\n",
      "690: loss =  tensor(0.0016, grad_fn=<DivBackward0>)\n",
      "700: loss =  tensor(0.0003, grad_fn=<DivBackward0>)\n",
      "710: loss =  tensor(3.6129e-05, grad_fn=<DivBackward0>)\n",
      "720: loss =  tensor(7.0142e-05, grad_fn=<DivBackward0>)\n",
      "730: loss =  tensor(4.0174e-05, grad_fn=<DivBackward0>)\n",
      "740: loss =  tensor(2.0921e-05, grad_fn=<DivBackward0>)\n",
      "750: loss =  tensor(0.0002, grad_fn=<DivBackward0>)\n",
      "760: loss =  tensor(0.0003, grad_fn=<DivBackward0>)\n",
      "770: loss =  tensor(0.0003, grad_fn=<DivBackward0>)\n",
      "780: loss =  tensor(0.0010, grad_fn=<DivBackward0>)\n",
      "790: loss =  tensor(0.0015, grad_fn=<DivBackward0>)\n",
      "800: loss =  tensor(0.0003, grad_fn=<DivBackward0>)\n",
      "810: loss =  tensor(0.0001, grad_fn=<DivBackward0>)\n",
      "820: loss =  tensor(0.0002, grad_fn=<DivBackward0>)\n",
      "830: loss =  tensor(0.0001, grad_fn=<DivBackward0>)\n",
      "840: loss =  tensor(0.0023, grad_fn=<DivBackward0>)\n",
      "850: loss =  tensor(0.0068, grad_fn=<DivBackward0>)\n",
      "860: loss =  tensor(0.0052, grad_fn=<DivBackward0>)\n",
      "870: loss =  tensor(0.0006, grad_fn=<DivBackward0>)\n",
      "880: loss =  tensor(0.0004, grad_fn=<DivBackward0>)\n",
      "890: loss =  tensor(0.0004, grad_fn=<DivBackward0>)\n",
      "900: loss =  tensor(0.0001, grad_fn=<DivBackward0>)\n",
      "910: loss =  tensor(4.1629e-05, grad_fn=<DivBackward0>)\n",
      "920: loss =  tensor(3.6720e-05, grad_fn=<DivBackward0>)\n",
      "930: loss =  tensor(0.0003, grad_fn=<DivBackward0>)\n",
      "940: loss =  tensor(0.0003, grad_fn=<DivBackward0>)\n",
      "950: loss =  tensor(0.0032, grad_fn=<DivBackward0>)\n",
      "960: loss =  tensor(0.0019, grad_fn=<DivBackward0>)\n",
      "970: loss =  tensor(0.0003, grad_fn=<DivBackward0>)\n",
      "980: loss =  tensor(8.5835e-05, grad_fn=<DivBackward0>)\n",
      "990: loss =  tensor(4.9723e-05, grad_fn=<DivBackward0>)\n"
     ]
    },
    {
     "data": {
      "text/plain": [
       "Text(0.5, 0, 'Epoch')"
      ]
     },
     "execution_count": 7,
     "metadata": {},
     "output_type": "execute_result"
    },
    {
     "data": {
      "image/png": "[encoded data removed]",
      "text/plain": [
       "<Figure size 432x288 with 1 Axes>"
      ]
     },
     "metadata": {
      "needs_background": "light"
     },
     "output_type": "display_data"
    }
   ],
   "source": [
    "EPOCHS = 1000\n",
    "\n",
    "loss_arr_curr_10 = np.empty(EPOCHS, dtype=np.float)\n",
    "epoch_arr_curr_10 = np.empty(EPOCHS, dtype=np.float)\n",
    "\n",
    "for epoch in range(EPOCHS):\n",
    "    mb = minibatch(num_points, N_minibatches)\n",
    "    \n",
    "    for i in range(N_minibatches):\n",
    "        # Compute the output of the model\n",
    "        N_output = model(t[mb[i]])\n",
    "        \n",
    "        # Compute and print loss\n",
    "        loss = costfunction(t[mb[i]], N_output, A, f_trial)\n",
    "        \n",
    "        # Use autograd to compute the backward pass.\n",
    "        optimizer.zero_grad()\n",
    "        loss.backward()\n",
    "        optimizer.step()\n",
    "\n",
    "    # Compute loss over the entire sample to track the training progress\n",
    "    N_output = model(t) \n",
    "    loss = costfunction(t, N_output, A, f_trial)\n",
    "    \n",
    "    if epoch % 10 == 0:\n",
    "        print(f\"{TOT_EPOCHS_10 + epoch}: loss = \",loss) \n",
    "    \n",
    "    loss_arr_curr_10[epoch] = loss\n",
    "    epoch_arr_curr_10[epoch] = TOT_EPOCHS_10 + epoch  \n",
    "        \n",
    "        \n",
    "TOT_EPOCHS_10 += EPOCHS    \n",
    "loss_arr_tot_10 = np.append(loss_arr_tot_10, loss_arr_curr_10)\n",
    "epoch_arr_tot_10 = np.append(epoch_arr_tot_10, epoch_arr_curr_10)\n",
    "\n",
    "plt.semilogy(epoch_arr_tot_10, loss_arr_tot_10)\n",
    "plt.ylabel(\"Loss\")\n",
    "plt.xlabel(\"Epoch\")"
   ]
  },
  {
   "cell_type": "code",
   "execution_count": 8,
   "metadata": {},
   "outputs": [
    {
     "data": {
      "image/png": "[encoded data removed]",
      "text/plain": [
       "<Figure size 288x216 with 1 Axes>"
      ]
     },
     "metadata": {
      "needs_background": "light"
     },
     "output_type": "display_data"
    }
   ],
   "source": [
    "plt.figure(figsize=(4,3))\n",
    "plt.semilogy(epoch_arr_tot_10, loss_arr_tot_10)\n",
    "plt.ylabel(\"Loss\")\n",
    "plt.xlabel(\"Epoch\")\n",
    "plt.savefig(\"../figs/eigenval_loss.pdf\")"
   ]
  },
  {
   "cell_type": "code",
   "execution_count": 34,
   "metadata": {
    "scrolled": false
   },
   "outputs": [
    {
     "data": {
      "image/png": "[encoded data removed]",
      "text/plain": [
       "<Figure size 194.4x324 with 1 Axes>"
      ]
     },
     "metadata": {
      "needs_background": "light"
     },
     "output_type": "display_data"
    }
   ],
   "source": [
    "# Fetch the outcome of the model and use it to compute the solution with the trial function.\n",
    "N_output = model(t) \n",
    "v_pred_np = np.zeros([t.size(0), 6])\n",
    "\n",
    "for i in range(t.size(0)):\n",
    "    ft = f_trial(t[i,:], N_output[i,:].reshape(-1,1)).detach().numpy().reshape(6)\n",
    "    v_pred_np[i] = ft / np.sqrt(np.dot(ft, ft)) # Normalize the eigenvectors\n",
    "\n",
    "# Solve ODE analytically using FW Euler\n",
    "x_t = v0.detach().numpy()\n",
    "A_t = A.detach().numpy()\n",
    "dt = 0.01\n",
    "N = 300\n",
    "time = np.linspace(0, dt * N, N)\n",
    "x_euler = np.zeros([N, 6])\n",
    "\n",
    "for i in range(N):\n",
    "    x_euler[i, :] = x_t.reshape(6)\n",
    "    x_euler[i, :] /= np.sqrt(np.dot(x_euler[i, :], x_euler[i, :]))\n",
    "    x_t = x_t + (-x_t + (x_t.T @ x_t * A_t + (1 - x_t.T @ A_t @ x_t) * np.identity(6)) @ x_t)*dt\n",
    "\n",
    "x_euler[N-1, :] = x_t.reshape(6)\n",
    "x_euler[N-1, :] /= np.sqrt(np.dot(x_euler[i, :], x_euler[i, :]))\n",
    "\n",
    "# Plot the results\n",
    "plt.figure(figsize=(3*0.9, 5*0.9))\n",
    "\n",
    "colors = [\"tab:blue\", \"tab:orange\", \"tab:green\", \"tab:red\", \"tab:purple\", \"tab:brown\"]\n",
    "\n",
    "for d in range(6):\n",
    "    plt.plot(t.detach().numpy(), v_pred_np[:, d], ls = \"solid\", color=colors[d], linewidth=2)\n",
    "    plt.plot(time, x_euler[:, d], ls=\":\" , color=colors[d], linewidth=1.5)\n",
    "    plt.axhline(eigvec[d, -1], alpha=0.25, color=colors[d], ls=\"--\")\n",
    "\n",
    "y_min = min([np.amin(x_euler), np.amin(v_pred_np)])\n",
    "y_max = max([np.amax(x_euler), np.amax(v_pred_np)])\n",
    "plt.ylim(y_min,y_max)\n",
    "\n",
    "plt.xlabel(\"t\")\n",
    "plt.ylabel(\"Eigenvector components\")\n",
    "\n",
    "plt.tight_layout()\n",
    "plt.savefig(\"../figs/eigenvec_dynamics.pdf\")\n",
    "plt.show()"
   ]
  },
  {
   "cell_type": "code",
   "execution_count": 31,
   "metadata": {},
   "outputs": [
    {
     "name": "stdout",
     "output_type": "stream",
     "text": [
      "NN Eigenvalue:      3.689\n",
      "Numpy Eigenvalue:   3.722\n",
      "\n",
      "Eigenvectors:\n",
      "[ 0.535 -0.007 -0.281  0.696  0.223 -0.318] NN\n",
      "[ 0.578 -0.021 -0.337  0.627  0.239 -0.318] Numpy\n",
      "\n",
      "dot product: 0.995\n"
     ]
    }
   ],
   "source": [
    "# Compute eigenvalue\n",
    "eigval_nn = (v_pred_np[-1, :].T @ A_t @ v_pred_np[-1, :] / (v_pred_np[-1, :].T @ v_pred_np[-1, :]))\n",
    "\n",
    "print(\"NN Eigenvalue: %10.3f\" % eigval_nn)\n",
    "print(\"Numpy Eigenvalue: %7.3f\" % eigval[-1])\n",
    "\n",
    "with np.printoptions(precision=3):\n",
    "    print(\"\\nEigenvectors:\")\n",
    "    print(v_pred_np[-1, :], \"NN\")\n",
    "    print(eigvec[:,-1], \"Numpy\")\n",
    "\n",
    "# Note; eigvec is normed!\n",
    "print(\"\\ndot product: %.3f\" % np.dot(eigvec[:, -1], v_pred_np[-1, :]))"
   ]
  },
  {
   "cell_type": "markdown",
   "metadata": {},
   "source": [
    "# Compute the smallest eigenvalue & the corresponding eigenvector\n",
    "\n",
    "We not repeat the same process, but instead training the network on $-A$, thus finding the smallest eigenvalue of $A$, and its corresponding eigenvector."
   ]
  },
  {
   "cell_type": "code",
   "execution_count": 11,
   "metadata": {},
   "outputs": [
    {
     "data": {
      "text/plain": [
       "tensor([[ 0.0173, -0.7011,  2.4403, -0.6338, -0.3444,  2.7550],\n",
       "        [-0.7011,  3.4166, -1.1724,  0.2233,  1.4215,  0.9924],\n",
       "        [ 2.4403, -1.1724,  1.7178,  0.4207,  1.0524,  0.3791],\n",
       "        [-0.6338,  0.2233,  0.4207, -1.7434, -2.0975,  0.7133],\n",
       "        [-0.3444,  1.4215,  1.0524, -2.0975,  3.5050, -0.5459],\n",
       "        [ 2.7550,  0.9924,  0.3791,  0.7133, -0.5459,  1.8151]])"
      ]
     },
     "execution_count": 11,
     "metadata": {},
     "output_type": "execute_result"
    }
   ],
   "source": [
    "A_neg = - torch.clone(A)\n",
    "A_neg"
   ]
  },
  {
   "cell_type": "code",
   "execution_count": 12,
   "metadata": {},
   "outputs": [
    {
     "name": "stdout",
     "output_type": "stream",
     "text": [
      "6\n"
     ]
    }
   ],
   "source": [
    "# Shape of network\n",
    "input_dim = 1\n",
    "hidden_neurons = 50\n",
    "output_dim = v0.size(0)\n",
    "\n",
    "learning_rate = 2e-2\n",
    "N_minibatches = int(num_points/5) # -> Regular SGD\n",
    "print(N_minibatches)\n",
    "\n",
    "model_small = torch.nn.Sequential(\n",
    "          torch.nn.Linear(input_dim, hidden_neurons),\n",
    "          torch.nn.ReLU(),\n",
    "          torch.nn.Linear(hidden_neurons, hidden_neurons),\n",
    "          torch.nn.ReLU(),\n",
    "          torch.nn.Linear(hidden_neurons, output_dim),\n",
    "        )\n",
    "optimizer_small = torch.optim.Adam(model_small.parameters(), lr=learning_rate)\n",
    "\n",
    "\n",
    "TOT_EPOCHS_small = 0\n",
    "\n",
    "loss_arr_tot_small = np.empty(0, dtype=np.float)\n",
    "epoch_arr_tot_small = np.empty(0, dtype=np.float)"
   ]
  },
  {
   "cell_type": "code",
   "execution_count": 13,
   "metadata": {},
   "outputs": [
    {
     "name": "stdout",
     "output_type": "stream",
     "text": [
      "0: loss =  tensor(0.2153, grad_fn=<DivBackward0>)\n",
      "10: loss =  tensor(0.0150, grad_fn=<DivBackward0>)\n",
      "20: loss =  tensor(0.0086, grad_fn=<DivBackward0>)\n",
      "30: loss =  tensor(0.0063, grad_fn=<DivBackward0>)\n",
      "40: loss =  tensor(0.0045, grad_fn=<DivBackward0>)\n",
      "50: loss =  tensor(0.0036, grad_fn=<DivBackward0>)\n",
      "60: loss =  tensor(0.0028, grad_fn=<DivBackward0>)\n",
      "70: loss =  tensor(0.0020, grad_fn=<DivBackward0>)\n",
      "80: loss =  tensor(0.0021, grad_fn=<DivBackward0>)\n",
      "90: loss =  tensor(0.0016, grad_fn=<DivBackward0>)\n",
      "100: loss =  tensor(0.0012, grad_fn=<DivBackward0>)\n",
      "110: loss =  tensor(0.0004, grad_fn=<DivBackward0>)\n",
      "120: loss =  tensor(0.0005, grad_fn=<DivBackward0>)\n",
      "130: loss =  tensor(0.0004, grad_fn=<DivBackward0>)\n",
      "140: loss =  tensor(0.0005, grad_fn=<DivBackward0>)\n",
      "150: loss =  tensor(0.0002, grad_fn=<DivBackward0>)\n",
      "160: loss =  tensor(0.0002, grad_fn=<DivBackward0>)\n",
      "170: loss =  tensor(0.0001, grad_fn=<DivBackward0>)\n",
      "180: loss =  tensor(0.0001, grad_fn=<DivBackward0>)\n",
      "190: loss =  tensor(0.0002, grad_fn=<DivBackward0>)\n",
      "200: loss =  tensor(0.0001, grad_fn=<DivBackward0>)\n",
      "210: loss =  tensor(6.9443e-05, grad_fn=<DivBackward0>)\n",
      "220: loss =  tensor(6.5163e-05, grad_fn=<DivBackward0>)\n",
      "230: loss =  tensor(0.0002, grad_fn=<DivBackward0>)\n",
      "240: loss =  tensor(0.0002, grad_fn=<DivBackward0>)\n",
      "250: loss =  tensor(0.0001, grad_fn=<DivBackward0>)\n",
      "260: loss =  tensor(0.0001, grad_fn=<DivBackward0>)\n",
      "270: loss =  tensor(0.0002, grad_fn=<DivBackward0>)\n",
      "280: loss =  tensor(6.6543e-05, grad_fn=<DivBackward0>)\n",
      "290: loss =  tensor(0.0001, grad_fn=<DivBackward0>)\n",
      "300: loss =  tensor(6.6541e-05, grad_fn=<DivBackward0>)\n",
      "310: loss =  tensor(0.0002, grad_fn=<DivBackward0>)\n",
      "320: loss =  tensor(5.5327e-05, grad_fn=<DivBackward0>)\n",
      "330: loss =  tensor(0.0003, grad_fn=<DivBackward0>)\n",
      "340: loss =  tensor(0.0039, grad_fn=<DivBackward0>)\n",
      "350: loss =  tensor(0.0008, grad_fn=<DivBackward0>)\n",
      "360: loss =  tensor(0.0003, grad_fn=<DivBackward0>)\n",
      "370: loss =  tensor(9.2797e-05, grad_fn=<DivBackward0>)\n",
      "380: loss =  tensor(5.0857e-05, grad_fn=<DivBackward0>)\n",
      "390: loss =  tensor(7.7965e-05, grad_fn=<DivBackward0>)\n",
      "400: loss =  tensor(0.0002, grad_fn=<DivBackward0>)\n",
      "410: loss =  tensor(8.7622e-05, grad_fn=<DivBackward0>)\n",
      "420: loss =  tensor(0.0001, grad_fn=<DivBackward0>)\n",
      "430: loss =  tensor(0.0018, grad_fn=<DivBackward0>)\n",
      "440: loss =  tensor(0.0004, grad_fn=<DivBackward0>)\n",
      "450: loss =  tensor(0.0005, grad_fn=<DivBackward0>)\n",
      "460: loss =  tensor(0.0010, grad_fn=<DivBackward0>)\n",
      "470: loss =  tensor(0.0004, grad_fn=<DivBackward0>)\n",
      "480: loss =  tensor(0.0005, grad_fn=<DivBackward0>)\n",
      "490: loss =  tensor(8.7820e-05, grad_fn=<DivBackward0>)\n",
      "500: loss =  tensor(0.0001, grad_fn=<DivBackward0>)\n",
      "510: loss =  tensor(5.4843e-05, grad_fn=<DivBackward0>)\n",
      "520: loss =  tensor(7.4517e-05, grad_fn=<DivBackward0>)\n",
      "530: loss =  tensor(7.0035e-05, grad_fn=<DivBackward0>)\n",
      "540: loss =  tensor(9.6948e-05, grad_fn=<DivBackward0>)\n",
      "550: loss =  tensor(0.0006, grad_fn=<DivBackward0>)\n",
      "560: loss =  tensor(0.0006, grad_fn=<DivBackward0>)\n",
      "570: loss =  tensor(0.0007, grad_fn=<DivBackward0>)\n",
      "580: loss =  tensor(0.0002, grad_fn=<DivBackward0>)\n",
      "590: loss =  tensor(0.0008, grad_fn=<DivBackward0>)\n",
      "600: loss =  tensor(7.5946e-05, grad_fn=<DivBackward0>)\n",
      "610: loss =  tensor(0.0001, grad_fn=<DivBackward0>)\n",
      "620: loss =  tensor(0.0003, grad_fn=<DivBackward0>)\n",
      "630: loss =  tensor(0.0002, grad_fn=<DivBackward0>)\n",
      "640: loss =  tensor(0.0003, grad_fn=<DivBackward0>)\n",
      "650: loss =  tensor(0.0002, grad_fn=<DivBackward0>)\n",
      "660: loss =  tensor(0.0014, grad_fn=<DivBackward0>)\n",
      "670: loss =  tensor(0.0049, grad_fn=<DivBackward0>)\n",
      "680: loss =  tensor(0.0002, grad_fn=<DivBackward0>)\n",
      "690: loss =  tensor(5.1864e-05, grad_fn=<DivBackward0>)\n",
      "700: loss =  tensor(3.8793e-05, grad_fn=<DivBackward0>)\n",
      "710: loss =  tensor(4.0376e-05, grad_fn=<DivBackward0>)\n",
      "720: loss =  tensor(0.0004, grad_fn=<DivBackward0>)\n",
      "730: loss =  tensor(0.0009, grad_fn=<DivBackward0>)\n",
      "740: loss =  tensor(0.0001, grad_fn=<DivBackward0>)\n",
      "750: loss =  tensor(0.0002, grad_fn=<DivBackward0>)\n",
      "760: loss =  tensor(2.5684e-05, grad_fn=<DivBackward0>)\n",
      "770: loss =  tensor(3.9423e-05, grad_fn=<DivBackward0>)\n",
      "780: loss =  tensor(2.2270e-05, grad_fn=<DivBackward0>)\n",
      "790: loss =  tensor(0.0001, grad_fn=<DivBackward0>)\n",
      "800: loss =  tensor(7.2321e-05, grad_fn=<DivBackward0>)\n",
      "810: loss =  tensor(0.0001, grad_fn=<DivBackward0>)\n",
      "820: loss =  tensor(9.4856e-05, grad_fn=<DivBackward0>)\n",
      "830: loss =  tensor(0.0001, grad_fn=<DivBackward0>)\n",
      "840: loss =  tensor(0.0002, grad_fn=<DivBackward0>)\n",
      "850: loss =  tensor(0.0001, grad_fn=<DivBackward0>)\n",
      "860: loss =  tensor(3.8510e-05, grad_fn=<DivBackward0>)\n",
      "870: loss =  tensor(0.0002, grad_fn=<DivBackward0>)\n",
      "880: loss =  tensor(0.0015, grad_fn=<DivBackward0>)\n",
      "890: loss =  tensor(0.0002, grad_fn=<DivBackward0>)\n",
      "900: loss =  tensor(0.0007, grad_fn=<DivBackward0>)\n",
      "910: loss =  tensor(0.0003, grad_fn=<DivBackward0>)\n",
      "920: loss =  tensor(0.0004, grad_fn=<DivBackward0>)\n",
      "930: loss =  tensor(4.5309e-05, grad_fn=<DivBackward0>)\n",
      "940: loss =  tensor(4.7782e-05, grad_fn=<DivBackward0>)\n",
      "950: loss =  tensor(5.4365e-05, grad_fn=<DivBackward0>)\n",
      "960: loss =  tensor(4.1503e-05, grad_fn=<DivBackward0>)\n",
      "970: loss =  tensor(0.0001, grad_fn=<DivBackward0>)\n",
      "980: loss =  tensor(0.0003, grad_fn=<DivBackward0>)\n",
      "990: loss =  tensor(0.0006, grad_fn=<DivBackward0>)\n"
     ]
    },
    {
     "data": {
      "text/plain": [
       "Text(0.5, 0, 'Epoch')"
      ]
     },
     "execution_count": 13,
     "metadata": {},
     "output_type": "execute_result"
    },
    {
     "data": {
      "image/png": "[encoded data removed]",
      "text/plain": [
       "<Figure size 432x288 with 1 Axes>"
      ]
     },
     "metadata": {
      "needs_background": "light"
     },
     "output_type": "display_data"
    }
   ],
   "source": [
    "EPOCHS = 1000\n",
    "\n",
    "loss_arr_curr_small = np.empty(EPOCHS, dtype=np.float)\n",
    "epoch_arr_curr_small = np.empty(EPOCHS, dtype=np.float)\n",
    "\n",
    "for epoch in range(EPOCHS):\n",
    "    mb = minibatch(num_points, N_minibatches)\n",
    "    \n",
    "    for i in range(N_minibatches):\n",
    "        # Compute the output of the model\n",
    "        N_output = model_small(t[mb[i]])\n",
    "        \n",
    "        # Compute and print loss\n",
    "        loss = costfunction(t[mb[i]], N_output, A_neg, f_trial)\n",
    "        \n",
    "        # Use autograd to compute the backward pass.\n",
    "        optimizer_small.zero_grad()\n",
    "        loss.backward()\n",
    "        optimizer_small.step()\n",
    "    \n",
    "    # Compute loss over the entire sample to track the training progress\n",
    "    N_output = model_small(t) \n",
    "    loss = costfunction(t, N_output, A_neg, f_trial)\n",
    "\n",
    "    if epoch % 10 == 0:\n",
    "        print(f\"{TOT_EPOCHS_small + epoch}: loss = \",loss) \n",
    "    \n",
    "    loss_arr_curr_small[epoch] = loss\n",
    "    epoch_arr_curr_small[epoch] = TOT_EPOCHS_small + epoch  \n",
    "        \n",
    "        \n",
    "TOT_EPOCHS_small += EPOCHS    \n",
    "loss_arr_tot_small = np.append(loss_arr_tot_small, loss_arr_curr_small)\n",
    "epoch_arr_tot_small = np.append(epoch_arr_tot_small, epoch_arr_curr_small)\n",
    "\n",
    "plt.semilogy(epoch_arr_tot_small, loss_arr_tot_small)\n",
    "plt.ylabel(\"Loss\")\n",
    "plt.xlabel(\"Epoch\")"
   ]
  },
  {
   "cell_type": "code",
   "execution_count": 14,
   "metadata": {},
   "outputs": [
    {
     "data": {
      "image/png": "[encoded data removed]",
      "text/plain": [
       "<Figure size 288x216 with 1 Axes>"
      ]
     },
     "metadata": {
      "needs_background": "light"
     },
     "output_type": "display_data"
    }
   ],
   "source": [
    "plt.figure(figsize=(4,3))\n",
    "plt.semilogy(epoch_arr_tot_small, loss_arr_tot_small)\n",
    "plt.ylabel(\"Loss\")\n",
    "plt.xlabel(\"Epoch\")\n",
    "plt.savefig(\"../figs/eigenval_small_loss.pdf\")"
   ]
  },
  {
   "cell_type": "code",
   "execution_count": 33,
   "metadata": {},
   "outputs": [
    {
     "data": {
      "image/png": "[encoded data removed]",
      "text/plain": [
       "<Figure size 288x432 with 1 Axes>"
      ]
     },
     "metadata": {
      "needs_background": "light"
     },
     "output_type": "display_data"
    }
   ],
   "source": [
    "# Fetch the outcome of the model and use it to compute the solution with the trial function.\n",
    "N_output = model_small(t) \n",
    "v_pred_np_small = np.zeros([t.size(0), 6])\n",
    "\n",
    "for i in range(t.size(0)):\n",
    "    ft = f_trial(t[i,:], N_output[i,:].reshape(-1,1)).detach().numpy().reshape(6)\n",
    "    v_pred_np_small[i] = ft / np.sqrt(np.dot(ft, ft)) # Normalize the eigenvectors\n",
    "\n",
    "# Solve ODE analytically using FW Euler\n",
    "x_t = v0.detach().numpy()\n",
    "A_t = A_neg.detach().numpy()\n",
    "dt = 0.01\n",
    "N = 300\n",
    "time = np.linspace(0, dt * N, N)\n",
    "x_euler = np.zeros([N, 6])\n",
    "\n",
    "for i in range(N):\n",
    "    x_euler[i, :] = x_t.reshape(6)\n",
    "    x_euler[i, :] /= np.sqrt(np.dot(x_euler[i, :], x_euler[i, :]))\n",
    "    x_t = x_t + (-x_t + (x_t.T @ x_t * A_t + (1 - x_t.T @ A_t @ x_t) * np.identity(6)) @ x_t)*dt\n",
    "\n",
    "x_euler[N-1, :] = x_t.reshape(6)\n",
    "x_euler[N-1, :] /= np.sqrt(np.dot(x_euler[i, :], x_euler[i, :]))\n",
    "\n",
    "# Plot the results\n",
    "plt.figure(figsize=(4, 6))\n",
    "colors = [\"tab:blue\", \"tab:orange\", \"tab:green\", \"tab:red\", \"tab:purple\", \"tab:brown\"]\n",
    "\n",
    "for d in range(6):\n",
    "    plt.plot(t.detach().numpy(), -v_pred_np_small[:, d], ls = \"solid\", color=colors[d], linewidth=2)\n",
    "    plt.plot(time, -x_euler[:, d], ls=\":\" , color=colors[d], linewidth=1.5)\n",
    "    plt.axhline(eigvec[d, 0], alpha=0.25, color=colors[d], ls=\"--\")\n",
    "\n",
    "y_min = min([np.amin(x_euler), np.amin(v_pred_np_small)])\n",
    "y_max = max([np.amax(x_euler), np.amax(v_pred_np_small)])\n",
    "plt.ylim(y_min,y_max)\n",
    "\n",
    "plt.xlabel(\"t\")\n",
    "plt.ylabel(\"Eigenvalue\")\n",
    "\n",
    "plt.tight_layout()\n",
    "#plt.savefig(\"test.png\")\n",
    "plt.show()"
   ]
  },
  {
   "cell_type": "code",
   "execution_count": 37,
   "metadata": {},
   "outputs": [
    {
     "name": "stdout",
     "output_type": "stream",
     "text": [
      "NN Eigenvalue:     -5.338\n",
      "Numpy Eigenvalue:  -5.419\n",
      "\n",
      "Eigenvectors:\n",
      "[ 0.535 -0.007 -0.281  0.696  0.223 -0.318] NN\n",
      "[ 0.578 -0.021 -0.337  0.627  0.239 -0.318] Numpy\n",
      "\n",
      "dot product: 0.990\n"
     ]
    }
   ],
   "source": [
    "# Compute eigenvalue\n",
    "eigval_nn_small = ((-v_pred_np_small[-1, :]).T @ A_t @ (-v_pred_np_small[-1, :])\n",
    "                   / ((-v_pred_np_small[-1, :]).T @ (-v_pred_np_small[-1, :])))\n",
    "\n",
    "print(\"NN Eigenvalue: %10.3f\" % eigval_nn_small)\n",
    "print(\"Numpy Eigenvalue: %7.3f\" % eigval[0])\n",
    "\n",
    "with np.printoptions(precision=3):\n",
    "    print(\"\\nEigenvectors:\")\n",
    "    print(v_pred_np[-1, :], \"NN\")\n",
    "    print(eigvec[:,-1], \"Numpy\")\n",
    "\n",
    "# Note; eigvec is normed!\n",
    "print(\"\\ndot product: %.3f\" % np.dot(eigvec[:, 0], -v_pred_np_small[-1, :]))"
   ]
  },
  {
   "cell_type": "markdown",
   "metadata": {},
   "source": [
    "# Summary of the computed eigenpairs\n",
    "\n",
    "Eigenpairs of A computed using the neural networn (NN) and numpy (np)"
   ]
  },
  {
   "cell_type": "code",
   "execution_count": 62,
   "metadata": {},
   "outputs": [
    {
     "name": "stdout",
     "output_type": "stream",
     "text": [
      "\n",
      "Maximal eigenpairs:\n",
      "NN: 3.689\n",
      "np: 3.722\n",
      "[ 0.535 -0.007 -0.281  0.696  0.223 -0.318]\n",
      "[ 0.578 -0.021 -0.337  0.627  0.239 -0.318]\n",
      "\n",
      "Minimal eigenpairs:\n",
      "NN: -5.338\n",
      "np: -5.419\n",
      "NN [-0.348  0.503 -0.311 -0.264  0.634 -0.241]\n",
      "np [-0.377  0.564 -0.311 -0.165  0.578 -0.285]\n"
     ]
    }
   ],
   "source": [
    "with np.printoptions(precision=3):\n",
    "    print(\"\\nMaximal eigenpairs:\")\n",
    "    print(\"NN: %2.3f\" % eigval_nn)\n",
    "    print(\"np: %2.3f\" %  eigval[-1])\n",
    "    print(v_pred_np[-1, :])\n",
    "    print(eigvec[:, -1])\n",
    "    \n",
    "    print(\"\\nMinimal eigenpairs:\")\n",
    "    print(\"NN: %2.3f\" % eigval_nn_small)\n",
    "    print(\"np: %2.3f\" % eigval[0])\n",
    "    print(\"NN\", -v_pred_np_small[-1, :])\n",
    "    print(\"np\", eigvec[:, 0])"
   ]
  }
 ],
 "metadata": {
  "kernelspec": {
   "display_name": "Python 3",
   "language": "python",
   "name": "python3"
  },
  "language_info": {
   "codemirror_mode": {
    "name": "ipython",
    "version": 3
   },
   "file_extension": ".py",
   "mimetype": "text/x-python",
   "name": "python",
   "nbconvert_exporter": "python",
   "pygments_lexer": "ipython3",
   "version": "3.8.3"
  }
 },
 "nbformat": 4,
 "nbformat_minor": 4
}
