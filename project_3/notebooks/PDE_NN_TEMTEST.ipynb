{
 "cells": [
  {
   "cell_type": "code",
   "execution_count": 1,
   "metadata": {},
   "outputs": [],
   "source": [
    "import autograd.numpy as np\n",
    "import matplotlib.pyplot as plt\n",
    "from autograd import grad, elementwise_grad, hessian, jacobian\n",
    "\n",
    "import sys\n",
    "sys.path.insert(0, \"../../project_2/src\")\n",
    "from SGD import minibatch"
   ]
  },
  {
   "cell_type": "code",
   "execution_count": 2,
   "metadata": {},
   "outputs": [],
   "source": [
    "# Inspired by mortens example code in week 43\n",
    "\n",
    "def activation_function(z):\n",
    "    return np.maximum(0, z)\n",
    "\n",
    "def activation_out(z):\n",
    "    return z\n",
    "\n",
    "\"\"\"\n",
    "network_shape = [inputs, w1, w2, ..., wL, outputs]\n",
    "\n",
    "W = wwwwb\n",
    "    wwwwb\n",
    "\"\"\"\n",
    "def initialize_params(network_shape):\n",
    "    P = []\n",
    "    for i in range(1, len(network_shape)):\n",
    "        k = network_shape[i-1]\n",
    "        j = network_shape[i]\n",
    "        P.append(np.random.randn(j, k) * np.sqrt(2) / np.sqrt(k))\n",
    "        P[i-1] = np.concatenate((P[i-1], np.zeros(j).reshape(-1,1)), axis=1)\n",
    "\n",
    "    return P\n",
    "\n",
    "def Network(x, P):\n",
    "    # Assume always one point input at a time. Note the [0][0] is to ensure the output to\n",
    "    # the jacobian and hessians is scalar. Have a separate function for predictions after training\n",
    "    a = x.reshape(1,-1)\n",
    "    for P_i in P:\n",
    "        #a = np.concatenate((a, np.ones(np.size(a, 0)).reshape(-1, 1)), axis=1) \n",
    "        a = np.concatenate((a, np.ones((1,1))), axis=1) \n",
    "        z = np.matmul(a, np.transpose(P_i))\n",
    "        a = activation_function(z)\n",
    "    \n",
    "    return activation_out(z)[0][0]\n",
    "\n",
    "def Network_predict(x, P):\n",
    "    #This is for predictions after training, where we can pass the whole x-matrix in one go.\n",
    "    a = x\n",
    "    for P_i in P:\n",
    "        a = np.concatenate((a, np.ones(np.size(a, 0)).reshape(-1, 1)), axis=1) \n",
    "        z = np.matmul(a, np.transpose(P_i))\n",
    "        a = activation_function(z)\n",
    "    \n",
    "    return activation_out(z)\n",
    "\n",
    "def optimize(X, P, N_minibatches, learning_rate, n_epochs):\n",
    "    \n",
    "    assert N_minibatches <= np.size(X, 0)\n",
    "\n",
    "    cost_func_grad = grad(costfunction, 1)\n",
    "    \n",
    "    for epoch in range(n_epochs):\n",
    "        mb = minibatch(X, N_minibatches)\n",
    "        for i in range(N_minibatches):\n",
    "            X_mb = X[mb[i]]\n",
    "            M = np.size(X_mb, 0)\n",
    "            # compute gradients of weights\n",
    "            cost_grad = cost_func_grad(X_mb, P)\n",
    "            for l in range(len(P)):\n",
    "                P[l] -= learning_rate * cost_grad[l]\n",
    "    return P\n",
    "\n",
    "def g_trial(x, P):\n",
    "    return (1 - x[1]) * np.sin(np.pi * x[0]) + x[0] * (1 - x[0]) * x[1] * Network(x, P)\n",
    "\n",
    "def g_trial_predict(x, P):\n",
    "    return (1 - x[:,1]) * np.sin(np.pi * x[:,0]) + x[:,0] * (1 - x[:,0]) * x[:,1] * Network_predict(x, P).reshape(-1)\n",
    "\n",
    "def costfunction(x, P):\n",
    "    cost = 0\n",
    "    u_hess = hessian(g_trial)\n",
    "    u_jacob = jacobian(g_trial)\n",
    "    \n",
    "    for point in x:\n",
    "        dudx2 = u_hess(point, P)[0,0]\n",
    "        dudt = u_jacob(point, P)[1]\n",
    "        cost += (dudt - dudx2)**2\n",
    "\n",
    "    return cost / np.size(x, 0)"
   ]
  },
  {
   "cell_type": "code",
   "execution_count": 3,
   "metadata": {},
   "outputs": [],
   "source": [
    "x = np.linspace(0,1,10)\n",
    "t = np.linspace(0,1,10)\n",
    "x, t = np.meshgrid(x, t) \n",
    "x = x.flatten()\n",
    "t = t.flatten()\n",
    "X = np.concatenate((x.reshape(-1,1), t.reshape(-1, 1)), axis=1)\n",
    "\n",
    "network_shape = [np.size(X, 1), 10, 1]\n",
    "P = initialize_params(network_shape)"
   ]
  },
  {
   "cell_type": "code",
   "execution_count": 4,
   "metadata": {},
   "outputs": [],
   "source": [
    "P = optimize(X, P, 10, 0.002, 10)\n",
    "#y = Network(X[0, :].reshape(1, 2), P)"
   ]
  },
  {
   "cell_type": "code",
   "execution_count": 5,
   "metadata": {},
   "outputs": [
    {
     "data": {
      "text/plain": [
       "Text(0, 0.5, '$t$')"
      ]
     },
     "execution_count": 5,
     "metadata": {},
     "output_type": "execute_result"
    },
    {
     "data": {
      "image/png": "[encoded data removed]",
      "text/plain": [
       "<Figure size 288x216 with 2 Axes>"
      ]
     },
     "metadata": {
      "needs_background": "light"
     },
     "output_type": "display_data"
    }
   ],
   "source": [
    "x = np.linspace(0,1,10)\n",
    "t = np.linspace(0,1,10)\n",
    "x_plot, t_plot = np.meshgrid(x, t)\n",
    "\n",
    "Z = g_trial_predict(X,P)\n",
    "Z = Z.reshape(10,10)\n",
    "\n",
    "fig, ax = plt.subplots(figsize=(4, 3))\n",
    "cf = ax.pcolormesh(x_plot, t_plot, Z, cmap=plt.get_cmap(\"inferno\"))\n",
    "fig.colorbar(cf, ax=ax)\n",
    "ax.set_xlabel(\"$x$\")\n",
    "ax.set_ylabel(\"$t$\")"
   ]
  },
  {
   "cell_type": "code",
   "execution_count": 6,
   "metadata": {},
   "outputs": [
    {
     "name": "stdout",
     "output_type": "stream",
     "text": [
      "1 -> k=2 j=3\n",
      "2 -> k=3 j=1\n",
      "[[-0.37006312  0.15896057  0.        ]\n",
      " [ 1.49830491 -0.88805764  0.        ]\n",
      " [ 0.86108672 -0.39400642  0.        ]]\n",
      "[[ 0.00320159 -0.09037587 -0.25010474  0.        ]]\n"
     ]
    }
   ],
   "source": [
    "# network_shape = [inputs, w1, w2, ..., wL, outputs]\n",
    "def initialize_params(network_shape):\n",
    "    P = []\n",
    "    for i in range(1, len(network_shape)):\n",
    "        k = network_shape[i-1]\n",
    "        j = network_shape[i]\n",
    "        print(i, \"->\", f\"k={k}\", f\"j={j}\")\n",
    "        P.append(np.random.randn(j, k) * np.sqrt(2) / np.sqrt(k))\n",
    "        P[i-1] = np.concatenate((P[i-1], np.zeros(j).reshape(-1,1)), axis=1)\n",
    "    \n",
    "    return P\n",
    "\n",
    "P = initialize_params([2, 3, 1])\n",
    "print(P[0])\n",
    "print(P[1])\n",
    "\n",
    "#X_i = [x, t, 1]"
   ]
  },
  {
   "cell_type": "code",
   "execution_count": 7,
   "metadata": {},
   "outputs": [
    {
     "name": "stdout",
     "output_type": "stream",
     "text": [
      "[[0. 0.]\n",
      " [0. 0.]\n",
      " [0. 0.]\n",
      " [0. 0.]]\n",
      "[[1.]\n",
      " [1.]\n",
      " [1.]\n",
      " [1.]]\n",
      "[[0. 0. 1.]\n",
      " [0. 0. 1.]\n",
      " [0. 0. 1.]\n",
      " [0. 0. 1.]]\n"
     ]
    }
   ],
   "source": [
    "k = 2\n",
    "j = 4\n",
    "\n",
    "P = np.zeros([j,k])\n",
    "print(P)\n",
    "b = np.ones(j).reshape(-1, 1)\n",
    "print(b)\n",
    "P = np.concatenate((P, b), axis=1)\n",
    "print(P)"
   ]
  }
 ],
 "metadata": {
  "kernelspec": {
   "display_name": "Python 3",
   "language": "python",
   "name": "python3"
  },
  "language_info": {
   "codemirror_mode": {
    "name": "ipython",
    "version": 3
   },
   "file_extension": ".py",
   "mimetype": "text/x-python",
   "name": "python",
   "nbconvert_exporter": "python",
   "pygments_lexer": "ipython3",
   "version": "3.7.7"
  }
 },
 "nbformat": 4,
 "nbformat_minor": 4
}
