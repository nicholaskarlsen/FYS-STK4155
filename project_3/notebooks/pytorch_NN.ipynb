{
 "cells": [
  {
   "cell_type": "code",
   "execution_count": 1,
   "metadata": {},
   "outputs": [],
   "source": [
    "import numpy as np\n",
    "import torch\n",
    "import torch.nn.functional as F\n",
    "from torch.autograd.functional import hessian, jacobian"
   ]
  },
  {
   "cell_type": "code",
   "execution_count": 6,
   "metadata": {},
   "outputs": [],
   "source": [
    "x = np.linspace(0,1,10, dtype=np.float)\n",
    "t = np.linspace(0,1,10, dtype=np.float)\n",
    "x, t = np.meshgrid(x, t) \n",
    "x = x.flatten()\n",
    "t = t.flatten()\n",
    "X = np.concatenate((x.reshape(-1,1), t.reshape(-1, 1)), axis=1)\n",
    "\n",
    "num_points, input_dim = X.shape\n",
    "hidden_neurons = 100\n",
    "output_dim = 1"
   ]
  },
  {
   "cell_type": "code",
   "execution_count": 48,
   "metadata": {},
   "outputs": [
    {
     "data": {
      "text/plain": [
       "<torch.autograd.anomaly_mode.set_detect_anomaly at 0x7fd226d598b0>"
      ]
     },
     "execution_count": 48,
     "metadata": {},
     "output_type": "execute_result"
    }
   ],
   "source": [
    "def g_bc(x, t):\n",
    "    return (1 - t) * torch.sin(np.pi * x)\n",
    "\n",
    "def g_nn(x, t, N):\n",
    "    return x * (1 - x) * t * N\n",
    "\n",
    "def g_trial(val, N):\n",
    "    x, t = val.T\n",
    "    return g_bc(x, t) + g_nn(x, t, N)\n",
    "\n",
    "def ode_loss(x, N):\n",
    "    #dudx2 = hessian(g_trial, (x, N))\n",
    "    #dudt = jacobian(g_trial, (x, N))\n",
    "    \n",
    "    return torch.sum(g_trial(x, N))\n",
    "\n",
    "# https://pytorch.org/docs/stable/autograd.html#torch.autograd.functional.hessian\n",
    "#u_hess = hessian(g_trial, (x, N))\n",
    "# https://pytorch.org/docs/stable/autograd.html#torch.autograd.functional.hessian\n",
    "#u_jacob = jacobian(g_trial, (x, N))\n",
    "\n",
    "torch.autograd.set_detect_anomaly(True)"
   ]
  },
  {
   "cell_type": "code",
   "execution_count": 49,
   "metadata": {},
   "outputs": [
    {
     "name": "stdout",
     "output_type": "stream",
     "text": [
      "tensor(2665.4158, grad_fn=<SumBackward0>)\n",
      "tensor(2663.0588, grad_fn=<SumBackward0>)\n",
      "tensor(2660.7019, grad_fn=<SumBackward0>)\n",
      "tensor(2658.3450, grad_fn=<SumBackward0>)\n",
      "tensor(2655.9885, grad_fn=<SumBackward0>)\n"
     ]
    }
   ],
   "source": [
    "dtype = torch.float\n",
    "#device = torch.device(\"cuda:0\")\n",
    "device = torch.device(\"cpu\")\n",
    "\n",
    "x = torch.from_numpy(X)\n",
    "x = x.to(dtype)\n",
    "\n",
    "# Create random Tensors for weights.\n",
    "w1 = torch.randn(input_dim, hidden_neurons, device=device, dtype=dtype, requires_grad=True)\n",
    "w2 = torch.randn(hidden_neurons, output_dim, device=device, dtype=dtype, requires_grad=True)\n",
    "\n",
    "learning_rate = 1e-7\n",
    "for t in range(5):\n",
    "    N_output = F.relu(x.mm(w1)).mm(w2)\n",
    "    \n",
    "    # Compute and print loss\n",
    "    loss = ode_loss(x, N_output)\n",
    "    print(loss)\n",
    "    # Use autograd to compute the backward pass.\n",
    "    loss.backward()\n",
    "    # Update weights using gradient descent\n",
    "    with torch.no_grad():\n",
    "        w1 -= learning_rate * w1.grad\n",
    "        w2 -= learning_rate * w2.grad\n",
    "        # Manually zero the gradients after updating weights\n",
    "        w1.grad.zero_()\n",
    "        w2.grad.zero_()\n"
   ]
  }
 ],
 "metadata": {
  "kernelspec": {
   "display_name": "Python 3",
   "language": "python",
   "name": "python3"
  },
  "language_info": {
   "codemirror_mode": {
    "name": "ipython",
    "version": 3
   },
   "file_extension": ".py",
   "mimetype": "text/x-python",
   "name": "python",
   "nbconvert_exporter": "python",
   "pygments_lexer": "ipython3",
   "version": "3.8.3"
  }
 },
 "nbformat": 4,
 "nbformat_minor": 4
}
