{
 "cells": [
  {
   "cell_type": "code",
   "execution_count": 1,
   "metadata": {},
   "outputs": [],
   "source": [
    "import numpy as np\n",
    "import matplotlib.pyplot as plt\n",
    "import torch\n",
    "import torch.nn.functional as F\n",
    "from torch.autograd.functional import hessian, jacobian"
   ]
  },
  {
   "cell_type": "code",
   "execution_count": 16,
   "metadata": {},
   "outputs": [],
   "source": [
    "x = np.linspace(0,1,100, dtype=np.float)\n",
    "t = np.linspace(0,1,100, dtype=np.float)\n",
    "x, t = np.meshgrid(x, t) \n",
    "x = x.flatten()\n",
    "t = t.flatten()\n",
    "X = np.concatenate((x.reshape(-1,1), t.reshape(-1, 1)), axis=1)\n",
    "\n",
    "num_points, input_dim = X.shape\n",
    "hidden_neurons = 100\n",
    "output_dim = 1"
   ]
  },
  {
   "cell_type": "code",
   "execution_count": 17,
   "metadata": {},
   "outputs": [],
   "source": [
    "def g_trial(x, t, N):\n",
    "    return (1 - t) * torch.sin(np.pi * x) + x * (1 - x) * t * N\n",
    "\n",
    "#@torch.jit.script\n",
    "def ode_loss(input_data, output_data):\n",
    "    loss = 0\n",
    "    \n",
    "    for i in range(input_data.size(0)):\n",
    "        Jx, Jt, Jn = jacobian(g_trial, (input_data[i,0], input_data[i,1], output_data[i]),create_graph=True)\n",
    "        Hx, Ht, Hn = hessian(g_trial, (input_data[i,0], input_data[i,1], output_data[i]),create_graph=True)\n",
    "        loss = loss + (Jt - Hx[0]).pow(2)\n",
    "    \n",
    "    return loss / input_data.size(0)\n",
    "\n",
    "#ode_loss_jit = torch.jit.script(ode_loss)\n",
    "# https://pytorch.org/docs/stable/autograd.html#torch.autograd.functional.hessian\n",
    "#u_hess = hessian(g_trial, (x, N))\n",
    "# https://pytorch.org/docs/stable/autograd.html#torch.autograd.functional.hessian\n",
    "#u_jacob = jacobian(g_trial, (x, N))\n",
    "\n",
    "#torch.autograd.set_detect_anomaly(True)\n",
    "\n",
    "dtype = torch.float\n",
    "#device = torch.device(\"cuda:0\")\n",
    "device = torch.device(\"cpu\")\n",
    "\n",
    "x = torch.from_numpy(X)\n",
    "x = x.to(dtype)\n",
    "x.requires_grad = True\n",
    "\n",
    "# Create random Tensors for weights.\n",
    "w1 = torch.randn(input_dim, hidden_neurons, device=device, dtype=dtype, requires_grad=True)\n",
    "w2 = torch.randn(hidden_neurons, output_dim, device=device, dtype=dtype, requires_grad=True)"
   ]
  },
  {
   "cell_type": "code",
   "execution_count": 18,
   "metadata": {},
   "outputs": [
    {
     "name": "stdout",
     "output_type": "stream",
     "text": [
      "tensor([14.9480], grad_fn=<DivBackward0>)\n",
      "tensor([11.2403], grad_fn=<DivBackward0>)\n",
      "tensor([10.7116], grad_fn=<DivBackward0>)\n",
      "tensor([10.5908], grad_fn=<DivBackward0>)\n",
      "tensor([10.5260], grad_fn=<DivBackward0>)\n",
      "tensor([10.4717], grad_fn=<DivBackward0>)\n",
      "tensor([10.4219], grad_fn=<DivBackward0>)\n",
      "tensor([10.3754], grad_fn=<DivBackward0>)\n",
      "tensor([10.3319], grad_fn=<DivBackward0>)\n",
      "tensor([10.2910], grad_fn=<DivBackward0>)\n"
     ]
    }
   ],
   "source": [
    "learning_rate = 0.002\n",
    "for t in range(10):\n",
    "    N_output = F.relu(x.mm(w1)).mm(w2)\n",
    "    \n",
    "    # Compute and print loss\n",
    "    loss = ode_loss(x, N_output)\n",
    "    print(loss)\n",
    "    \n",
    "    #ode_loss(x, N_output)\n",
    "    #print(\"loss = \",loss)\n",
    "    # Use autograd to compute the backward pass.\n",
    "    loss.backward()\n",
    "    #torch.autograd.backward(loss)\n",
    "    # Update weights using gradient descent\n",
    "    with torch.no_grad():\n",
    "        w1 -= learning_rate * w1.grad\n",
    "        w2 -= learning_rate * w2.grad\n",
    "        # Manually zero the gradients after updating weights\n",
    "        w1.grad.zero_()\n",
    "        w2.grad.zero_()"
   ]
  },
  {
   "cell_type": "code",
   "execution_count": 20,
   "metadata": {},
   "outputs": [
    {
     "name": "stderr",
     "output_type": "stream",
     "text": [
      "<ipython-input-20-b8ea6c900ba8>:15: MatplotlibDeprecationWarning: shading='flat' when X and Y have the same dimensions as C is deprecated since 3.3.  Either specify the corners of the quadrilaterals with X and Y, or pass shading='auto', 'nearest' or 'gouraud', or set rcParams['pcolor.shading'].  This will become an error two minor releases later.\n",
      "  cf = ax.pcolormesh(xp, tp, g, cmap=plt.get_cmap(\"inferno\"))\n"
     ]
    },
    {
     "data": {
      "text/plain": [
       "Text(0, 0.5, '$t$')"
      ]
     },
     "execution_count": 20,
     "metadata": {},
     "output_type": "execute_result"
    },
    {
     "data": {
      "image/png": "[encoded data removed]",
      "text/plain": [
       "<Figure size 288x216 with 2 Axes>"
      ]
     },
     "metadata": {
      "needs_background": "light"
     },
     "output_type": "display_data"
    }
   ],
   "source": [
    "def g_trial_np(x, t, N):\n",
    "    return (1 - t) * np.sin(np.pi * x) + x * (1 - x) * t * N\n",
    "\n",
    "xp = np.linspace(0,1,100, dtype=np.float)\n",
    "tp = np.linspace(0,1,100, dtype=np.float)\n",
    "xp, tp = np.meshgrid(xp, xp) \n",
    "\n",
    "N_pred = F.relu(x.mm(w1)).mm(w2)\n",
    "N_pred = N_pred.detach().numpy()\n",
    "N_pred = N_pred.reshape(xp.shape)\n",
    "\n",
    "g = g_trial_np(xp, tp, N_pred)\n",
    "\n",
    "fig, ax = plt.subplots(figsize=(4, 3))\n",
    "cf = ax.pcolormesh(xp, tp, g, cmap=plt.get_cmap(\"inferno\"))\n",
    "fig.colorbar(cf, ax=ax)\n",
    "ax.set_xlabel(\"$x$\")\n",
    "ax.set_ylabel(\"$t$\")"
   ]
  },
  {
   "cell_type": "code",
   "execution_count": null,
   "metadata": {},
   "outputs": [],
   "source": [
    "def f(x, t, N):\n",
    "    return (x + t - N).mean()\n",
    "\n",
    "x_test, y_test, N_test = (x[:, 0].reshape(-1,1), x[:, 1].reshape(-1,1), N_output)\n",
    "dx, dt, dN = jacobian(f, (x[:, 0].reshape(-1,1), x[:, 1].reshape(-1,1), N_output))\n",
    "print(dt)"
   ]
  },
  {
   "cell_type": "code",
   "execution_count": null,
   "metadata": {},
   "outputs": [],
   "source": [
    "dx, dt, dN = hessian(f, (x[:, 0].reshape(-1, 1), x[:, 1].reshape(-1, 1), N_output))\n",
    "#print(dx[0][0])"
   ]
  },
  {
   "cell_type": "code",
   "execution_count": null,
   "metadata": {},
   "outputs": [],
   "source": [
    "dx, dt, dN = torch.autograd.grad([f(x_test, y_test, N_test)], [x_test, y_test, N_test])"
   ]
  },
  {
   "cell_type": "code",
   "execution_count": null,
   "metadata": {},
   "outputs": [],
   "source": [
    "x1 = torch.linspace(0,1, 10, requires_grad=True)\n",
    "x2 = torch.linspace(0,1, 10, requires_grad=True)\n",
    "z = torch.sin(x1) * torch.cos(x2)\n",
    "\n",
    "print(z)\n",
    "torch.autograd.grad(z, [x1, x2])"
   ]
  },
  {
   "cell_type": "code",
   "execution_count": null,
   "metadata": {},
   "outputs": [],
   "source": [
    "import tensorflow as tf\n",
    "from tensorflow.python.framework.ops import disable_eager_execution\n",
    "disable_eager_execution()\n",
    "\n",
    "xt = tf.convert_to_tensor(X, dtype=\"float32\")\n",
    "\n",
    "class ODE_FFNN(tf.keras.Model):\n",
    "    def __init__(self):\n",
    "        super(ODE_FFNN, self).__init__()\n",
    "        self.input_layer = tf.keras.layers.Dense(2)\n",
    "        self.hidden_layer = tf.keras.layers.Dense(10, activation='relu')\n",
    "        self.output_layer = tf.keras.layers.Dense(1)\n",
    "        return\n",
    "        \n",
    "    def call(self, input_tensor, training=True):\n",
    "        x = self.input_layer(input_tensor, training=training)\n",
    "        x = self.hidden_layer(x, training=training)\n",
    "        x = self.output_layer(x, training=training)\n",
    "        return x\n",
    "    \n",
    "def g_trial(x, t, N):\n",
    "    x, t, = xt[:, 0], xt[:, 1]\n",
    "    x = tf.reshape(x, shape=(-1,1))\n",
    "    t = tf.reshape(t, shape=(-1,1))\n",
    "    #print(N(xt).shape)\n",
    "    #print(x.shape)\n",
    "    #print(t.shape)\n",
    "    return (1 - t) * tf.sin(np.pi * t) + x * (1 - x) * t * N\n",
    "\n",
    "\n",
    "    \n",
    "def cost_func(x, nn):\n",
    "    return tf.reduce_mean(x, axis=0)\n",
    "    \n",
    "nn = ODE_FFNN()\n",
    "\n",
    "#print(nn(xt).shape)\n",
    "print(\"->\", g_trial(xt, nn).shape)\n",
    "\n",
    "print(tf.hessians(ys = g_trial(xt, nn), xs = xt))\n",
    "\n",
    "#cost_func(xt, nn)"
   ]
  }
 ],
 "metadata": {
  "kernelspec": {
   "display_name": "Python 3",
   "language": "python",
   "name": "python3"
  },
  "language_info": {
   "codemirror_mode": {
    "name": "ipython",
    "version": 3
   },
   "file_extension": ".py",
   "mimetype": "text/x-python",
   "name": "python",
   "nbconvert_exporter": "python",
   "pygments_lexer": "ipython3",
   "version": "3.8.3"
  }
 },
 "nbformat": 4,
 "nbformat_minor": 4
}
