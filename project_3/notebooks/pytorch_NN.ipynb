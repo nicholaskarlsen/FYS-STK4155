{
 "cells": [
  {
   "cell_type": "code",
   "execution_count": 1,
   "metadata": {},
   "outputs": [],
   "source": [
    "import numpy as np\n",
    "import torch\n",
    "import torch.nn.functional as F\n",
    "from torch.autograd.functional import hessian, jacobian"
   ]
  },
  {
   "cell_type": "code",
   "execution_count": 111,
   "metadata": {},
   "outputs": [],
   "source": [
    "x = np.linspace(0,1,10, dtype=np.float)\n",
    "t = np.linspace(0,1,10, dtype=np.float)\n",
    "x, t = np.meshgrid(x, t) \n",
    "x = x.flatten()\n",
    "t = t.flatten()\n",
    "#X = np.concatenate((x.reshape(-1,1), t.reshape(-1, 1)), axis=1)\n",
    "\n",
    "num_points, input_dim = X.shape\n",
    "hidden_neurons = 100\n",
    "output_dim = 1"
   ]
  },
  {
   "cell_type": "code",
   "execution_count": 124,
   "metadata": {},
   "outputs": [
    {
     "name": "stdout",
     "output_type": "stream",
     "text": [
      "-> (100, 1)\n",
      "[<tf.Tensor 'Reshape_177:0' shape=(100, 2, 100, 2) dtype=float32>]\n"
     ]
    }
   ],
   "source": [
    "import tensorflow as tf\n",
    "from tensorflow.python.framework.ops import disable_eager_execution\n",
    "disable_eager_execution()\n",
    "\n",
    "xt = tf.convert_to_tensor(X, dtype=\"float32\")\n",
    "\n",
    "class ODE_FFNN(tf.keras.Model):\n",
    "    def __init__(self):\n",
    "        super(ODE_FFNN, self).__init__()\n",
    "        self.input_layer = tf.keras.layers.Dense(2)\n",
    "        self.hidden_layer = tf.keras.layers.Dense(10, activation='relu')\n",
    "        self.output_layer = tf.keras.layers.Dense(1)\n",
    "        return\n",
    "        \n",
    "    def call(self, input_tensor, training=True):\n",
    "        x = self.input_layer(input_tensor, training=training)\n",
    "        x = self.hidden_layer(x, training=training)\n",
    "        x = self.output_layer(x, training=training)\n",
    "        return x\n",
    "    \n",
    "def g_trial(xt, N):\n",
    "    x, t, = xt[:, 0], xt[:, 1]\n",
    "    x = tf.reshape(x, shape=(-1,1))\n",
    "    t = tf.reshape(t, shape=(-1,1))\n",
    "    #print(N(xt).shape)\n",
    "    #print(x.shape)\n",
    "    #print(t.shape)\n",
    "    return (1 - t) * tf.sin(np.pi * t) + x * (1 - x) * t * N(xt)\n",
    "\n",
    "\n",
    "    \n",
    "def cost_func(x, nn):\n",
    "    return tf.reduce_mean(x, axis=0)\n",
    "    \n",
    "nn = ODE_FFNN()\n",
    "\n",
    "#print(nn(xt).shape)\n",
    "print(\"->\", g_trial(xt, nn).shape)\n",
    "\n",
    "print(tf.hessians(ys = g_trial(xt, nn), xs = xt))\n",
    "\n",
    "#cost_func(xt, nn)"
   ]
  },
  {
   "cell_type": "code",
   "execution_count": 128,
   "metadata": {},
   "outputs": [
    {
     "name": "stdout",
     "output_type": "stream",
     "text": [
      "loss =  tensor(32.5826, grad_fn=<DivBackward0>)\n",
      "loss =  tensor(32.5826, grad_fn=<DivBackward0>)\n",
      "loss =  tensor(32.5826, grad_fn=<DivBackward0>)\n",
      "loss =  tensor(32.5826, grad_fn=<DivBackward0>)\n",
      "loss =  tensor(32.5826, grad_fn=<DivBackward0>)\n"
     ]
    }
   ],
   "source": [
    "def g_bc(x, t):\n",
    "    return (1 - t) * torch.sin(np.pi * x)\n",
    "\n",
    "def g_nn(x, t, N):\n",
    "    return x * (1 - x) * t * N\n",
    "\n",
    "def g_trial(val, N):\n",
    "    x, t = val.T\n",
    "    return g_bc(x, t) + g_nn(x, t, N)\n",
    "\n",
    "def ode_loss(x, N):\n",
    "    #dudx2 = hessian(g_trial, (x, N))\n",
    "    #dudt = jacobian(g_trial, (x, N))\n",
    "    \n",
    "    loss_all = torch.zeros(x.size(0), requires_grad = True)\n",
    "    \n",
    "    # Split into each x_i, N_i pair before computing gradient!\n",
    "    for i in range(x.size(0)):\n",
    "        #dudx2 = hessian(g_trial, (x[i,:], N[i]))[0][0][0][0]\n",
    "        J_g, _ = jacobian(g_trial, (x[i,:], N[i]))\n",
    "        H_g, _ = hessian(g_trial, (x[i,:], N[i]))\n",
    "        \n",
    "        #print(J_g[0,1])\n",
    "        #print(H_g[0][0,0])\n",
    "        \n",
    "        #print(\"\\n\\ndudx = \", dudx2,\"\\ndudt=\", dudt)\n",
    "        loss_all[i] = (J_g[0,1] - H_g[0][0,0])**2\n",
    "        \n",
    "    #print(\"loss=\",loss)\n",
    "    #return torch.sum(g_trial(x, N))\n",
    "    return torch.sum(loss_all) / x.size(0)\n",
    "# https://pytorch.org/docs/stable/autograd.html#torch.autograd.functional.hessian\n",
    "#u_hess = hessian(g_trial, (x, N))\n",
    "# https://pytorch.org/docs/stable/autograd.html#torch.autograd.functional.hessian\n",
    "#u_jacob = jacobian(g_trial, (x, N))\n",
    "\n",
    "#torch.autograd.set_detect_anomaly(True)\n",
    "\n",
    "\n",
    "dtype = torch.float\n",
    "#device = torch.device(\"cuda:0\")\n",
    "device = torch.device(\"cpu\")\n",
    "\n",
    "x = torch.from_numpy(X)\n",
    "x = x.to(dtype)\n",
    "x.requires_grad = True\n",
    "\n",
    "# Create random Tensors for weights.\n",
    "w1 = torch.randn(input_dim, hidden_neurons, device=device, dtype=dtype, requires_grad=True)\n",
    "w2 = torch.randn(hidden_neurons, output_dim, device=device, dtype=dtype, requires_grad=True)\n",
    "\n",
    "learning_rate = 1e-7\n",
    "for t in range(5):\n",
    "    N_output = F.relu(x.mm(w1)).mm(w2)\n",
    "    \n",
    "    # Compute and print loss\n",
    "    loss = ode_loss(x, N_output)\n",
    "    print(\"loss = \",loss)\n",
    "    # Use autograd to compute the backward pass.\n",
    "    #loss.backward()\n",
    "    # Update weights using gradient descent\n",
    "    #with torch.no_grad():\n",
    "    #    w1 -= learning_rate * w1.grad\n",
    "    #    w2 -= learning_rate * w2.grad\n",
    "    #    # Manually zero the gradients after updating weights\n",
    "    #    w1.grad.zero_()\n",
    "    #    w2.grad.zero_()"
   ]
  },
  {
   "cell_type": "code",
   "execution_count": null,
   "metadata": {},
   "outputs": [],
   "source": []
  }
 ],
 "metadata": {
  "kernelspec": {
   "display_name": "Python 3",
   "language": "python",
   "name": "python3"
  },
  "language_info": {
   "codemirror_mode": {
    "name": "ipython",
    "version": 3
   },
   "file_extension": ".py",
   "mimetype": "text/x-python",
   "name": "python",
   "nbconvert_exporter": "python",
   "pygments_lexer": "ipython3",
   "version": "3.8.3"
  }
 },
 "nbformat": 4,
 "nbformat_minor": 4
}
