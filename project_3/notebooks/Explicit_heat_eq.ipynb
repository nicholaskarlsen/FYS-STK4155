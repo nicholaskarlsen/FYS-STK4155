{
 "cells": [
  {
   "cell_type": "code",
   "execution_count": 2,
   "metadata": {},
   "outputs": [],
   "source": [
    "import numpy as np\n",
    "import matplotlib.pyplot as plt\n",
    "\n",
    "\n",
    "\n",
    "plt.rcParams.update(\n",
    "    {\n",
    "        \"text.usetex\": True,\n",
    "        \"font.family\": \"serif\",\n",
    "        # \"font.sans-serif\": [\"Helvetica\"]\n",
    "    }\n",
    ")\n",
    "\n"
   ]
  },
  {
   "cell_type": "code",
   "execution_count": 4,
   "metadata": {},
   "outputs": [
    {
     "name": "stderr",
     "output_type": "stream",
     "text": [
      "<ipython-input-4-afd72d4ed239>:31: MatplotlibDeprecationWarning: shading='flat' when X and Y have the same dimensions as C is deprecated since 3.3.  Either specify the corners of the quadrilaterals with X and Y, or pass shading='auto', 'nearest' or 'gouraud', or set rcParams['pcolor.shading'].  This will become an error two minor releases later.\n",
      "  cf = ax.pcolormesh(X, T, Z, cmap=plt.get_cmap(\"inferno\"))\n"
     ]
    },
    {
     "data": {
      "text/plain": [
       "Text(0, 0.5, '$t$')"
      ]
     },
     "execution_count": 4,
     "metadata": {},
     "output_type": "execute_result"
    },
    {
     "data": {
      "image/png": "[encoded data removed]",
      "text/plain": [
       "<Figure size 288x216 with 2 Axes>"
      ]
     },
     "metadata": {
      "needs_background": "light"
     },
     "output_type": "display_data"
    }
   ],
   "source": [
    "# Explicit scheme for solving the heat equation, given our B.C.s and I.V.s\n",
    "\n",
    "#def explicit_FD_heat_equation(dx,dt,t_final):\n",
    "tn = 0.2\n",
    "dt = 0.001\n",
    "dx = 0.1\n",
    "x = np.linspace(0, 1, int(1/dx)+1)\n",
    "t = np.linspace(0, tn, int(tn/dt)+1)\n",
    "delta = dt/dx**2\n",
    "\n",
    "solution = np.zeros((len(t),len(x))) #each timestep is on one row, since python is row-major should speed up\n",
    "                                     # the matrix@ vector operation in the time-stepping due to caching.\n",
    "solution[0,:] = np.sin(np.pi*x)\n",
    "solution[0,-1] = 0 #Getting rid of a machine epsilon, per B.C should be identically zero.\n",
    "\n",
    "#setup scheme matrix, should be scipy routines for faster (sparse) handling of this\n",
    "scheme_matrix = np.zeros((len(x),len(x)))\n",
    "building_block = np.asarray([delta, 1-2*delta, delta]) # central-difference in space, forward-euler in time.\n",
    "for i in range(1,len(x)-1): #Note the zero-padding for top and bottom row, to comply with B.C\n",
    "    scheme_matrix[i,i-1:i+2] = building_block # Tridiagonal matrix apart from top and bottom row.\n",
    "\n",
    "\n",
    "for i in range(len(t)-1):\n",
    "    solution[i+1,:] = scheme_matrix @ solution[i,:] #Numpy should interpret solution as shape (N,1) during computation\n",
    "    \n",
    "\n",
    "X, T = np.meshgrid(x, t)\n",
    "Z = solution\n",
    "\n",
    "fig, ax = plt.subplots(figsize=(4, 3))\n",
    "cf = ax.pcolormesh(X, T, Z, cmap=plt.get_cmap(\"inferno\"))\n",
    "fig.colorbar(cf, ax=ax)\n",
    "ax.set_xlabel(\"$x$\")\n",
    "ax.set_ylabel(\"$t$\")"
   ]
  },
  {
   "cell_type": "code",
   "execution_count": 15,
   "metadata": {},
   "outputs": [
    {
     "data": {
      "text/plain": [
       "(1001, 11)"
      ]
     },
     "execution_count": 15,
     "metadata": {},
     "output_type": "execute_result"
    }
   ],
   "source": [
    "Z.shape"
   ]
  },
  {
   "cell_type": "code",
   "execution_count": 5,
   "metadata": {},
   "outputs": [
    {
     "name": "stderr",
     "output_type": "stream",
     "text": [
      "<ipython-input-5-d7940b44571c>:17: MatplotlibDeprecationWarning: shading='flat' when X and Y have the same dimensions as C is deprecated since 3.3.  Either specify the corners of the quadrilaterals with X and Y, or pass shading='auto', 'nearest' or 'gouraud', or set rcParams['pcolor.shading'].  This will become an error two minor releases later.\n",
      "  cf = ax.pcolormesh(X, T, Z, cmap=plt.get_cmap(\"inferno\"))\n"
     ]
    },
    {
     "data": {
      "text/plain": [
       "Text(0, 0.5, '$t$')"
      ]
     },
     "execution_count": 5,
     "metadata": {},
     "output_type": "execute_result"
    },
    {
     "data": {
      "image/png": "[encoded data removed]",
      "text/plain": [
       "<Figure size 288x216 with 2 Axes>"
      ]
     },
     "metadata": {
      "needs_background": "light"
     },
     "output_type": "display_data"
    }
   ],
   "source": [
    "# Copied from analytic notebook. Added endpoint to linspace and pi**2 to exp in analytic solution.\n",
    "\n",
    "def u(x, t):\n",
    "    return np.sin(np.pi * x) * np.exp(- np.pi**2 * t)\n",
    "\n",
    "tn = 0.2\n",
    "dx = 0.1\n",
    "dt = 0.001\n",
    "\n",
    "x = np.linspace(0, 1, int(1 / dx)+1)\n",
    "t = np.linspace(0, tn, int(tn / dt)+1)\n",
    "\n",
    "X, T = np.meshgrid(x, t)\n",
    "Z = u(X, T)\n",
    "\n",
    "fig, ax = plt.subplots(figsize=(4, 3))\n",
    "cf = ax.pcolormesh(X, T, Z, cmap=plt.get_cmap(\"inferno\"))\n",
    "fig.colorbar(cf, ax=ax)\n",
    "ax.set_xlabel(\"$x$\")\n",
    "ax.set_ylabel(\"$t$\")"
   ]
  },
  {
   "cell_type": "code",
   "execution_count": 17,
   "metadata": {},
   "outputs": [
    {
     "data": {
      "text/plain": [
       "(1001, 11)"
      ]
     },
     "execution_count": 17,
     "metadata": {},
     "output_type": "execute_result"
    }
   ],
   "source": [
    "Z.shape"
   ]
  },
  {
   "cell_type": "code",
   "execution_count": null,
   "metadata": {},
   "outputs": [],
   "source": []
  }
 ],
 "metadata": {
  "kernelspec": {
   "display_name": "Python 3",
   "language": "python",
   "name": "python3"
  },
  "language_info": {
   "codemirror_mode": {
    "name": "ipython",
    "version": 3
   },
   "file_extension": ".py",
   "mimetype": "text/x-python",
   "name": "python",
   "nbconvert_exporter": "python",
   "pygments_lexer": "ipython3",
   "version": "3.8.5"
  }
 },
 "nbformat": 4,
 "nbformat_minor": 4
}
