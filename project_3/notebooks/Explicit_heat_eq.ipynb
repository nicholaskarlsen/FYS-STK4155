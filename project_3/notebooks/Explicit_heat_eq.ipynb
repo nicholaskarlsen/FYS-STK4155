{
 "cells": [
  {
   "cell_type": "code",
   "execution_count": 1,
   "metadata": {},
   "outputs": [],
   "source": [
    "import numpy as np\n",
    "import matplotlib.pyplot as plt\n",
    "\n",
    "\n",
    "\n",
    "plt.rcParams.update(\n",
    "    {\n",
    "        \"text.usetex\": True,\n",
    "        \"font.family\": \"serif\",\n",
    "        # \"font.sans-serif\": [\"Helvetica\"]\n",
    "    }\n",
    ")\n",
    "\n"
   ]
  },
  {
   "cell_type": "code",
   "execution_count": 5,
   "metadata": {},
   "outputs": [
    {
     "name": "stderr",
     "output_type": "stream",
     "text": [
      "<ipython-input-5-e72ed0131c19>:27: MatplotlibDeprecationWarning: shading='flat' when X and Y have the same dimensions as C is deprecated since 3.3.  Either specify the corners of the quadrilaterals with X and Y, or pass shading='auto', 'nearest' or 'gouraud', or set rcParams['pcolor.shading'].  This will become an error two minor releases later.\n",
      "  cf = ax.pcolormesh(X, T, Z, cmap=plt.get_cmap(\"inferno\"))\n"
     ]
    },
    {
     "data": {
      "text/plain": [
       "Text(0, 0.5, '$t$')"
      ]
     },
     "execution_count": 5,
     "metadata": {},
     "output_type": "execute_result"
    },
    {
     "data": {
      "image/png": "[encoded data removed]",
      "text/plain": [
       "<Figure size 288x216 with 2 Axes>"
      ]
     },
     "metadata": {
      "needs_background": "light"
     },
     "output_type": "display_data"
    }
   ],
   "source": [
    "#def explicit_FD_heat_equation(dx,dt,t_final):\n",
    "tn = 1\n",
    "dt = 0.005\n",
    "dx = 0.1\n",
    "x = np.linspace(0, 1, int(1/dx)+1)\n",
    "t = np.linspace(0, tn, int(tn/dt)+1)\n",
    "delta = dt/dx**2\n",
    "\n",
    "solution = np.zeros((len(t),len(x)))\n",
    "solution[0,:] = np.sin(np.pi*x)\n",
    "\n",
    "#setup scheme matrix, should be scipy routines for faster (sparse) handling of this\n",
    "scheme_matrix = np.zeros((len(x),len(x)))\n",
    "building_block = np.asarray([delta, 1-2*delta, delta])\n",
    "for i in range(1,len(x)-1):\n",
    "    scheme_matrix[i,i-1:i+2] = building_block\n",
    "\n",
    "\n",
    "for i in range(len(t)-1):\n",
    "    solution[i+1,:] = scheme_matrix @ solution[i,:]\n",
    "    \n",
    "\n",
    "X, T = np.meshgrid(x, t)\n",
    "Z = solution\n",
    "\n",
    "fig, ax = plt.subplots(figsize=(4, 3))\n",
    "cf = ax.pcolormesh(X, T, Z, cmap=plt.get_cmap(\"inferno\"))\n",
    "fig.colorbar(cf, ax=ax)\n",
    "ax.set_xlabel(\"$x$\")\n",
    "ax.set_ylabel(\"$t$\")"
   ]
  },
  {
   "cell_type": "code",
   "execution_count": null,
   "metadata": {},
   "outputs": [],
   "source": []
  }
 ],
 "metadata": {
  "kernelspec": {
   "display_name": "Python 3",
   "language": "python",
   "name": "python3"
  },
  "language_info": {
   "codemirror_mode": {
    "name": "ipython",
    "version": 3
   },
   "file_extension": ".py",
   "mimetype": "text/x-python",
   "name": "python",
   "nbconvert_exporter": "python",
   "pygments_lexer": "ipython3",
   "version": "3.8.5"
  }
 },
 "nbformat": 4,
 "nbformat_minor": 4
}
