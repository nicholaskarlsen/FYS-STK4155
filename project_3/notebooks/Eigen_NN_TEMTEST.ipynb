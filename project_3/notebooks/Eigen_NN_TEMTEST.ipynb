{
 "cells": [
  {
   "cell_type": "code",
   "execution_count": 115,
   "metadata": {},
   "outputs": [],
   "source": [
    "import autograd.numpy as np\n",
    "import matplotlib.pyplot as plt\n",
    "from autograd import grad, elementwise_grad, hessian, jacobian\n",
    "\n",
    "import sys\n",
    "sys.path.insert(0, \"../../project_2/src\")\n",
    "from SGD import minibatch"
   ]
  },
  {
   "cell_type": "code",
   "execution_count": 116,
   "metadata": {},
   "outputs": [],
   "source": [
    "# Inspired by mortens example code in week 43\n",
    "\n",
    "def activation_function(z):\n",
    "    return np.maximum(0, z)\n",
    "\n",
    "def activation_out(z):\n",
    "    return z\n",
    "\n",
    "\"\"\"\n",
    "network_shape = [inputs, w1, w2, ..., wL, outputs]\n",
    "\n",
    "W = wwwwb\n",
    "    wwwwb\n",
    "\"\"\"\n",
    "def initialize_params(network_shape):\n",
    "    P = []\n",
    "    for i in range(1, len(network_shape)):\n",
    "        k = network_shape[i-1]\n",
    "        j = network_shape[i]\n",
    "        P.append(np.random.randn(j, k) * np.sqrt(2) / np.sqrt(k))\n",
    "        P[i-1] = np.concatenate((P[i-1], np.zeros(j).reshape(-1,1)), axis=1)\n",
    "\n",
    "    return P\n",
    "\n",
    "def Network(t, P):\n",
    "    # Assumes the input t to be a scalar, returns a 2d-row vector e.g. shape=[1,6]\n",
    "    a = t.reshape(-1,1)\n",
    "    for P_i in P:\n",
    "        #a = np.concatenate((a, np.ones(np.size(a, 0)).reshape(-1, 1)), axis=1) \n",
    "        a = np.concatenate((a, np.ones((1,1))), axis=1) \n",
    "        z = np.matmul(a, np.transpose(P_i))\n",
    "        a = activation_function(z)\n",
    "    \n",
    "    return activation_out(z) \n",
    "\n",
    "def Network_predict(t, P):\n",
    "    # For predictions\n",
    "    # Assumes the input t to be a 1d-array, \n",
    "    # returns a matrix where each row corresponds to a vector for a particular t\n",
    "    a = t.reshape(-1,1)\n",
    "    for P_i in P:\n",
    "        a = np.concatenate((a, np.ones(np.size(a, 0)).reshape(-1, 1)), axis=1) \n",
    "        #a = np.concatenate((a, np.ones((1,1))), axis=1) \n",
    "        z = np.matmul(a, np.transpose(P_i))\n",
    "        a = activation_function(z)\n",
    "    \n",
    "    return activation_out(z) \n",
    "\n",
    "def optimize(t, P, A, x_0, N_minibatches, learning_rate, n_epochs):\n",
    "    # Assumes t is a 1d-array.\n",
    "    assert N_minibatches <= np.size(t, 0)\n",
    "\n",
    "    cost_func_grad = grad(costfunction, 1) # Check which grad-call is correct.\n",
    "    \n",
    "    for epoch in range(n_epochs):\n",
    "        mb = minibatch(t, N_minibatches)\n",
    "        for i in range(N_minibatches):\n",
    "            t_mb = t[mb[i]]\n",
    "            M = np.size(t_mb, 0)\n",
    "            # compute gradients of weights\n",
    "            cost_grad = cost_func_grad(t_mb, P, A, x_0)\n",
    "            for l in range(len(P)):\n",
    "                P[l] -= learning_rate * cost_grad[l]\n",
    "    return P\n",
    "\n",
    "def g_trial(t, P, x_0):\n",
    "    #assumes the input t to be a scalar, x_0 is 1d-row-vector which broadcasts to e.g. (1,6)\n",
    "    \n",
    "    return np.exp(-t*100)*x_0 + (1-np.exp(-t*100))*Network(t,P)\n",
    "\n",
    "def g_trial_predict(t, P, x_0):\n",
    "    # For predictions\n",
    "    #assumes the input t to be a 1d-array, broadcasts along the rows of Network_predict's output\n",
    "    t = t.reshape(-1,1)\n",
    "    return np.exp(-t*100)*x_0 + (1-np.exp(-t*100))*Network_predict(t,P)\n",
    "\n",
    "def costfunction(t, P, A, x_0):\n",
    "    \n",
    "    cost = 0\n",
    "    g_grad = jacobian(g_trial,0) # Check that this is the correct grad-call\n",
    "    \n",
    "    for time in t:\n",
    "        d_dt = g_grad(time,P,x_0).reshape(-1,1) # should have shape (eigenvector_length,1)\n",
    "        x_t = g_trial(time,P,x_0).reshape(-1,1) #check shape, should be (eigenvector_length,1)\n",
    "        # Right hand side is: -x + [x.T @ x * A + (1 - x.T @ A @ x) @ I] @ x where x is x_t is a column vector\n",
    "        right_side = (-x_t + (x_t.T @ x_t * A + (1 - x_t.T @ A @ x_t) * np.identity(np.size(x_t,0))) @ x_t)\n",
    "#        print(x_t)\n",
    "#        print(right_side)\n",
    "#         right_side = -x_t + np.matmul( # -x + [\n",
    "#                                 np.matmul(np.transpose(x_t), x_t) * A #(x.T @ x) * A\n",
    "#                                 + ( 1 - np.matmul(np.transpose(x_t),np.matmul(A, x_t))) # + (1-x.t @ A @ x)\n",
    "#                                 * np.identity(np.size(x_t, 0)) # * I\n",
    "#                                 , x_t) # ] @ x\n",
    "        cost = cost + np.sum((d_dt - right_side)**2) / np.size(x_t,0) \n",
    "                                                              \n",
    "        \n",
    "\n",
    "    return cost / np.size(t)"
   ]
  },
  {
   "cell_type": "code",
   "execution_count": 141,
   "metadata": {},
   "outputs": [
    {
     "name": "stdout",
     "output_type": "stream",
     "text": [
      "[-1.56887992 -0.48134608 -0.03749509  0.51368892  1.23063218]\n",
      "[[-0.11591938  0.36630714 -0.31514082 -0.31481908  0.80867607]\n",
      " [-0.03697112 -0.06476226  0.82605531  0.3081914   0.46592883]\n",
      " [-0.81391888  0.16545258 -0.18429373  0.52208713 -0.06018593]\n",
      " [-0.22777979  0.66454556  0.41248819 -0.46070518 -0.35227801]\n",
      " [ 0.52043083  0.6266016  -0.1191982   0.56664166 -0.0350885 ]]\n"
     ]
    }
   ],
   "source": [
    "t = np.linspace(0,1,100)\n",
    "Q = np.random.randn(6,6)\n",
    "A = (np.transpose(Q) + Q) /2 #standard trick for making symmetric real\n",
    "A = np.array([[0.7663, 0.4283, -0.3237, -0.4298, -0.1438], [0.4283,0.2862,0.0118,-0.2802,0.1230]\n",
    "              , [-0.3237,0.0118,-0.9093,-0.4383,0.7684],[-0.4298,-0.2802,-0.4384,-0.0386,-0.1315]\n",
    "              , [-0.1438,0.1230,0.7684,-0.1315,-0.4480]]) #matrix from Yi et al.\n",
    "\n",
    "x_0 = np.random.randn(np.size(A,0)) #initial guess for eigenvector.\n",
    "\n",
    "network_shape = [1, 10, np.size(x_0)] #output must match eigenvector length\n",
    "P = initialize_params(network_shape)\n",
    "\n",
    "# Solution from np.linalg.eigh\n",
    "\n",
    "eigval, eigvec = np.linalg.eigh(A)\n",
    "print(eigval)\n",
    "print(eigvec)"
   ]
  },
  {
   "cell_type": "code",
   "execution_count": 196,
   "metadata": {},
   "outputs": [],
   "source": [
    "P = optimize(t,P,A,x_0,10,0.0005,10)\n",
    "x_test = g_trial_predict(t,P,x_0)\n",
    "x_test = x_test/np.linalg.norm(x_test,axis=1)[:,np.newaxis]"
   ]
  },
  {
   "cell_type": "code",
   "execution_count": 197,
   "metadata": {},
   "outputs": [
    {
     "name": "stdout",
     "output_type": "stream",
     "text": [
      "[ 0.8191699   0.43716885 -0.1283537  -0.34822712 -0.01035701]\n",
      "[ 0.80748771  0.47444741 -0.05946983 -0.34356713 -0.03589184]\n",
      "[ 0.80867607  0.46592883 -0.06018593 -0.35227801 -0.0350885 ]\n",
      "0.019937264578885575\n"
     ]
    }
   ],
   "source": [
    "print(x_test[0])\n",
    "print(x_test[-1])\n",
    "print(eigvec[:,-1])\n",
    "print(np.sum(np.abs(np.abs(x_test[-1])-np.abs(eigvec[:,-1]))))"
   ]
  },
  {
   "cell_type": "code",
   "execution_count": 30,
   "metadata": {},
   "outputs": [
    {
     "name": "stdout",
     "output_type": "stream",
     "text": [
      "[[-1.42335238]\n",
      " [ 0.45299681]\n",
      " [ 0.01039818]\n",
      " [ 2.37626212]\n",
      " [-2.0335502 ]]\n",
      "[[-0.8086801 ]\n",
      " [-0.46592499]\n",
      " [ 0.06020916]\n",
      " [ 0.35226867]\n",
      " [ 0.03510045]]\n",
      "[[1.2306343]]\n"
     ]
    }
   ],
   "source": [
    "#Forward Euler for Yi et al diff.eq\n",
    "\n",
    "x_t = x_0.reshape(-1,1)\n",
    "dt = 0.01\n",
    "print(x_t) # initial guess\n",
    "for i in range(500):\n",
    "    x_t = x_t + (-x_t + (x_t.T @ x_t * A + (1 - x_t.T @ A @ x_t) * np.identity(5)) @ x_t)*dt\n",
    "print(x_t/np.sqrt(x_t.T @ x_t)) # normalized eigenvector\n",
    "print(x_t.T @ A @ x_t / (x_t.T @ x_t)) # eigenvalue"
   ]
  },
  {
   "cell_type": "code",
   "execution_count": null,
   "metadata": {},
   "outputs": [],
   "source": []
  }
 ],
 "metadata": {
  "kernelspec": {
   "display_name": "Python 3",
   "language": "python",
   "name": "python3"
  },
  "language_info": {
   "codemirror_mode": {
    "name": "ipython",
    "version": 3
   },
   "file_extension": ".py",
   "mimetype": "text/x-python",
   "name": "python",
   "nbconvert_exporter": "python",
   "pygments_lexer": "ipython3",
   "version": "3.8.3"
  }
 },
 "nbformat": 4,
 "nbformat_minor": 4
}
