{
 "cells": [
  {
   "cell_type": "code",
   "execution_count": 1,
   "metadata": {},
   "outputs": [],
   "source": [
    "import autograd.numpy as np\n",
    "import matplotlib.pyplot as plt\n",
    "from autograd import grad, elementwise_grad, hessian, jacobian\n",
    "\n",
    "import sys\n",
    "sys.path.insert(0, \"../../project_2/src\")\n",
    "from SGD import minibatch"
   ]
  },
  {
   "cell_type": "code",
   "execution_count": 2,
   "metadata": {},
   "outputs": [],
   "source": [
    "# Inspired by mortens example code in week 43\n",
    "\n",
    "def activation_function(z):\n",
    "    return np.maximum(0, z)\n",
    "\n",
    "def activation_out(z):\n",
    "    return z\n",
    "\n",
    "\"\"\"\n",
    "network_shape = [inputs, w1, w2, ..., wL, outputs]\n",
    "\n",
    "W = wwwwb\n",
    "    wwwwb\n",
    "\"\"\"\n",
    "def initialize_params(network_shape):\n",
    "    P = []\n",
    "    for i in range(1, len(network_shape)):\n",
    "        k = network_shape[i-1]\n",
    "        j = network_shape[i]\n",
    "        P.append(np.random.randn(j, k) * np.sqrt(2) / np.sqrt(k))\n",
    "        P[i-1] = np.concatenate((P[i-1], np.zeros(j).reshape(-1,1)), axis=1)\n",
    "\n",
    "    return P\n",
    "\n",
    "def Network(t, P):\n",
    "    # Assumes the input t to be a single-element 1d-array, returns a vector\n",
    "    a = t.reshape(-1,1)\n",
    "    for P_i in P:\n",
    "        #a = np.concatenate((a, np.ones(np.size(a, 0)).reshape(-1, 1)), axis=1) \n",
    "        a = np.concatenate((a, np.ones((1,1))), axis=1) \n",
    "        z = np.matmul(a, np.transpose(P_i))\n",
    "        a = activation_function(z)\n",
    "    \n",
    "    return activation_out(z) #check the returned shape\n",
    "\n",
    "def optimize(t, P, A, x_0, N_minibatches, learning_rate, n_epochs):\n",
    "    \n",
    "    assert N_minibatches <= np.size(t, 0)\n",
    "\n",
    "    cost_func_grad = grad(costfunction, 1) # Check which grad-call is correct.\n",
    "    \n",
    "    for epoch in range(n_epochs):\n",
    "        mb = minibatch(t, N_minibatches)\n",
    "        for i in range(N_minibatches):\n",
    "            t_mb = t[mb[i]]\n",
    "            M = np.size(t_mb, 0)\n",
    "            # compute gradients of weights\n",
    "            cost_grad = cost_func_grad(t_mb, P, A, x_0)\n",
    "            for l in range(len(P)):\n",
    "                P[l] -= learning_rate * cost_grad[l]\n",
    "    return P\n",
    "\n",
    "def g_trial(t, P, x_0):\n",
    "    #assumes the input t to be a single-element 1d-array\n",
    "    \n",
    "    return np.exp(t)*x_0 + (1-exp(t))*Network(t,P)\n",
    "\n",
    "def costfunction(t, P, A, x_0):\n",
    "    \n",
    "    cost = 0\n",
    "    g_grad = grad(g_trial,0) # Check that this is the correct grad-call\n",
    "    \n",
    "    for time in t:\n",
    "        d_dt = g_grad(time,P,x_0)\n",
    "        x_t = g_trial(t,P,x_0)\n",
    "        right_side = -x_t + () # -x + [x.T @ x @ A + (1 - x.T @ A @ x) @ I] @ x where x is x_t is a column vector\n",
    "        cost += np.sum((d_dt - right_side)**2) / np.size(x_t) #beware the increment operator may not play nice with\n",
    "                                                              # Autograd\n",
    "        \n",
    "\n",
    "    return cost / np.size(t)"
   ]
  },
  {
   "cell_type": "code",
   "execution_count": 3,
   "metadata": {},
   "outputs": [],
   "source": [
    "t = np.linspace(0,1,10)\n",
    "Q = np.random.randn(6,6)\n",
    "A = (np.transpose(Q) + Q) /2 #standard trick for making symmetric real\n",
    "x_0 = np.random.randn(6) #initial guess for eigenvector.\n",
    "\n",
    "network_shape = [1, 10, np.size(x_0)] #output must match eigenvector length\n",
    "P = initialize_params(network_shape)"
   ]
  },
  {
   "cell_type": "code",
   "execution_count": 4,
   "metadata": {},
   "outputs": [],
   "source": [
    "P = optimize(t, P, A, x_0,10, 0.002, 10)\n",
    "#y = Network(X[0, :].reshape(1, 2), P)"
   ]
  }
 ],
 "metadata": {
  "kernelspec": {
   "display_name": "Python 3",
   "language": "python",
   "name": "python3"
  },
  "language_info": {
   "codemirror_mode": {
    "name": "ipython",
    "version": 3
   },
   "file_extension": ".py",
   "mimetype": "text/x-python",
   "name": "python",
   "nbconvert_exporter": "python",
   "pygments_lexer": "ipython3",
   "version": "3.7.7"
  }
 },
 "nbformat": 4,
 "nbformat_minor": 4
}
