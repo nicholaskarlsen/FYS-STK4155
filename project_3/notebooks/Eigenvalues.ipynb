{
 "cells": [
  {
   "cell_type": "code",
   "execution_count": 1,
   "metadata": {},
   "outputs": [],
   "source": [
    "import numpy as np"
   ]
  },
  {
   "cell_type": "code",
   "execution_count": 2,
   "metadata": {},
   "outputs": [
    {
     "name": "stdout",
     "output_type": "stream",
     "text": [
      "[[-0.05283497  0.02866041  0.63468376 -0.57481841  1.19686649 -0.08500131]\n",
      " [ 0.02866041 -0.847094   -0.53328017 -0.25154654 -0.18814754 -0.34802783]\n",
      " [ 0.63468376 -0.53328017  1.8713782   1.13351469 -0.12907365 -1.24379992]\n",
      " [-0.57481841 -0.25154654  1.13351469 -0.28900251  0.205553   -0.70243932]\n",
      " [ 1.19686649 -0.18814754 -0.12907365  0.205553    0.9610403  -0.69423775]\n",
      " [-0.08500131 -0.34802783 -1.24379992 -0.70243932 -0.69423775  0.87211488]]\n",
      "[-1.68028956 -1.21662601 -0.18977211  0.46763252  1.74945502  3.38520203]\n",
      "[[-0.60144543  0.16344776  0.36306643  0.46454213 -0.48317079  0.17457831]\n",
      " [ 0.28570696  0.77485452  0.47557069 -0.28937991 -0.04289742 -0.07888989]\n",
      " [ 0.37908108  0.06568328  0.08740517  0.44565347  0.3120539   0.74051261]\n",
      " [-0.47265651  0.48972347 -0.58236893 -0.23002917  0.20988376  0.31725159]\n",
      " [ 0.39582864  0.04813451 -0.40471812 -0.09071371 -0.78588374  0.22663577]\n",
      " [ 0.18124009  0.35556295 -0.36252627  0.66386028  0.07525768 -0.5127646 ]]\n"
     ]
    }
   ],
   "source": [
    "Q = np.random.randn(6,6)\n",
    "A = (Q+Q.T)/2 # standard trick to get symmetric matrix when Q is real\n",
    "print(A)\n",
    "eigenvalues, eigenvectors = np.linalg.eigh(A) #Special routine for hermitian matrix. Real+symmetric -> Hermitian\n",
    "print(eigenvalues)\n",
    "print(eigenvectors)"
   ]
  },
  {
   "cell_type": "code",
   "execution_count": 3,
   "metadata": {},
   "outputs": [
    {
     "name": "stdout",
     "output_type": "stream",
     "text": [
      "[-4.44089210e-16 -2.22044605e-16 -4.99600361e-16 -5.55111512e-17\n",
      " -1.11022302e-15 -1.77635684e-15]\n"
     ]
    }
   ],
   "source": [
    "test_eigenvalues = np.diag(np.linalg.inv(eigenvectors) @ A @ eigenvectors) # D = P^-1 @ A @ P\n",
    "print(test_eigenvalues-eigenvalues)"
   ]
  },
  {
   "cell_type": "code",
   "execution_count": 4,
   "metadata": {},
   "outputs": [
    {
     "name": "stdout",
     "output_type": "stream",
     "text": [
      "[[-2.15105711e-16  6.93889390e-17 -3.33066907e-16 -2.22044605e-16\n",
      "  -6.66133815e-16  8.32667268e-17]\n",
      " [ 2.60208521e-16 -8.88178420e-16  8.88178420e-16  1.27675648e-15\n",
      "   1.94289029e-16 -1.11022302e-15]\n",
      " [ 5.55111512e-16 -5.55111512e-16 -1.33226763e-15 -8.88178420e-16\n",
      "   7.49400542e-16  1.11022302e-15]\n",
      " [-3.33066907e-16  8.32667268e-16 -1.11022302e-15 -7.21644966e-16\n",
      "  -3.33066907e-16  9.99200722e-16]\n",
      " [ 4.44089210e-16 -1.11022302e-16  1.11022302e-15  5.27355937e-16\n",
      "   1.11022302e-16 -3.33066907e-16]\n",
      " [-2.77555756e-17 -3.33066907e-16  1.11022302e-15  8.88178420e-16\n",
      "  -2.22044605e-16 -1.33226763e-15]]\n"
     ]
    }
   ],
   "source": [
    "test_matrix = eigenvectors @ np.diag(eigenvalues) @ np.linalg.inv(eigenvectors) # A = P @ D @ P^(-1)\n",
    "print(A-test_matrix)"
   ]
  },
  {
   "cell_type": "code",
   "execution_count": 5,
   "metadata": {},
   "outputs": [],
   "source": [
    "# Use method of Yi et all to compute and compare the above eigenvalues/vectors."
   ]
  }
 ],
 "metadata": {
  "kernelspec": {
   "display_name": "Python 3",
   "language": "python",
   "name": "python3"
  },
  "language_info": {
   "codemirror_mode": {
    "name": "ipython",
    "version": 3
   },
   "file_extension": ".py",
   "mimetype": "text/x-python",
   "name": "python",
   "nbconvert_exporter": "python",
   "pygments_lexer": "ipython3",
   "version": "3.8.5"
  }
 },
 "nbformat": 4,
 "nbformat_minor": 4
}
