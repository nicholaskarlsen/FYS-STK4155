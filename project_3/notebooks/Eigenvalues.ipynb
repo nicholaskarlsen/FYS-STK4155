{
 "cells": [
  {
   "cell_type": "code",
   "execution_count": 1,
   "metadata": {},
   "outputs": [],
   "source": [
    "import numpy as np"
   ]
  },
  {
   "cell_type": "code",
   "execution_count": 8,
   "metadata": {},
   "outputs": [
    {
     "name": "stdout",
     "output_type": "stream",
     "text": [
      "[[-1.30522031  0.88037144 -1.16062503  0.76128619 -1.66713004 -0.06808436]\n",
      " [ 0.88037144 -1.09036111  1.05806952 -0.01383473  0.475787    0.61427708]\n",
      " [-1.16062503  1.05806952 -0.32962048 -0.71028564 -0.16234908  0.27908367]\n",
      " [ 0.76128619 -0.01383473 -0.71028564 -2.02156717 -0.01694051 -0.9761047 ]\n",
      " [-1.66713004  0.475787   -0.16234908 -0.01694051  0.50179569  1.05589232]\n",
      " [-0.06808436  0.61427708  0.27908367 -0.9761047   1.05589232 -0.66763015]]\n",
      "[-3.62804407 -2.8309013  -1.03688998 -0.1509933   0.4883987   2.24582642]\n",
      "[[-0.68503181  0.03207855 -0.04235944 -0.56073828 -0.13040019  0.44325663]\n",
      " [ 0.41940946 -0.34664143 -0.46309618 -0.51949256 -0.44119371 -0.15796499]\n",
      " [-0.35070192  0.32809025 -0.19446214  0.36568996 -0.7002973  -0.32772546]\n",
      " [ 0.26053115  0.76575038 -0.49143372 -0.10463999  0.20351984  0.22775628]\n",
      " [-0.37599477 -0.04986798 -0.3519551  -0.16835951  0.49258893 -0.67917594]\n",
      " [ 0.15028887  0.42697425  0.61688945 -0.49262203 -0.11774301 -0.39750947]]\n"
     ]
    }
   ],
   "source": [
    "Q = np.random.randn(6,6)\n",
    "A = (Q+Q.T)/2 # standard trick to get symmetric matrix when Q is real\n",
    "print(A)\n",
    "eigenvalues, eigenvectors = np.linalg.eigh(A) #Special routine for hermitian matrix. Real+symmetric -> Hermitian\n",
    "print(eigenvalues)\n",
    "print(eigenvectors)"
   ]
  },
  {
   "cell_type": "code",
   "execution_count": 16,
   "metadata": {},
   "outputs": [
    {
     "name": "stdout",
     "output_type": "stream",
     "text": [
      "[ 1.77635684e-15 -1.77635684e-15 -2.22044605e-16  3.05311332e-16\n",
      " -2.22044605e-16 -1.77635684e-15]\n"
     ]
    }
   ],
   "source": [
    "test_eigenvalues = np.diag(np.linalg.inv(eigenvectors) @ A @ eigenvectors) # D = P^-1 @ A @ P\n",
    "print(test_eigenvalues-eigenvalues)"
   ]
  },
  {
   "cell_type": "code",
   "execution_count": 17,
   "metadata": {},
   "outputs": [
    {
     "name": "stdout",
     "output_type": "stream",
     "text": [
      "[[-2.22044605e-16 -2.22044605e-16 -2.22044605e-16 -1.11022302e-16\n",
      "   4.44089210e-16 -8.32667268e-17]\n",
      " [-3.33066907e-16  1.33226763e-15 -8.88178420e-16  6.41847686e-16\n",
      "  -4.99600361e-16 -3.33066907e-16]\n",
      " [ 6.66133815e-16 -6.66133815e-16  2.77555756e-16  3.33066907e-16\n",
      "  -4.99600361e-16  2.22044605e-16]\n",
      " [-1.22124533e-15  6.27969898e-16  4.44089210e-16 -1.77635684e-15\n",
      "  -2.11636264e-16 -3.33066907e-16]\n",
      " [ 1.77635684e-15 -2.77555756e-16 -7.21644966e-16 -1.49186219e-16\n",
      "  -7.77156117e-16  0.00000000e+00]\n",
      " [ 1.52655666e-16 -1.11022302e-16 -1.66533454e-16 -3.33066907e-16\n",
      "   0.00000000e+00 -2.22044605e-16]]\n"
     ]
    }
   ],
   "source": [
    "test_matrix = eigenvectors @ np.diag(eigenvalues) @ np.linalg.inv(eigenvectors) # A = P @ D @ P^(-1)\n",
    "print(A-test_matrix)"
   ]
  },
  {
   "cell_type": "code",
   "execution_count": null,
   "metadata": {},
   "outputs": [],
   "source": [
    "# Use method of Yi et all to compute and compare the above eigenvalues/vectors."
   ]
  }
 ],
 "metadata": {
  "kernelspec": {
   "display_name": "Python 3",
   "language": "python",
   "name": "python3"
  },
  "language_info": {
   "codemirror_mode": {
    "name": "ipython",
    "version": 3
   },
   "file_extension": ".py",
   "mimetype": "text/x-python",
   "name": "python",
   "nbconvert_exporter": "python",
   "pygments_lexer": "ipython3",
   "version": "3.8.5"
  }
 },
 "nbformat": 4,
 "nbformat_minor": 4
}
