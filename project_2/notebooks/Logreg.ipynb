{
 "cells": [
  {
   "cell_type": "code",
   "execution_count": 12,
   "metadata": {},
   "outputs": [],
   "source": [
    "import numpy as np\n",
    "import matplotlib.pyplot as plt\n",
    "from sklearn.datasets import fetch_openml\n",
    "from sklearn.neural_network import MLPClassifier\n",
    "from sklearn.model_selection import train_test_split\n",
    "from sklearn.linear_model import LogisticRegression\n",
    "from imageio import imread\n",
    "import sys\n",
    "\n",
    "sys.path.insert(0, \"../src/\")\n",
    "sys.path.insert(0, \"../../project_1/src\")\n",
    "from NeuralNetwork import *\n",
    "from CostFunctions import *\n",
    "from ActivationFunctions import *\n",
    "from SGD import *\n",
    "from sklearn.model_selection import train_test_split\n",
    "from FrankeFunction import *\n",
    "from linear_regression import *\n",
    "from stat_tools import *\n",
    "from logreg import *"
   ]
  },
  {
   "cell_type": "code",
   "execution_count": 2,
   "metadata": {},
   "outputs": [
    {
     "name": "stdout",
     "output_type": "stream",
     "text": [
      "X shape =  (70000, 784)\n",
      "y shape =  (70000,)\n"
     ]
    },
    {
     "data": {
      "text/plain": [
       "1.0"
      ]
     },
     "execution_count": 2,
     "metadata": {},
     "output_type": "execute_result"
    }
   ],
   "source": [
    "X, y = fetch_openml('mnist_784', version=1, return_X_y=True)\n",
    "print(\"X shape = \", X.shape)\n",
    "print(\"y shape = \", y.shape)\n",
    "\n",
    "# Rescale the X data from [0, 255] -> [0, 1]\n",
    "# NOTE: Re-Scaling brought the score from ~93 -> ~96 for a 30 layer ReLU\n",
    "X /= 255.0\n",
    "np.max(X)"
   ]
  },
  {
   "cell_type": "code",
   "execution_count": 3,
   "metadata": {},
   "outputs": [
    {
     "data": {
      "image/png": "[encoded data removed]",
      "text/plain": [
       "<Figure size 360x360 with 9 Axes>"
      ]
     },
     "metadata": {},
     "output_type": "display_data"
    }
   ],
   "source": [
    "plt.figure(figsize = (5,5))\n",
    "for i in range(9):\n",
    "    plt.subplot(3,3,i+1)\n",
    "    pick = np.random.randint(len(X)-1)\n",
    "    plt.imshow(X[pick].reshape(28, 28))\n",
    "    plt.title(f\"{y[pick]}\")\n",
    "    plt.xticks([]); plt.yticks([])"
   ]
  },
  {
   "cell_type": "code",
   "execution_count": 4,
   "metadata": {},
   "outputs": [
    {
     "name": "stdout",
     "output_type": "stream",
     "text": [
      "(56000, 784)\n",
      "(56000,)\n"
     ]
    }
   ],
   "source": [
    "X_train, X_test, y_train, y_test = train_test_split(X, y, test_size = 0.2)\n",
    "print(X_train.shape)\n",
    "print(y_train.shape)"
   ]
  },
  {
   "cell_type": "code",
   "execution_count": 5,
   "metadata": {},
   "outputs": [],
   "source": [
    "# Preprocess Y for our NN\n",
    "y_train_onehot = np.zeros([len(y_train), 10])\n",
    "y_test_onehot = np.zeros([len(y_test), 10])\n",
    "\n",
    "for i, num in enumerate(y_train):\n",
    "    y_train_onehot[i, int(num)] = 1\n",
    "    \n",
    "for i, num in enumerate(y_test):\n",
    "    y_test_onehot[i, int(num)] = 1"
   ]
  },
  {
   "cell_type": "code",
   "execution_count": 6,
   "metadata": {},
   "outputs": [
    {
     "data": {
      "text/plain": [
       "(14000, 10)"
      ]
     },
     "execution_count": 6,
     "metadata": {},
     "output_type": "execute_result"
    }
   ],
   "source": [
    "y_test_onehot.shape"
   ]
  },
  {
   "cell_type": "code",
   "execution_count": 7,
   "metadata": {},
   "outputs": [],
   "source": [
    "learning_rate = np.logspace(-3, 0, 4)\n",
    "tot_epochs = 40\n",
    "epochs_per_itter = 1\n",
    "num_itter = int(tot_epochs / epochs_per_itter)\n",
    "momentum = 0\n",
    "\n",
    "N = X_train.shape[0]\n",
    "MB_num = [int(N / 32), int(N / 128)]\n",
    "logreg_score = np.zeros([len(MB_num), len(learning_rate), num_itter])\n",
    "\n",
    "np.random.seed(2020)\n",
    "\n",
    "# Initialize the logreg using the same weights across all attempts\n",
    "init_w = np.random.randn(X_train.shape[1], y_train_onehot.shape[1])\n",
    "for k in range(len(MB_num)):\n",
    "    for i in range(len(learning_rate)):    \n",
    "        reg_w = logreg(\n",
    "            x = X_train, \n",
    "            y = y_train_onehot, \n",
    "            M = MB_num[k],\n",
    "            init_w = init_w, \n",
    "            n_epochs = epochs_per_itter, \n",
    "            learning_rate = learning_rate[i], \n",
    "            momentum = momentum,)\n",
    "        \n",
    "        y_predict = np.exp(X_test @ reg_w)/np.sum(np.exp(X_test @ reg_w),axis=1,keepdims=True)\n",
    "        y_test_model = np.argmax(y_predict,axis=1)\n",
    "        y_test_data = np.argmax(y_test_onehot,axis=1)\n",
    "        score = sum(np.equal(y_test_data, y_test_model)) / len(y_test_data)\n",
    "\n",
    "        logreg_score[k, i, 0] = score\n",
    "\n",
    "        for j in range(1, num_itter):\n",
    "            reg_w = logreg(\n",
    "                x = X_train, \n",
    "                y = y_train_onehot, \n",
    "                M = MB_num[k],\n",
    "                init_w = reg_w, \n",
    "                n_epochs = epochs_per_itter, \n",
    "                learning_rate = learning_rate[i], \n",
    "                momentum = momentum,)\n",
    "            \n",
    "            y_predict = np.exp(X_test @ reg_w)/np.sum(np.exp(X_test @ reg_w),axis=1,keepdims=True)\n",
    "            y_test_model = np.argmax(y_predict,axis=1)\n",
    "            y_test_data = np.argmax(y_test_onehot,axis=1)\n",
    "            score = sum(np.equal(y_test_data, y_test_model)) / len(y_test_data)\n",
    "\n",
    "            logreg_score[k, i, j] = score"
   ]
  },
  {
   "cell_type": "code",
   "execution_count": 8,
   "metadata": {},
   "outputs": [],
   "source": [
    "learning_rate = np.logspace(-3, 0, 4)\n",
    "tot_epochs = 40\n",
    "epochs_per_itter = 1\n",
    "num_itter = int(tot_epochs / epochs_per_itter)\n",
    "momentum = 0.75\n",
    "\n",
    "N = X_train.shape[0]\n",
    "MB_num = [int(N / 32), int(N / 128)]\n",
    "logreg_score_momentum = np.zeros([len(MB_num), len(learning_rate), num_itter])\n",
    "\n",
    "np.random.seed(2020)\n",
    "\n",
    "# Initialize the logreg using the same weights across all attempts\n",
    "init_w = np.random.randn(X_train.shape[1], y_train_onehot.shape[1])\n",
    "for k in range(len(MB_num)):\n",
    "    for i in range(len(learning_rate)):    \n",
    "        reg_w = logreg(\n",
    "            x = X_train, \n",
    "            y = y_train_onehot, \n",
    "            M = MB_num[k],\n",
    "            init_w = init_w, \n",
    "            n_epochs = epochs_per_itter, \n",
    "            learning_rate = learning_rate[i], \n",
    "            momentum = momentum,)\n",
    "        \n",
    "        y_predict = np.exp(X_test @ reg_w)/np.sum(np.exp(X_test @ reg_w),axis=1,keepdims=True)\n",
    "        y_test_model = np.argmax(y_predict,axis=1)\n",
    "        y_test_data = np.argmax(y_test_onehot,axis=1)\n",
    "        score = sum(np.equal(y_test_data, y_test_model)) / len(y_test_data)\n",
    "\n",
    "        logreg_score_momentum[k, i, 0] = score\n",
    "\n",
    "        for j in range(1, num_itter):\n",
    "            reg_w = logreg(\n",
    "                x = X_train, \n",
    "                y = y_train_onehot, \n",
    "                M = MB_num[k],\n",
    "                init_w = reg_w, \n",
    "                n_epochs = epochs_per_itter, \n",
    "                learning_rate = learning_rate[i], \n",
    "                momentum = momentum,)\n",
    "            \n",
    "            y_predict = np.exp(X_test @ reg_w)/np.sum(np.exp(X_test @ reg_w),axis=1,keepdims=True)\n",
    "            y_test_model = np.argmax(y_predict,axis=1)\n",
    "            y_test_data = np.argmax(y_test_onehot,axis=1)\n",
    "            score = sum(np.equal(y_test_data, y_test_model)) / len(y_test_data)\n",
    "\n",
    "            logreg_score_momentum[k, i, j] = score"
   ]
  },
  {
   "cell_type": "code",
   "execution_count": 9,
   "metadata": {},
   "outputs": [
    {
     "data": {
      "image/png": "[encoded data removed]",
      "text/plain": [
       "<Figure size 576x432 with 4 Axes>"
      ]
     },
     "metadata": {
      "needs_background": "light"
     },
     "output_type": "display_data"
    }
   ],
   "source": [
    "FIGSIZE = (4, 3)\n",
    "YLIMS = [0, 1]\n",
    "\n",
    "plt.figure(figsize=FIGSIZE * np.array([2, 2]))\n",
    "plt.subplot(221)\n",
    "for i in range(len(learning_rate)-1, -1, -1):\n",
    "    plt.plot(logreg_score_momentum[0, i, :], label=\"$\\eta = 10^{%i}$\" % int(np.log10(learning_rate[i])))\n",
    "plt.xlabel(\"No. Epochs\")\n",
    "plt.ylabel(\"Score\")\n",
    "plt.ylim(YLIMS)\n",
    "plt.legend(loc=\"upper right\")\n",
    "plt.title(f\"logreg with m = {momentum} (MB Size = {32})\")\n",
    "\n",
    "plt.subplot(222)\n",
    "for i in range(len(learning_rate)-1, -1, -1):\n",
    "    plt.plot(logreg_score[0, i, :], label=\"$\\eta = 10^{%i}$\" % int(np.log10(learning_rate[i])))\n",
    "plt.xlabel(\"No. Epochs\")\n",
    "plt.ylabel(\"Score\")\n",
    "plt.ylim(YLIMS)\n",
    "plt.legend(loc=\"upper right\")\n",
    "plt.title(f\"logreg (MB Size = {32})\")\n",
    "\n",
    "\n",
    "plt.subplot(223)\n",
    "for i in range(len(learning_rate)-1, -1, -1):\n",
    "    plt.plot(logreg_score_momentum[1, i, :], label=\"$\\eta = 10^{%i}$\" % int(np.log10(learning_rate[i])))\n",
    "plt.xlabel(\"No. Epochs\")\n",
    "plt.ylabel(\"Score\")\n",
    "plt.ylim(YLIMS)\n",
    "plt.legend(loc=\"upper right\")\n",
    "plt.title(f\"logreg with m = {momentum} (MB Size = {128})\")\n",
    "\n",
    "plt.subplot(224)\n",
    "for i in range(len(learning_rate)-1, -1, -1):\n",
    "    plt.plot(logreg_score[1, i, :], label=\"$\\eta = 10^{%i}$\" % int(np.log10(learning_rate[i])))\n",
    "plt.xlabel(\"No. Epochs\")\n",
    "plt.ylabel(\"Score\")\n",
    "plt.ylim(YLIMS)\n",
    "fig_leg = plt.legend(loc=\"upper right\")\n",
    "plt.title(f\"logreg(MB Size = {128})\")\n",
    "\n",
    "\n",
    "plt.tight_layout()"
   ]
  },
  {
   "cell_type": "code",
   "execution_count": 10,
   "metadata": {},
   "outputs": [],
   "source": [
    "#Skeleton for logreg use:\n",
    "\n",
    "\n",
    "# Get data\n",
    "X, y = fetch_openml('mnist_784', version=1, return_X_y=True)\n",
    "\n",
    "# Rescale the X data from [0, 255] -> [0, 1]\n",
    "X /= 255.0\n",
    "\n",
    "# Split data\n",
    "X_train, X_test, y_train, y_test = train_test_split(X, y, test_size = 0.2)\n",
    "\n",
    "# Preprocess Y for logreg\n",
    "y_train_onehot = np.zeros([len(y_train), 10])\n",
    "y_test_onehot = np.zeros([len(y_test), 10])\n",
    "\n",
    "for i, num in enumerate(y_train):\n",
    "    y_train_onehot[i, int(num)] = 1\n",
    "    \n",
    "for i, num in enumerate(y_test):\n",
    "    y_test_onehot[i, int(num)] = 1\n"
   ]
  },
  {
   "cell_type": "code",
   "execution_count": 11,
   "metadata": {},
   "outputs": [
    {
     "name": "stdout",
     "output_type": "stream",
     "text": [
      "for 100 epochs and no lambda, score:0.9147142857142857\n",
      "for 100 epochs and 1e-4 lambda, score:0.9149285714285714\n"
     ]
    }
   ],
   "source": [
    "# Do the logreg\n",
    "np.random.seed(2020)\n",
    "np.random.randn(X_train.shape[1], y_train_onehot.shape[1]).shape\n",
    "reg_w = logreg(\n",
    "    x = X_train, \n",
    "    y = y_train_onehot, \n",
    "    M = int(len(y_train_onehot)/32), \n",
    "    init_w = np.random.randn(X_train.shape[1], y_train_onehot.shape[1]), \n",
    "    n_epochs = 100, \n",
    "    learning_rate = 0.01, \n",
    "    momentum = 0.75, \n",
    "    lambd=None) # Set lambd if l2-regularization is wanted\n",
    "\n",
    "# How does it score?\n",
    "y_predict = np.exp(X_test @ reg_w)/np.sum(np.exp(X_test @ reg_w),axis=1,keepdims=True)\n",
    "y_test_model = np.argmax(y_predict,axis=1)\n",
    "y_test_data = np.argmax(y_test_onehot,axis=1)\n",
    "score = sum(np.equal(y_test_data, y_test_model)) / len(y_test_data)\n",
    "print('for 100 epochs and no lambda, score:{}'.format(score))\n",
    "\n",
    "\n",
    "# Do it again with lambda:\n",
    "np.random.seed(2020)\n",
    "np.random.randn(X_train.shape[1], y_train_onehot.shape[1]).shape\n",
    "reg_w = logreg(\n",
    "    x = X_train, \n",
    "    y = y_train_onehot, \n",
    "    M = int(len(y_train_onehot)/32), \n",
    "    init_w = np.random.randn(X_train.shape[1], y_train_onehot.shape[1]), \n",
    "    n_epochs = 100, \n",
    "    learning_rate = 0.01, \n",
    "    momentum = 0.75, \n",
    "    lambd=1e-4) # Set lambd if l2-regularization is wanted\n",
    "\n",
    "# How does it score?\n",
    "y_predict = np.exp(X_test @ reg_w)/np.sum(np.exp(X_test @ reg_w),axis=1,keepdims=True)\n",
    "y_test_model = np.argmax(y_predict,axis=1)\n",
    "y_test_data = np.argmax(y_test_onehot,axis=1)\n",
    "score = sum(np.equal(y_test_data, y_test_model)) / len(y_test_data)\n",
    "print('for 100 epochs and 1e-4 lambda, score:{}'.format(score))"
   ]
  },
  {
   "cell_type": "code",
   "execution_count": 14,
   "metadata": {},
   "outputs": [
    {
     "name": "stdout",
     "output_type": "stream",
     "text": [
      "Scikit default logistic regression score:0.9358035714285714\n"
     ]
    },
    {
     "name": "stderr",
     "output_type": "stream",
     "text": [
      "/Users/thoreem/opt/anaconda3/envs/mlhome/lib/python3.7/site-packages/sklearn/linear_model/_logistic.py:940: ConvergenceWarning: lbfgs failed to converge (status=1):\n",
      "STOP: TOTAL NO. of ITERATIONS REACHED LIMIT.\n",
      "\n",
      "Increase the number of iterations (max_iter) or scale the data as shown in:\n",
      "    https://scikit-learn.org/stable/modules/preprocessing.html\n",
      "Please also refer to the documentation for alternative solver options:\n",
      "    https://scikit-learn.org/stable/modules/linear_model.html#logistic-regression\n",
      "  extra_warning_msg=_LOGISTIC_SOLVER_CONVERGENCE_MSG)\n"
     ]
    }
   ],
   "source": [
    "SKL_logreg = LogisticRegression()\n",
    "SKL_logreg.fit(X_train,y_train)\n",
    "print('Scikit default logistic regression score:{}'.format(SKL_logreg.score(X_train,y_train)))"
   ]
  },
  {
   "cell_type": "code",
   "execution_count": null,
   "metadata": {},
   "outputs": [],
   "source": []
  }
 ],
 "metadata": {
  "kernelspec": {
   "display_name": "Python 3",
   "language": "python",
   "name": "python3"
  },
  "language_info": {
   "codemirror_mode": {
    "name": "ipython",
    "version": 3
   },
   "file_extension": ".py",
   "mimetype": "text/x-python",
   "name": "python",
   "nbconvert_exporter": "python",
   "pygments_lexer": "ipython3",
   "version": "3.7.7"
  }
 },
 "nbformat": 4,
 "nbformat_minor": 4
}
