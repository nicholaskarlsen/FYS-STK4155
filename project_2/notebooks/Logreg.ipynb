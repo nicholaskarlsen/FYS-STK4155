{
 "cells": [
  {
   "cell_type": "code",
   "execution_count": 1,
   "metadata": {},
   "outputs": [],
   "source": [
    "import numpy as np\n",
    "import matplotlib.pyplot as plt\n",
    "from sklearn.datasets import fetch_openml\n",
    "from sklearn.neural_network import MLPClassifier\n",
    "from sklearn.model_selection import train_test_split\n",
    "from imageio import imread\n",
    "import sys\n",
    "\n",
    "sys.path.insert(0, \"../src/\")\n",
    "sys.path.insert(0, \"../../project_1/src\")\n",
    "from NeuralNetwork import *\n",
    "from CostFunctions import *\n",
    "from ActivationFunctions import *\n",
    "from SGD import *\n",
    "from sklearn.model_selection import train_test_split\n",
    "from FrankeFunction import *\n",
    "from linear_regression import *\n",
    "from stat_tools import *\n",
    "from logreg import *"
   ]
  },
  {
   "cell_type": "code",
   "execution_count": 2,
   "metadata": {},
   "outputs": [
    {
     "name": "stdout",
     "output_type": "stream",
     "text": [
      "X shape =  (70000, 784)\n",
      "y shape =  (70000,)\n"
     ]
    },
    {
     "data": {
      "text/plain": [
       "1.0"
      ]
     },
     "execution_count": 2,
     "metadata": {},
     "output_type": "execute_result"
    }
   ],
   "source": [
    "X, y = fetch_openml('mnist_784', version=1, return_X_y=True)\n",
    "print(\"X shape = \", X.shape)\n",
    "print(\"y shape = \", y.shape)\n",
    "\n",
    "# Rescale the X data from [0, 255] -> [0, 1]\n",
    "# NOTE: Re-Scaling brought the score from ~93 -> ~96 for a 30 layer ReLU\n",
    "X /= 255.0\n",
    "np.max(X)"
   ]
  },
  {
   "cell_type": "code",
   "execution_count": 3,
   "metadata": {},
   "outputs": [
    {
     "data": {
      "image/png": "[encoded data removed]",
      "text/plain": [
       "<Figure size 360x360 with 9 Axes>"
      ]
     },
     "metadata": {},
     "output_type": "display_data"
    }
   ],
   "source": [
    "plt.figure(figsize = (5,5))\n",
    "for i in range(9):\n",
    "    plt.subplot(3,3,i+1)\n",
    "    pick = np.random.randint(len(X)-1)\n",
    "    plt.imshow(X[pick].reshape(28, 28))\n",
    "    plt.title(f\"{y[pick]}\")\n",
    "    plt.xticks([]); plt.yticks([])"
   ]
  },
  {
   "cell_type": "code",
   "execution_count": 4,
   "metadata": {},
   "outputs": [
    {
     "name": "stdout",
     "output_type": "stream",
     "text": [
      "(56000, 784)\n",
      "(56000,)\n"
     ]
    }
   ],
   "source": [
    "X_train, X_test, y_train, y_test = train_test_split(X, y, test_size = 0.2)\n",
    "print(X_train.shape)\n",
    "print(y_train.shape)"
   ]
  },
  {
   "cell_type": "code",
   "execution_count": 5,
   "metadata": {},
   "outputs": [],
   "source": [
    "# Preprocess Y for our NN\n",
    "y_train_onehot = np.zeros([len(y_train), 10])\n",
    "y_test_onehot = np.zeros([len(y_test), 10])\n",
    "\n",
    "for i, num in enumerate(y_train):\n",
    "    y_train_onehot[i, int(num)] = 1\n",
    "    \n",
    "for i, num in enumerate(y_test):\n",
    "    y_test_onehot[i, int(num)] = 1"
   ]
  },
  {
   "cell_type": "code",
   "execution_count": 6,
   "metadata": {},
   "outputs": [
    {
     "data": {
      "text/plain": [
       "(14000, 10)"
      ]
     },
     "execution_count": 6,
     "metadata": {},
     "output_type": "execute_result"
    }
   ],
   "source": [
    "y_test_onehot.shape"
   ]
  },
  {
   "cell_type": "code",
   "execution_count": 7,
   "metadata": {
    "scrolled": true
   },
   "outputs": [
    {
     "ename": "TypeError",
     "evalue": "__init__() got an unexpected keyword argument 'init_method'",
     "output_type": "error",
     "traceback": [
      "\u001b[0;31m---------------------------------------------------------------------------\u001b[0m",
      "\u001b[0;31mTypeError\u001b[0m                                 Traceback (most recent call last)",
      "\u001b[0;32m<ipython-input-7-3d6593fdb129>\u001b[0m in \u001b[0;36m<module>\u001b[0;34m\u001b[0m\n\u001b[1;32m      3\u001b[0m     \u001b[0mY\u001b[0m\u001b[0;34m=\u001b[0m\u001b[0my_train\u001b[0m\u001b[0;34m,\u001b[0m\u001b[0;34m\u001b[0m\u001b[0;34m\u001b[0m\u001b[0m\n\u001b[1;32m      4\u001b[0m     \u001b[0mactivation\u001b[0m\u001b[0;34m=\u001b[0m\u001b[0mActivationFunctions\u001b[0m\u001b[0;34m.\u001b[0m\u001b[0mReLU\u001b[0m\u001b[0;34m,\u001b[0m\u001b[0;34m\u001b[0m\u001b[0;34m\u001b[0m\u001b[0m\n\u001b[0;32m----> 5\u001b[0;31m     \u001b[0mnetwork_shape\u001b[0m\u001b[0;34m=\u001b[0m\u001b[0;34m[\u001b[0m\u001b[0;36m30\u001b[0m\u001b[0;34m]\u001b[0m\u001b[0;34m\u001b[0m\u001b[0;34m\u001b[0m\u001b[0m\n\u001b[0m\u001b[1;32m      6\u001b[0m )\n",
      "\u001b[0;32m~/temcompdev/mlhome/FYS_STK_4155/FYS-STK4155/project_2/src/NeuralNetwork.py\u001b[0m in \u001b[0;36m__init__\u001b[0;34m(self, X, Y, network_shape, activation, activation_out, momentum, lambd, init_method)\u001b[0m\n\u001b[1;32m    348\u001b[0m             \u001b[0mmomentum\u001b[0m\u001b[0;34m=\u001b[0m\u001b[0mmomentum\u001b[0m\u001b[0;34m,\u001b[0m\u001b[0;34m\u001b[0m\u001b[0;34m\u001b[0m\u001b[0m\n\u001b[1;32m    349\u001b[0m             \u001b[0mlambd\u001b[0m\u001b[0;34m=\u001b[0m\u001b[0mlambd\u001b[0m\u001b[0;34m,\u001b[0m\u001b[0;34m\u001b[0m\u001b[0;34m\u001b[0m\u001b[0m\n\u001b[0;32m--> 350\u001b[0;31m             \u001b[0minit_method\u001b[0m\u001b[0;34m=\u001b[0m\u001b[0minit_method\u001b[0m\u001b[0;34m,\u001b[0m\u001b[0;34m\u001b[0m\u001b[0;34m\u001b[0m\u001b[0m\n\u001b[0m\u001b[1;32m    351\u001b[0m         )\n\u001b[1;32m    352\u001b[0m         \u001b[0;32mreturn\u001b[0m\u001b[0;34m\u001b[0m\u001b[0;34m\u001b[0m\u001b[0m\n",
      "\u001b[0;31mTypeError\u001b[0m: __init__() got an unexpected keyword argument 'init_method'"
     ]
    }
   ],
   "source": [
    "FFNN = FFNNClassifier(\n",
    "    X=X_train,\n",
    "    Y=y_train,\n",
    "    activation=ActivationFunctions.ReLU,\n",
    "    network_shape=[30]\n",
    ")"
   ]
  },
  {
   "cell_type": "code",
   "execution_count": null,
   "metadata": {},
   "outputs": [],
   "source": [
    "FFNN.train(int(len(y_train) / 32), 0.01, 100)"
   ]
  },
  {
   "cell_type": "code",
   "execution_count": null,
   "metadata": {},
   "outputs": [],
   "source": [
    "y_pred = FFNN.predict(X_test)"
   ]
  },
  {
   "cell_type": "code",
   "execution_count": null,
   "metadata": {},
   "outputs": [],
   "source": [
    "y_test_model = np.argmax(y_pred,axis=1)"
   ]
  },
  {
   "cell_type": "code",
   "execution_count": null,
   "metadata": {},
   "outputs": [],
   "source": [
    "y_test_data = np.argmax(y_test_onehot,axis=1)"
   ]
  },
  {
   "cell_type": "code",
   "execution_count": null,
   "metadata": {},
   "outputs": [],
   "source": [
    "score = sum(np.equal(y_test_data, y_test_model)) / len(y_test_data)\n",
    "print(score)"
   ]
  },
  {
   "cell_type": "code",
   "execution_count": null,
   "metadata": {},
   "outputs": [],
   "source": [
    "np.random.randn(X_train.shape[1], y_train_onehot.shape[1]).shape"
   ]
  },
  {
   "cell_type": "code",
   "execution_count": 12,
   "metadata": {},
   "outputs": [
    {
     "name": "stdout",
     "output_type": "stream",
     "text": [
      "0.9137142857142857\n"
     ]
    }
   ],
   "source": [
    "reg_w = logreg(\n",
    "    x = X_train, \n",
    "    y = y_train_onehot, \n",
    "    M = int(len(y_train_onehot)/32), \n",
    "    init_w = np.random.randn(X_train.shape[1], y_train_onehot.shape[1]), \n",
    "    n_epochs = 100, \n",
    "    learning_rate = 0.01, \n",
    "    momentum = 0.75, \n",
    "    lambd=None)\n",
    "\n",
    "y_predict = np.exp(X_test @ reg_w)/np.sum(np.exp(X_test @ reg_w),axis=1,keepdims=True)\n",
    "\n",
    "y_test_model = np.argmax(y_predict,axis=1)\n",
    "y_test_data = np.argmax(y_test_onehot,axis=1)\n",
    "score = sum(np.equal(y_test_data, y_test_model)) / len(y_test_data)\n",
    "print(score)"
   ]
  },
  {
   "cell_type": "code",
   "execution_count": null,
   "metadata": {},
   "outputs": [],
   "source": [
    "SKL_NN = MLPClassifier(\n",
    "    hidden_layer_sizes = [30],\n",
    "    activation = \"relu\"\n",
    ")\n",
    "SKL_NN.fit(X_train, y_train)"
   ]
  },
  {
   "cell_type": "code",
   "execution_count": null,
   "metadata": {},
   "outputs": [],
   "source": [
    "SKL_NN.score(X_test, y_test)"
   ]
  },
  {
   "cell_type": "code",
   "execution_count": null,
   "metadata": {},
   "outputs": [],
   "source": [
    "SKL_NN.predict(X_test)[0:10]"
   ]
  },
  {
   "cell_type": "code",
   "execution_count": null,
   "metadata": {},
   "outputs": [],
   "source": []
  }
 ],
 "metadata": {
  "kernelspec": {
   "display_name": "Python 3",
   "language": "python",
   "name": "python3"
  },
  "language_info": {
   "codemirror_mode": {
    "name": "ipython",
    "version": 3
   },
   "file_extension": ".py",
   "mimetype": "text/x-python",
   "name": "python",
   "nbconvert_exporter": "python",
   "pygments_lexer": "ipython3",
   "version": "3.7.7"
  }
 },
 "nbformat": 4,
 "nbformat_minor": 4
}
