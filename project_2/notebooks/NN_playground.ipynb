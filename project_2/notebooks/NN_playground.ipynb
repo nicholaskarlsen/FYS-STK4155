{
 "cells": [
  {
   "cell_type": "code",
   "execution_count": 19,
   "metadata": {},
   "outputs": [
    {
     "name": "stdout",
     "output_type": "stream",
     "text": [
      "[-0.61641863  0.06032877 -0.71725196  0.21793259 -0.71646218]\n",
      "<class 'numpy.ndarray'>\n",
      "[array([ 0.53207798,  0.86320372,  0.42559635, -0.37871013,  0.04826926])\n",
      " array([ 0.50150889, -1.59830481, -0.58940219, -1.10671825])\n",
      " array([-1.08538395, -0.5978912 ,  1.23755473,  1.74329505, -0.82194983,\n",
      "        2.677398  , -0.17277928])\n",
      " array([-0.36492219, -0.92060045,  0.1058421 , -0.42380144])]\n"
     ]
    }
   ],
   "source": [
    "import numpy as np\n",
    "\n",
    "\n",
    "init_layers = [5, 4, 7, 4]\n",
    "\n",
    "N_layers = len(init_layers)\n",
    "l1 = np.random.randn(5)\n",
    "\n",
    "print(l1)\n",
    "print(type(l1))\n",
    "layers = np.empty(N_layers, dtype='object')\n",
    "\n",
    "for L, N_w in enumerate(init_layers):\n",
    "    layers[L] = np.random.randn(N_w)\n",
    "    \n",
    "print(layers)"
   ]
  }
 ],
 "metadata": {
  "kernelspec": {
   "display_name": "Python 3",
   "language": "python",
   "name": "python3"
  },
  "language_info": {
   "codemirror_mode": {
    "name": "ipython",
    "version": 3
   },
   "file_extension": ".py",
   "mimetype": "text/x-python",
   "name": "python",
   "nbconvert_exporter": "python",
   "pygments_lexer": "ipython3",
   "version": "3.8.3"
  }
 },
 "nbformat": 4,
 "nbformat_minor": 4
}
