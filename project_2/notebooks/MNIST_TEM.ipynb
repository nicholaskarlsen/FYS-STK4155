{
 "cells": [
  {
   "cell_type": "code",
   "execution_count": 1,
   "metadata": {},
   "outputs": [],
   "source": [
    "import numpy as np\n",
    "import matplotlib.pyplot as plt\n",
    "from sklearn.datasets import fetch_openml\n",
    "from sklearn.neural_network import MLPClassifier\n",
    "from sklearn.model_selection import train_test_split\n",
    "from imageio import imread\n",
    "import sys\n",
    "\n",
    "sys.path.insert(0, \"../src/\")\n",
    "sys.path.insert(0, \"../../project_1/src\")\n",
    "from NeuralNetwork import *\n",
    "from CostFunctions import *\n",
    "from ActivationFunctions import *\n",
    "from SGD import *\n",
    "from sklearn.model_selection import train_test_split\n",
    "from FrankeFunction import *\n",
    "from linear_regression import *\n",
    "from stat_tools import *"
   ]
  },
  {
   "cell_type": "code",
   "execution_count": 2,
   "metadata": {},
   "outputs": [
    {
     "name": "stdout",
     "output_type": "stream",
     "text": [
      "X shape =  (70000, 784)\n",
      "y shape =  (70000,)\n"
     ]
    },
    {
     "data": {
      "text/plain": [
       "1.0"
      ]
     },
     "execution_count": 2,
     "metadata": {},
     "output_type": "execute_result"
    }
   ],
   "source": [
    "X, y = fetch_openml('mnist_784', version=1, return_X_y=True)\n",
    "print(\"X shape = \", X.shape)\n",
    "print(\"y shape = \", y.shape)\n",
    "\n",
    "# Rescale the X data from [0, 255] -> [0, 1]\n",
    "# NOTE: Re-Scaling brought the score from ~93 -> ~96 for a 30 layer ReLU\n",
    "X /= 255.0\n",
    "np.max(X)"
   ]
  },
  {
   "cell_type": "code",
   "execution_count": 3,
   "metadata": {},
   "outputs": [
    {
     "data": {
      "image/png": "[encoded data removed]",
      "text/plain": [
       "<Figure size 360x360 with 9 Axes>"
      ]
     },
     "metadata": {},
     "output_type": "display_data"
    }
   ],
   "source": [
    "plt.figure(figsize = (5,5))\n",
    "for i in range(9):\n",
    "    plt.subplot(3,3,i+1)\n",
    "    pick = np.random.randint(len(X)-1)\n",
    "    plt.imshow(X[pick].reshape(28, 28))\n",
    "    plt.title(f\"{y[pick]}\")\n",
    "    plt.xticks([]); plt.yticks([])"
   ]
  },
  {
   "cell_type": "code",
   "execution_count": 4,
   "metadata": {},
   "outputs": [
    {
     "name": "stdout",
     "output_type": "stream",
     "text": [
      "(56000, 784)\n",
      "(56000,)\n"
     ]
    }
   ],
   "source": [
    "X_train, X_test, y_train, y_test = train_test_split(X, y, test_size = 0.2)\n",
    "print(X_train.shape)\n",
    "print(y_train.shape)"
   ]
  },
  {
   "cell_type": "code",
   "execution_count": 5,
   "metadata": {},
   "outputs": [],
   "source": [
    "# Preprocess Y for our NN\n",
    "y_train_onehot = np.zeros([len(y_train), 10])\n",
    "y_test_onehot = np.zeros([len(y_test), 10])\n",
    "\n",
    "for i, num in enumerate(y_train):\n",
    "    y_train_onehot[i, int(num)] = 1\n",
    "    \n",
    "for i, num in enumerate(y_test):\n",
    "    y_test_onehot[i, int(num)] = 1"
   ]
  },
  {
   "cell_type": "code",
   "execution_count": 6,
   "metadata": {},
   "outputs": [
    {
     "data": {
      "text/plain": [
       "(14000, 10)"
      ]
     },
     "execution_count": 6,
     "metadata": {},
     "output_type": "execute_result"
    }
   ],
   "source": [
    "y_test_onehot.shape"
   ]
  },
  {
   "cell_type": "code",
   "execution_count": 36,
   "metadata": {},
   "outputs": [],
   "source": [
    "FFNN = FeedForwardNeuralNetwork(\n",
    "    X=X_train,\n",
    "    Y=y_train_onehot,\n",
    "    cost=CostFunctions.CrossEntropy,\n",
    "    activation=ActivationFunctions.ReLU,\n",
    "    activation_out=ActivationFunctions.Softmax,\n",
    "    network_shape=[30]\n",
    ")"
   ]
  },
  {
   "cell_type": "code",
   "execution_count": 37,
   "metadata": {},
   "outputs": [],
   "source": [
    "FFNN.train(int(len(y_train) / 32), 0.01, 100)"
   ]
  },
  {
   "cell_type": "code",
   "execution_count": 38,
   "metadata": {},
   "outputs": [],
   "source": [
    "y_pred = FFNN.predict(X_test)"
   ]
  },
  {
   "cell_type": "code",
   "execution_count": 45,
   "metadata": {
    "scrolled": true
   },
   "outputs": [
    {
     "data": {
      "text/plain": [
       "array([[3.89541447e-06, 8.35959100e-01, 1.08672321e-01, 1.48205945e-02,\n",
       "        3.30178670e-05, 7.99416003e-03, 3.29530701e-03, 3.47209317e-04,\n",
       "        2.88614593e-02, 1.29350813e-05],\n",
       "       [5.99024070e-06, 1.70421317e-02, 3.83480422e-03, 2.88523529e-04,\n",
       "        9.21597263e-05, 8.99649914e-03, 8.21885700e-03, 6.10049709e-06,\n",
       "        9.61480867e-01, 3.40672658e-05],\n",
       "       [1.33664346e-06, 1.91587265e-10, 2.65126690e-05, 1.93742304e-08,\n",
       "        4.22096019e-01, 4.40338723e-06, 2.49678652e-06, 1.11107075e-04,\n",
       "        5.05152334e-04, 5.77252952e-01],\n",
       "       [5.57939147e-04, 3.95752573e-09, 9.78236574e-01, 4.06132446e-04,\n",
       "        2.91646868e-03, 4.78684478e-05, 1.71144924e-02, 2.09397697e-06,\n",
       "        4.94908031e-04, 2.23518532e-04],\n",
       "       [7.76939909e-06, 6.39407012e-06, 1.94232023e-05, 3.81544766e-03,\n",
       "        2.45567424e-09, 9.45284849e-01, 2.76084381e-03, 6.09442418e-12,\n",
       "        4.81052642e-02, 5.93541716e-09],\n",
       "       [1.50962166e-03, 5.77185115e-09, 3.20286114e-01, 6.35924428e-05,\n",
       "        6.27958052e-01, 1.62649666e-04, 2.15122730e-02, 7.13217293e-05,\n",
       "        1.43542134e-03, 2.70009487e-02],\n",
       "       [6.63008243e-05, 4.65261351e-07, 5.69896976e-07, 3.65744667e-04,\n",
       "        5.45298451e-06, 9.98882606e-01, 5.42503606e-06, 1.11343030e-06,\n",
       "        6.62264721e-04, 1.00573975e-05],\n",
       "       [1.40916189e-05, 3.17408819e-10, 9.99357825e-01, 3.05862210e-04,\n",
       "        1.78515508e-06, 1.23855935e-07, 1.62192871e-06, 3.31056664e-05,\n",
       "        3.30417660e-05, 2.52542164e-04],\n",
       "       [6.73527092e-06, 3.86765473e-06, 2.31826771e-05, 4.80513457e-04,\n",
       "        3.28508973e-03, 1.67477200e-03, 4.10898904e-07, 3.29595767e-04,\n",
       "        8.48015211e-04, 9.93347817e-01],\n",
       "       [2.85756225e-03, 6.33217732e-10, 1.40665226e-06, 6.27242336e-09,\n",
       "        6.40719251e-09, 7.21069783e-01, 4.59693067e-07, 9.64888180e-06,\n",
       "        2.75635421e-01, 4.25705394e-04]])"
      ]
     },
     "execution_count": 45,
     "metadata": {},
     "output_type": "execute_result"
    }
   ],
   "source": [
    "y_pred[0:10]"
   ]
  },
  {
   "cell_type": "code",
   "execution_count": 40,
   "metadata": {},
   "outputs": [
    {
     "data": {
      "text/plain": [
       "array(['2', '8', '9', '4', '5', '6', '5', '2', '9', '5'], dtype=object)"
      ]
     },
     "execution_count": 40,
     "metadata": {},
     "output_type": "execute_result"
    }
   ],
   "source": [
    "y_test[0:10]"
   ]
  },
  {
   "cell_type": "code",
   "execution_count": 41,
   "metadata": {},
   "outputs": [],
   "source": [
    "y_test_model = np.argmax(y_pred,axis=1)"
   ]
  },
  {
   "cell_type": "code",
   "execution_count": 42,
   "metadata": {},
   "outputs": [],
   "source": [
    "y_test_data = np.argmax(y_test_onehot,axis=1)"
   ]
  },
  {
   "cell_type": "code",
   "execution_count": 43,
   "metadata": {},
   "outputs": [
    {
     "name": "stdout",
     "output_type": "stream",
     "text": [
      "0.9137142857142857\n"
     ]
    }
   ],
   "source": [
    "score = sum(np.equal(y_test_data, y_test_model)) / len(y_test_data)\n",
    "print(score)"
   ]
  },
  {
   "cell_type": "code",
   "execution_count": 11,
   "metadata": {},
   "outputs": [
    {
     "data": {
      "text/plain": [
       "array([0.45808614, 0.40210175, 0.55257191, 0.50701999, 0.51861991,\n",
       "       0.54738872, 0.52988765, 0.41727841, 0.5145846 , 0.57789262])"
      ]
     },
     "execution_count": 11,
     "metadata": {},
     "output_type": "execute_result"
    }
   ],
   "source": [
    "Sigmoid.evaluate(FFNN.z[-1][0])"
   ]
  },
  {
   "cell_type": "code",
   "execution_count": 12,
   "metadata": {},
   "outputs": [
    {
     "data": {
      "text/plain": [
       "array([0.08174792, 0.0650382 , 0.11943328, 0.09946163, 0.10418876,\n",
       "       0.11695809, 0.10900388, 0.06925077, 0.10251869, 0.13239879])"
      ]
     },
     "execution_count": 12,
     "metadata": {},
     "output_type": "execute_result"
    }
   ],
   "source": [
    "Softmax.evaluate(FFNN.z[-1])[0]"
   ]
  },
  {
   "cell_type": "code",
   "execution_count": 13,
   "metadata": {},
   "outputs": [
    {
     "data": {
      "text/plain": [
       "array([1.05454042e-05, 4.52973150e-02, 5.17627354e-11])"
      ]
     },
     "execution_count": 13,
     "metadata": {},
     "output_type": "execute_result"
    }
   ],
   "source": [
    "Sigmoid.evaluate(FFNN.z[0][0])"
   ]
  },
  {
   "cell_type": "code",
   "execution_count": 14,
   "metadata": {},
   "outputs": [
    {
     "data": {
      "text/plain": [
       "array([1.05454042e-05, 4.52973150e-02, 5.17627354e-11])"
      ]
     },
     "execution_count": 14,
     "metadata": {},
     "output_type": "execute_result"
    }
   ],
   "source": [
    "FFNN.a[0][0]"
   ]
  },
  {
   "cell_type": "code",
   "execution_count": 15,
   "metadata": {},
   "outputs": [
    {
     "data": {
      "text/plain": [
       "array([0.08174792, 0.0650382 , 0.11943328, 0.09946163, 0.10418876,\n",
       "       0.11695809, 0.10900388, 0.06925077, 0.10251869, 0.13239879])"
      ]
     },
     "execution_count": 15,
     "metadata": {},
     "output_type": "execute_result"
    }
   ],
   "source": [
    "FFNN.a[1][0]"
   ]
  },
  {
   "cell_type": "code",
   "execution_count": 49,
   "metadata": {},
   "outputs": [
    {
     "data": {
      "text/plain": [
       "1.0"
      ]
     },
     "execution_count": 49,
     "metadata": {},
     "output_type": "execute_result"
    }
   ],
   "source": [
    "np.sum(FFNN.a[1][0])"
   ]
  },
  {
   "cell_type": "code",
   "execution_count": 46,
   "metadata": {},
   "outputs": [
    {
     "data": {
      "text/plain": [
       "MLPClassifier(activation='relu', alpha=0.0001, batch_size='auto', beta_1=0.9,\n",
       "              beta_2=0.999, early_stopping=False, epsilon=1e-08,\n",
       "              hidden_layer_sizes=[30], learning_rate='constant',\n",
       "              learning_rate_init=0.001, max_fun=15000, max_iter=200,\n",
       "              momentum=0.9, n_iter_no_change=10, nesterovs_momentum=True,\n",
       "              power_t=0.5, random_state=None, shuffle=True, solver='adam',\n",
       "              tol=0.0001, validation_fraction=0.1, verbose=False,\n",
       "              warm_start=False)"
      ]
     },
     "execution_count": 46,
     "metadata": {},
     "output_type": "execute_result"
    }
   ],
   "source": [
    "SKL_NN = MLPClassifier(\n",
    "    hidden_layer_sizes = [30],\n",
    "    activation = \"relu\"\n",
    ")\n",
    "SKL_NN.fit(X_train, y_train)"
   ]
  },
  {
   "cell_type": "code",
   "execution_count": 47,
   "metadata": {},
   "outputs": [
    {
     "data": {
      "text/plain": [
       "0.9607142857142857"
      ]
     },
     "execution_count": 47,
     "metadata": {},
     "output_type": "execute_result"
    }
   ],
   "source": [
    "SKL_NN.score(X_test, y_test)"
   ]
  },
  {
   "cell_type": "code",
   "execution_count": 48,
   "metadata": {},
   "outputs": [
    {
     "data": {
      "text/plain": [
       "array(['2', '8', '9', '4', '5', '6', '5', '2', '9', '5'], dtype='<U1')"
      ]
     },
     "execution_count": 48,
     "metadata": {},
     "output_type": "execute_result"
    }
   ],
   "source": [
    "SKL_NN.predict(X_test)[0:10]"
   ]
  },
  {
   "cell_type": "code",
   "execution_count": null,
   "metadata": {},
   "outputs": [],
   "source": []
  }
 ],
 "metadata": {
  "kernelspec": {
   "display_name": "Python 3",
   "language": "python",
   "name": "python3"
  },
  "language_info": {
   "codemirror_mode": {
    "name": "ipython",
    "version": 3
   },
   "file_extension": ".py",
   "mimetype": "text/x-python",
   "name": "python",
   "nbconvert_exporter": "python",
   "pygments_lexer": "ipython3",
   "version": "3.7.7"
  }
 },
 "nbformat": 4,
 "nbformat_minor": 4
}
