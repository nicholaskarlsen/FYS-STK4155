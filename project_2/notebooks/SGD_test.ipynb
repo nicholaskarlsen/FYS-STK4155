{
 "cells": [
  {
   "cell_type": "code",
   "execution_count": 1,
   "metadata": {
    "tags": []
   },
   "outputs": [],
   "source": [
    "import numpy as np\n",
    "import matplotlib.pyplot as plt\n",
    "import sys\n",
    "from sklearn.model_selection import train_test_split\n",
    "from sklearn.preprocessing import StandardScaler\n",
    "\n",
    "sys.path.insert(0,\"../src/\")\n",
    "import SGD\n",
    "import CostFunctions\n",
    "\n",
    "sys.path.insert(0,\"../../project_1/src/\")\n",
    "from FrankeFunction import *\n",
    "import stat_tools\n",
    "import linear_regression"
   ]
  },
  {
   "cell_type": "code",
   "execution_count": 2,
   "metadata": {},
   "outputs": [],
   "source": [
    "n = 1000                # Number of data points\n",
    "noise_scale = 0.2      # Size of artificial noise\n",
    "M = 10                # Number of mini-batches in SGD\n",
    "n_epochs = 800        # Number of epochs in SGD\n",
    "learning_rate = 1e-2  # Learning rate of SGD\n",
    "\n",
    "\n",
    "# Generate data\n",
    "x = np.random.uniform(0, 1, n)\n",
    "y = np.random.uniform(0, 1, n)\n",
    "z = FrankeFunction(x, y)\n",
    "\n",
    "# Add standard normal noise:\n",
    "z = z + noise_scale * np.random.normal(0, 1, len(z))\n",
    "x_train, x_test, y_train, y_test, z_train, z_test = train_test_split(x, y, z, test_size=0.2)\n",
    "\n",
    "# Center the response \n",
    "z_train_intercept = np.mean(z_train)\n",
    "z_train = z_train - z_train_intercept\n",
    "z_test = z_test - z_train_intercept\n",
    "\n",
    "# Parameters to test\n",
    "degrees = np.arange(2, 14)\n",
    "lambdas = np.logspace(-10, 0, 5)\n",
    "\n",
    "# Store Stochastic Gradient Descent MSE\n",
    "OLS_MSE_SGD = np.zeros(len(degrees))\n",
    "Ridge_MSE_SGD = np.zeros([len(degrees), len(lambdas)])\n",
    "\n",
    "# Store Analytic Solution MSE\n",
    "OLS_MSE_Analytic = np.zeros(len(degrees))\n",
    "Ridge_MSE_Analytic = np.zeros([len(degrees), len(lambdas)])"
   ]
  },
  {
   "cell_type": "code",
   "execution_count": 3,
   "metadata": {},
   "outputs": [],
   "source": [
    "for i, degree in enumerate(degrees):\n",
    "    \n",
    "    # Create design matrices\n",
    "    X_train = linear_regression.design_matrix_2D(x_train, y_train, degree)\n",
    "    X_test = linear_regression.design_matrix_2D(x_test, y_test, degree)\n",
    "    \n",
    "    # Scale design matrix according to the training data\n",
    "    scaler = StandardScaler()\n",
    "    scaler.fit(X_train)\n",
    "    X_train_scaled = scaler.transform(X_train)\n",
    "    X_test_scaled = scaler.transform(X_test)\n",
    "    # Remove the intercept\n",
    "    X_train_scaled = X_train_scaled[:,1:]\n",
    "    X_test_scaled = X_test_scaled[:,1:]\n",
    "    \n",
    "    N_predictors = int((degree + 1) * (degree + 2) / 2) - 1 # Don't include intercept\n",
    "    w_init = np.random.randn(N_predictors) # Random initial weights\n",
    "    \n",
    "    # Solve for optimal weights using OLS Cost function\n",
    "    w_OLS_Analytic = linear_regression.OLS_SVD_2D(X_train_scaled, z_train)\n",
    "    \n",
    "    w_OLS_SGD = SGD.ADAgrad(\n",
    "        X_train_scaled, \n",
    "        z_train, \n",
    "        M, \n",
    "        w_init, \n",
    "        n_epochs, \n",
    "        learning_rate, \n",
    "        CostFunctions.OLS_cost_gradient)\n",
    "    \n",
    "    # Compute the MSE\n",
    "    OLS_MSE_SGD[i] = stat_tools.MSE(z_test, X_test_scaled @ w_OLS_SGD)\n",
    "    OLS_MSE_Analytic[i] = stat_tools.MSE(z_test, X_test_scaled @ w_OLS_Analytic)\n",
    "    \n",
    "    for j, lambd in enumerate(lambdas):\n",
    "        # Solve for optimal weights using Ridge Cost function\n",
    "        w_Ridge_Analytic = linear_regression.Ridge_2D(X_train_scaled, z_train, lambd)\n",
    "        w_Ridge_SGD = SGD.ADAgrad(\n",
    "            X_train_scaled, \n",
    "            z_train, \n",
    "            M, \n",
    "            w_init, \n",
    "            n_epochs, \n",
    "            learning_rate, \n",
    "            CostFunctions.Ridge_cost_gradient,\n",
    "            lambd)\n",
    "        \n",
    "        # Compute the MSE\n",
    "        Ridge_MSE_SGD[i,j] = stat_tools.MSE(z_test, X_test_scaled @ w_Ridge_SGD)\n",
    "        Ridge_MSE_Analytic[i,j] = stat_tools.MSE(z_test, X_test_scaled @ w_Ridge_Analytic)"
   ]
  },
  {
   "cell_type": "code",
   "execution_count": 4,
   "metadata": {},
   "outputs": [
    {
     "data": {
      "text/plain": [
       "<matplotlib.legend.Legend at 0x7f4483db9cd0>"
      ]
     },
     "execution_count": 4,
     "metadata": {},
     "output_type": "execute_result"
    },
    {
     "data": {
      "image/png": "[encoded data removed]",
      "text/plain": [
       "<Figure size 432x288 with 1 Axes>"
      ]
     },
     "metadata": {
      "needs_background": "light"
     },
     "output_type": "display_data"
    }
   ],
   "source": [
    "plt.semilogy(degrees, OLS_MSE_SGD, label=\"SGD\")\n",
    "plt.semilogy(degrees, OLS_MSE_Analytic, label=\"Analytic\")\n",
    "plt.xlabel(\"Degree\")\n",
    "plt.ylabel(\"Test MSE\")\n",
    "plt.title(\"OLS\")\n",
    "plt.legend()"
   ]
  },
  {
   "cell_type": "code",
   "execution_count": 5,
   "metadata": {},
   "outputs": [
    {
     "data": {
      "text/plain": [
       "Text(0.5, 1.0, 'Ridge')"
      ]
     },
     "execution_count": 5,
     "metadata": {},
     "output_type": "execute_result"
    },
    {
     "data": {
      "image/png": "[encoded data removed]",
      "text/plain": [
       "<Figure size 432x288 with 1 Axes>"
      ]
     },
     "metadata": {
      "needs_background": "light"
     },
     "output_type": "display_data"
    }
   ],
   "source": [
    "plt.semilogy(degrees, Ridge_MSE_SGD, color=\"blue\")\n",
    "plt.semilogy(degrees, Ridge_MSE_Analytic, color=\"red\")\n",
    "plt.xlabel(\"Degree\")\n",
    "plt.ylabel(\"Test MSE\")\n",
    "plt.title(\"Ridge\")"
   ]
  },
  {
   "cell_type": "code",
   "execution_count": null,
   "metadata": {},
   "outputs": [],
   "source": []
  }
 ],
 "metadata": {
  "kernelspec": {
   "display_name": "Python 3",
   "language": "python",
   "name": "python3"
  },
  "language_info": {
   "codemirror_mode": {
    "name": "ipython",
    "version": 3
   },
   "file_extension": ".py",
   "mimetype": "text/x-python",
   "name": "python",
   "nbconvert_exporter": "python",
   "pygments_lexer": "ipython3",
   "version": "3.8.3"
  }
 },
 "nbformat": 4,
 "nbformat_minor": 4
}
