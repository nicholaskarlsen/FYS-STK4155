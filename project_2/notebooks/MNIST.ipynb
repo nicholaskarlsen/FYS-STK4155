{
 "cells": [
  {
   "cell_type": "code",
   "execution_count": 1,
   "metadata": {},
   "outputs": [],
   "source": [
    "import numpy as np\n",
    "import matplotlib.pyplot as plt\n",
    "from sklearn.datasets import fetch_openml\n",
    "from sklearn.neural_network import MLPClassifier\n",
    "from sklearn.model_selection import train_test_split\n",
    "from imageio import imread\n",
    "import sys\n",
    "\n",
    "sys.path.insert(0, \"../src/\")\n",
    "sys.path.insert(0, \"../../project_1/src\")\n",
    "from NeuralNetwork import *\n",
    "from CostFunctions import *\n",
    "from ActivationFunctions import *\n",
    "from SGD import *\n",
    "from sklearn.model_selection import train_test_split\n",
    "from FrankeFunction import *\n",
    "from linear_regression import *\n",
    "from stat_tools import *\n",
    "from utils import plot_settings\n",
    "\n",
    "plot_settings()\n",
    "\n",
    "FIGPATH = \"../figs/\"\n",
    "FIGSIZE = np.array([4, 3])"
   ]
  },
  {
   "cell_type": "code",
   "execution_count": 2,
   "metadata": {},
   "outputs": [
    {
     "name": "stdout",
     "output_type": "stream",
     "text": [
      "X shape =  (70000, 784)\n",
      "y shape =  (70000,)\n"
     ]
    },
    {
     "data": {
      "text/plain": [
       "1.0"
      ]
     },
     "execution_count": 2,
     "metadata": {},
     "output_type": "execute_result"
    }
   ],
   "source": [
    "X, y = fetch_openml('mnist_784', version=1, return_X_y=True)\n",
    "print(\"X shape = \", X.shape)\n",
    "print(\"y shape = \", y.shape)\n",
    "\n",
    "# Rescale the X data from [0, 255] -> [0, 1]\n",
    "# NOTE: Re-Scaling brought the score from ~93 -> ~96 for a 30 layer ReLU\n",
    "X /= 255.0\n",
    "np.max(X)"
   ]
  },
  {
   "cell_type": "code",
   "execution_count": 3,
   "metadata": {},
   "outputs": [
    {
     "data": {
      "image/png": "[encoded data removed]",
      "text/plain": [
       "<Figure size 216x162 with 9 Axes>"
      ]
     },
     "metadata": {},
     "output_type": "display_data"
    }
   ],
   "source": [
    "plt.figure(figsize = FIGSIZE * 0.75)\n",
    "for i in range(9):\n",
    "    plt.subplot(3,3,i+1)\n",
    "    pick = np.random.randint(len(X)-1)\n",
    "    plt.imshow(X[pick].reshape(28, 28))\n",
    "    plt.title(f\"{y[pick]}\")\n",
    "    plt.xticks([]); plt.yticks([])\n",
    "plt.tight_layout()\n",
    "plt.savefig(FIGPATH+\"MNIST_example.pdf\")"
   ]
  },
  {
   "cell_type": "code",
   "execution_count": 4,
   "metadata": {},
   "outputs": [
    {
     "name": "stdout",
     "output_type": "stream",
     "text": [
      "(56000, 784)\n",
      "(56000,)\n"
     ]
    }
   ],
   "source": [
    "X_train, X_test, y_train, y_test = train_test_split(X, y, test_size = 0.2)\n",
    "print(X_train.shape)\n",
    "print(y_train.shape)"
   ]
  },
  {
   "cell_type": "code",
   "execution_count": 37,
   "metadata": {},
   "outputs": [
    {
     "name": "stdout",
     "output_type": "stream",
     "text": [
      "Initializing weights using: Normal distribution\n"
     ]
    }
   ],
   "source": []
  },
  {
   "cell_type": "code",
   "execution_count": 68,
   "metadata": {},
   "outputs": [],
   "source": [
    "def run_mnist(\n",
    "    activation, \n",
    "    shape, \n",
    "    init_weights_method, \n",
    "    learning_rate = 0.01,\n",
    "    N_epochs = 200,\n",
    "    learning_rate_decay=None,\n",
    "    decay_rate=0):\n",
    "    \n",
    "    N_epochs = 100\n",
    "    epochs_per_itter = 1\n",
    "\n",
    "    FFNN = FFNNClassifier(\n",
    "        X=X_train,\n",
    "        Y=y_train,\n",
    "        activation=activation,\n",
    "        network_shape=shape,\n",
    "        init_weights_method=init_weights_method,\n",
    "        learning_rate_decay=learning_rate_decay,\n",
    "    )\n",
    "    \n",
    "    #FFNN.weights = w_skl\n",
    "    #FFNN.biases = b_skl\n",
    "\n",
    "    scores = np.zeros(N_epochs)\n",
    "    for i in range(len(scores)):\n",
    "        FFNN.train(int(len(y_train) / 32), 0.01, epochs_per_itter, decay_rate=decay_rate)\n",
    "        scores[i] = FFNN.score(y_test, X_test)\n",
    "        \n",
    "    return scores"
   ]
  },
  {
   "cell_type": "code",
   "execution_count": 60,
   "metadata": {},
   "outputs": [
    {
     "name": "stdout",
     "output_type": "stream",
     "text": [
      "Initializing weights using: He\n"
     ]
    }
   ],
   "source": [
    "N_epochs = 10\n",
    "epochs_per_itter = 1\n",
    "\n",
    "FFNN = FFNNClassifier(\n",
    "    X=X_train,\n",
    "    Y=y_train,\n",
    "    activation=ActivationFunctions.ReLU,\n",
    "    network_shape=[100],\n",
    "    init_weights_method=\"he\",\n",
    ")"
   ]
  },
  {
   "cell_type": "code",
   "execution_count": 67,
   "metadata": {},
   "outputs": [
    {
     "name": "stdout",
     "output_type": "stream",
     "text": [
      "0.9777857142857143\n",
      "370\n"
     ]
    },
    {
     "data": {
      "image/png": "[encoded data removed]",
      "text/plain": [
       "<Figure size 432x288 with 1 Axes>"
      ]
     },
     "metadata": {
      "needs_background": "light"
     },
     "output_type": "display_data"
    }
   ],
   "source": [
    "N_epochs = 100\n",
    "scores = np.zeros(N_epochs)\n",
    "\n",
    "for i in range(len(scores)):\n",
    "    FFNN.train(int(len(y_train) / 32), 0.0001, epochs_per_itter)\n",
    "    scores[i] = FFNN.score(y_test, X_test)\n",
    "    \n",
    "plt.plot(scores)\n",
    "print(scores[-1])\n",
    "print(FFNN.total_epochs)"
   ]
  },
  {
   "cell_type": "code",
   "execution_count": 57,
   "metadata": {},
   "outputs": [
    {
     "name": "stdout",
     "output_type": "stream",
     "text": [
      "Initializing weights using: He\n",
      "Initializing weights using: He\n",
      "0.9766428571428571\n",
      "0.9775\n"
     ]
    },
    {
     "data": {
      "image/png": "[encoded data removed]",
      "text/plain": [
       "<Figure size 432x288 with 1 Axes>"
      ]
     },
     "metadata": {
      "needs_background": "light"
     },
     "output_type": "display_data"
    }
   ],
   "source": [
    "ReLU_1 = run_mnist(\n",
    "    activation=ActivationFunctions.ReLU,\n",
    "    shape = [100],\n",
    "    init_weights_method = \"he\",\n",
    "    learning_rate = 0.01,\n",
    "    learning_rate_decay=\"exponential\",\n",
    "    decay_rate = 1/100\n",
    ")\n",
    "\n",
    "ReLU_2 = run_mnist(\n",
    "    activation=ActivationFunctions.ReLU,\n",
    "    shape = [100],\n",
    "    init_weights_method = \"he\",\n",
    "    learning_rate = 0.01\n",
    "    #learning_rate_decay=\"exponential\",\n",
    "    #decay_rate = 1/25\n",
    ")\n",
    "\n",
    "\n",
    "plt.plot(ReLU_1, label=\"1\")\n",
    "plt.plot(ReLU_2, label=\"2\")\n",
    "plt.legend()\n",
    "print(ReLU_1[-1])\n",
    "print(ReLU_2[-1])"
   ]
  },
  {
   "cell_type": "code",
   "execution_count": 23,
   "metadata": {},
   "outputs": [
    {
     "name": "stdout",
     "output_type": "stream",
     "text": [
      "Initializing weights using: He\n",
      "Initializing weights using: He\n",
      "Initializing weights using: He\n",
      "Initializing weights using: He\n",
      "0.9778571428571429\n",
      "0.9709285714285715\n",
      "0.9652857142857143\n",
      "0.9361428571428572\n"
     ]
    },
    {
     "data": {
      "image/png": "[encoded data removed]",
      "text/plain": [
       "<Figure size 288x216 with 1 Axes>"
      ]
     },
     "metadata": {
      "needs_background": "light"
     },
     "output_type": "display_data"
    }
   ],
   "source": [
    "ReLU_1 = run_mnist(\n",
    "    activation=ActivationFunctions.ReLU,\n",
    "    shape = [100],\n",
    "    init_weights_method = \"he\",\n",
    "    learning_rate = 0.01\n",
    ")\n",
    "\n",
    "ReLU_2 = run_mnist(\n",
    "    activation=ActivationFunctions.ReLU,\n",
    "    shape = [50],\n",
    "    init_weights_method = \"he\",\n",
    "    learning_rate = 0.01\n",
    ")\n",
    "\n",
    "ReLU_3 = run_mnist(\n",
    "    activation=ActivationFunctions.ReLU,\n",
    "    shape = [30],\n",
    "    init_weights_method = \"he\",\n",
    "    learning_rate = 0.01\n",
    ")\n",
    "\n",
    "ReLU_4 = run_mnist(\n",
    "    activation=ActivationFunctions.ReLU,\n",
    "    shape = [10],\n",
    "    init_weights_method = \"he\",\n",
    "    learning_rate = 0.01\n",
    ")\n",
    "\n",
    "plt.figure(figsize=FIGSIZE)\n",
    "plt.plot(ReLU_1, label=\"100 Neurons\")\n",
    "plt.plot(ReLU_2, label=\"50 Neurons\")\n",
    "plt.plot(ReLU_3, label=\"30 Neurons\")\n",
    "plt.plot(ReLU_4, label=\"10 Neurons\")\n",
    "plt.xlabel(\"Epoch\")\n",
    "plt.ylabel(\"Accuracy\")\n",
    "plt.legend()\n",
    "print(ReLU_1[-1])\n",
    "print(ReLU_2[-1])\n",
    "print(ReLU_3[-1])\n",
    "print(ReLU_4[-1])\n",
    "plt.savefig(FIGPATH+\"MNIST_layers_ReLU.pdf\")"
   ]
  },
  {
   "cell_type": "code",
   "execution_count": 24,
   "metadata": {},
   "outputs": [
    {
     "name": "stdout",
     "output_type": "stream",
     "text": [
      "Initializing weights using: Xavier\n",
      "Initializing weights using: Xavier\n",
      "Initializing weights using: Xavier\n",
      "Initializing weights using: Xavier\n",
      "0.96\n",
      "0.9579285714285715\n",
      "0.9537142857142857\n",
      "0.9303571428571429\n"
     ]
    },
    {
     "data": {
      "image/png": "[encoded data removed]",
      "text/plain": [
       "<Figure size 288x216 with 1 Axes>"
      ]
     },
     "metadata": {
      "needs_background": "light"
     },
     "output_type": "display_data"
    }
   ],
   "source": [
    "ReLU_1 = run_mnist(\n",
    "    activation=ActivationFunctions.Sigmoid,\n",
    "    shape = [100],\n",
    "    init_weights_method = \"xavier\",\n",
    "    learning_rate = 0.01\n",
    ")\n",
    "\n",
    "ReLU_2 = run_mnist(\n",
    "    activation=ActivationFunctions.Sigmoid,\n",
    "    shape = [50],\n",
    "    init_weights_method = \"xavier\",\n",
    "    learning_rate = 0.01\n",
    ")\n",
    "\n",
    "ReLU_3 = run_mnist(\n",
    "    activation=ActivationFunctions.Sigmoid,\n",
    "    shape = [30],\n",
    "    init_weights_method = \"xavier\",\n",
    "    learning_rate = 0.01\n",
    ")\n",
    "\n",
    "ReLU_4 = run_mnist(\n",
    "    activation=ActivationFunctions.Sigmoid,\n",
    "    shape = [10],\n",
    "    init_weights_method = \"xavier\",\n",
    "    learning_rate = 0.01\n",
    ")\n",
    "\n",
    "plt.figure(figsize=FIGSIZE)\n",
    "plt.plot(ReLU_1, label=\"100 Neurons\")\n",
    "plt.plot(ReLU_2, label=\"50 Neurons\")\n",
    "plt.plot(ReLU_3, label=\"30 Neurons\")\n",
    "plt.plot(ReLU_4, label=\"10 Neurons\")\n",
    "plt.xlabel(\"Epoch\")\n",
    "plt.ylabel(\"Accuracy\")\n",
    "plt.legend()\n",
    "print(ReLU_1[-1])\n",
    "print(ReLU_2[-1])\n",
    "print(ReLU_3[-1])\n",
    "print(ReLU_4[-1])\n",
    "plt.savefig(FIGPATH+\"MNIST_layers_Xavier.pdf\")"
   ]
  },
  {
   "cell_type": "code",
   "execution_count": 25,
   "metadata": {},
   "outputs": [
    {
     "name": "stdout",
     "output_type": "stream",
     "text": [
      "Initializing weights using: He\n",
      "Initializing weights using: He\n",
      "Initializing weights using: He\n",
      "Initializing weights using: He\n",
      "0.9768571428571429\n",
      "0.9729285714285715\n",
      "0.9652142857142857\n",
      "0.9419285714285714\n"
     ]
    },
    {
     "data": {
      "image/png": "[encoded data removed]",
      "text/plain": [
       "<Figure size 288x216 with 1 Axes>"
      ]
     },
     "metadata": {
      "needs_background": "light"
     },
     "output_type": "display_data"
    }
   ],
   "source": [
    "ReLU_1 = run_mnist(\n",
    "    activation=ActivationFunctions.ReLU,\n",
    "    shape = [100,100],\n",
    "    init_weights_method = \"he\",\n",
    "    learning_rate = 0.01\n",
    ")\n",
    "\n",
    "ReLU_2 = run_mnist(\n",
    "    activation=ActivationFunctions.ReLU,\n",
    "    shape = [50,50],\n",
    "    init_weights_method = \"he\",\n",
    "    learning_rate = 0.01\n",
    ")\n",
    "\n",
    "ReLU_3 = run_mnist(\n",
    "    activation=ActivationFunctions.ReLU,\n",
    "    shape = [30,30],\n",
    "    init_weights_method = \"he\",\n",
    "    learning_rate = 0.01\n",
    ")\n",
    "\n",
    "ReLU_4 = run_mnist(\n",
    "    activation=ActivationFunctions.ReLU,\n",
    "    shape = [10,10],\n",
    "    init_weights_method = \"he\",\n",
    "    learning_rate = 0.01\n",
    ")\n",
    "\n",
    "plt.figure(figsize=FIGSIZE)\n",
    "plt.plot(ReLU_1, label=\"100x100 Neurons\")\n",
    "plt.plot(ReLU_2, label=\"50x50 Neurons\")\n",
    "plt.plot(ReLU_3, label=\"30x30 Neurons\")\n",
    "plt.plot(ReLU_4, label=\"10x10 Neurons\")\n",
    "plt.xlabel(\"Epoch\")\n",
    "plt.ylabel(\"Accuracy\")\n",
    "plt.legend()\n",
    "print(ReLU_1[-1])\n",
    "print(ReLU_2[-1])\n",
    "print(ReLU_3[-1])\n",
    "print(ReLU_4[-1])\n",
    "plt.savefig(FIGPATH+\"MNIST_layers_ReLU_2_layers.pdf\")"
   ]
  },
  {
   "cell_type": "code",
   "execution_count": 26,
   "metadata": {},
   "outputs": [
    {
     "name": "stdout",
     "output_type": "stream",
     "text": [
      "Initializing weights using: Xavier\n",
      "Initializing weights using: Xavier\n",
      "Initializing weights using: Xavier\n",
      "Initializing weights using: Xavier\n",
      "0.9632142857142857\n",
      "0.9606428571428571\n",
      "0.9573571428571429\n",
      "0.9288571428571428\n"
     ]
    },
    {
     "data": {
      "image/png": "[encoded data removed]",
      "text/plain": [
       "<Figure size 288x216 with 1 Axes>"
      ]
     },
     "metadata": {
      "needs_background": "light"
     },
     "output_type": "display_data"
    }
   ],
   "source": [
    "ReLU_1 = run_mnist(\n",
    "    activation=ActivationFunctions.Sigmoid,\n",
    "    shape = [100,100],\n",
    "    init_weights_method = \"xavier\",\n",
    "    learning_rate = 0.01\n",
    ")\n",
    "\n",
    "ReLU_2 = run_mnist(\n",
    "    activation=ActivationFunctions.Sigmoid,\n",
    "    shape = [50,50],\n",
    "    init_weights_method = \"xavier\",\n",
    "    learning_rate = 0.01\n",
    ")\n",
    "\n",
    "ReLU_3 = run_mnist(\n",
    "    activation=ActivationFunctions.Sigmoid,\n",
    "    shape = [30,30],\n",
    "    init_weights_method = \"xavier\",\n",
    "    learning_rate = 0.01\n",
    ")\n",
    "\n",
    "ReLU_4 = run_mnist(\n",
    "    activation=ActivationFunctions.Sigmoid,\n",
    "    shape = [10,10],\n",
    "    init_weights_method = \"xavier\",\n",
    "    learning_rate = 0.01\n",
    ")\n",
    "\n",
    "plt.figure(figsize=FIGSIZE)\n",
    "plt.plot(ReLU_1, label=\"100x100 Neurons\")\n",
    "plt.plot(ReLU_2, label=\"50x50 Neurons\")\n",
    "plt.plot(ReLU_3, label=\"30x30 Neurons\")\n",
    "plt.plot(ReLU_4, label=\"10x10 Neurons\")\n",
    "plt.xlabel(\"Epoch\")\n",
    "plt.ylabel(\"Accuracy\")\n",
    "plt.legend()\n",
    "print(ReLU_1[-1])\n",
    "print(ReLU_2[-1])\n",
    "print(ReLU_3[-1])\n",
    "print(ReLU_4[-1])\n",
    "plt.savefig(FIGPATH+\"MNIST_layers_Sigmoid_2_layers.pdf\")"
   ]
  },
  {
   "cell_type": "code",
   "execution_count": 27,
   "metadata": {},
   "outputs": [
    {
     "name": "stdout",
     "output_type": "stream",
     "text": [
      "Initializing weights using: He\n",
      "Initializing weights using: He\n",
      "Initializing weights using: He\n",
      "Initializing weights using: He\n",
      "0.9770714285714286\n",
      "0.9702857142857143\n",
      "0.9742142857142857\n",
      "0.9627857142857142\n"
     ]
    },
    {
     "data": {
      "image/png": "[encoded data removed]",
      "text/plain": [
       "<Figure size 288x216 with 1 Axes>"
      ]
     },
     "metadata": {
      "needs_background": "light"
     },
     "output_type": "display_data"
    }
   ],
   "source": [
    "ReLU_1 = run_mnist(\n",
    "    activation=ActivationFunctions.ReLU,\n",
    "    shape = [100,50],\n",
    "    init_weights_method = \"he\",\n",
    "    learning_rate = 0.01\n",
    ")\n",
    "\n",
    "ReLU_2 = run_mnist(\n",
    "    activation=ActivationFunctions.ReLU,\n",
    "    shape = [50,25],\n",
    "    init_weights_method = \"he\",\n",
    "    learning_rate = 0.01\n",
    ")\n",
    "\n",
    "ReLU_3 = run_mnist(\n",
    "    activation=ActivationFunctions.ReLU,\n",
    "    shape = [50,100],\n",
    "    init_weights_method = \"he\",\n",
    "    learning_rate = 0.01\n",
    ")\n",
    "\n",
    "ReLU_4 = run_mnist(\n",
    "    activation=ActivationFunctions.ReLU,\n",
    "    shape = [25,50],\n",
    "    init_weights_method = \"he\",\n",
    "    learning_rate = 0.01\n",
    ")\n",
    "\n",
    "plt.figure(figsize=FIGSIZE)\n",
    "plt.plot(ReLU_1, label=\"100x50 Neurons\")\n",
    "plt.plot(ReLU_2, label=\"50x25 Neurons\")\n",
    "plt.plot(ReLU_3, label=\"50x100 Neurons\")\n",
    "plt.plot(ReLU_4, label=\"25x50 Neurons\")\n",
    "plt.xlabel(\"Epoch\")\n",
    "plt.ylabel(\"Accuracy\")\n",
    "plt.legend()\n",
    "print(ReLU_1[-1])\n",
    "print(ReLU_2[-1])\n",
    "print(ReLU_3[-1])\n",
    "print(ReLU_4[-1])\n",
    "plt.savefig(FIGPATH+\"MNIST_layers_ReLU_2_irregular_layers.pdf\")"
   ]
  },
  {
   "cell_type": "code",
   "execution_count": 28,
   "metadata": {},
   "outputs": [
    {
     "name": "stdout",
     "output_type": "stream",
     "text": [
      "Initializing weights using: He\n",
      "Initializing weights using: He\n",
      "0.9762857142857143\n",
      "0.9747142857142858\n"
     ]
    },
    {
     "data": {
      "image/png": "[encoded data removed]",
      "text/plain": [
       "<Figure size 288x216 with 1 Axes>"
      ]
     },
     "metadata": {
      "needs_background": "light"
     },
     "output_type": "display_data"
    }
   ],
   "source": [
    "ReLU_1 = run_mnist(\n",
    "    activation=ActivationFunctions.ReLU,\n",
    "    shape = [100,25],\n",
    "    init_weights_method = \"he\",\n",
    "    learning_rate = 0.01\n",
    ")\n",
    "\n",
    "ReLU_2 = run_mnist(\n",
    "    activation=ActivationFunctions.ReLU,\n",
    "    shape = [100,10],\n",
    "    init_weights_method = \"he\",\n",
    "    learning_rate = 0.01\n",
    ")\n",
    "\n",
    "plt.figure(figsize=FIGSIZE)\n",
    "plt.plot(ReLU_1, label=\"100x25 Neurons\")\n",
    "plt.plot(ReLU_2, label=\"100x10 Neurons\")\n",
    "plt.xlabel(\"Epoch\")\n",
    "plt.ylabel(\"Accuracy\")\n",
    "plt.legend()\n",
    "print(ReLU_1[-1])\n",
    "print(ReLU_2[-1])\n",
    "plt.savefig(FIGPATH+\"MNIST_layers_ReLU_2_irregular_subset_layers.pdf\")"
   ]
  },
  {
   "cell_type": "code",
   "execution_count": 95,
   "metadata": {},
   "outputs": [],
   "source": [
    "shape = [50,50]\n",
    "momentum = np.array([1e-3, 1e-4, 1e-5])\n",
    "penalty = np.array([1e-4, 1e-5, 1e-6])\n",
    "learning_rate = 0.01\n",
    "\n",
    "MSE_relu = np.zeros([len(momentum), len(penalty)])"
   ]
  },
  {
   "cell_type": "code",
   "execution_count": 101,
   "metadata": {},
   "outputs": [
    {
     "name": "stdout",
     "output_type": "stream",
     "text": [
      "Initializing weights using: He\n",
      "0 0 : 0.001 0.0001\n",
      "Initializing weights using: He\n",
      "0 1 : 0.001 1e-05\n",
      "Initializing weights using: He\n",
      "0 2 : 0.001 1e-06\n",
      "Initializing weights using: He\n",
      "1 0 : 0.0001 0.0001\n",
      "Initializing weights using: He\n",
      "1 1 : 0.0001 1e-05\n",
      "Initializing weights using: He\n",
      "1 2 : 0.0001 1e-06\n",
      "Initializing weights using: He\n",
      "2 0 : 1e-05 0.0001\n",
      "Initializing weights using: He\n",
      "2 1 : 1e-05 1e-05\n",
      "Initializing weights using: He\n",
      "2 2 : 1e-05 1e-06\n"
     ]
    }
   ],
   "source": [
    "for i, p in enumerate(momentum):\n",
    "    for j, lambd in enumerate(penalty):\n",
    "        FFNN = FFNNClassifier(\n",
    "            X=X_train,\n",
    "            Y=y_train,\n",
    "            activation=ActivationFunctions.ReLU,\n",
    "            network_shape=shape,\n",
    "            init_weights_method = \"he\",\n",
    "            lambd = lambd,\n",
    "            momentum = p\n",
    "        )\n",
    "        \n",
    "        print(i, j, \":\",p, lambd)\n",
    "\n",
    "        FFNN.train(int(len(y_train) / 32), 0.01, 5)\n",
    "        MSE_relu[i,j] = FFNN.score(y_test, X_test)"
   ]
  },
  {
   "cell_type": "code",
   "execution_count": 102,
   "metadata": {},
   "outputs": [
    {
     "data": {
      "text/plain": [
       "array([[0.09607143, 0.09607143, 0.09607143],\n",
       "       [0.94257143, 0.93978571, 0.94435714],\n",
       "       [0.94564286, 0.94      , 0.94385714]])"
      ]
     },
     "execution_count": 102,
     "metadata": {},
     "output_type": "execute_result"
    }
   ],
   "source": [
    "MSE_relu"
   ]
  },
  {
   "cell_type": "code",
   "execution_count": 84,
   "metadata": {},
   "outputs": [
    {
     "name": "stderr",
     "output_type": "stream",
     "text": [
      "/home/nick/anaconda3/lib/python3.8/site-packages/sklearn/neural_network/_multilayer_perceptron.py:582: ConvergenceWarning: Stochastic Optimizer: Maximum iterations (1) reached and the optimization hasn't converged yet.\n",
      "  warnings.warn(\n"
     ]
    },
    {
     "data": {
      "text/plain": [
       "MLPClassifier(alpha=0, batch_size=32, hidden_layer_sizes=[30],\n",
       "              learning_rate_init=0.01, max_iter=1, momentum=0, solver='sgd')"
      ]
     },
     "execution_count": 84,
     "metadata": {},
     "output_type": "execute_result"
    }
   ],
   "source": [
    "SKL_NN = MLPClassifier(\n",
    "    hidden_layer_sizes = [30],\n",
    "    activation = \"relu\",\n",
    "    solver='sgd',\n",
    "    batch_size = 32,\n",
    "    learning_rate_init = 0.01,\n",
    "    alpha = 0,\n",
    "    momentum = 0,\n",
    "    max_iter = 1\n",
    ")\n",
    "SKL_NN.fit(X_train, y_train)"
   ]
  },
  {
   "cell_type": "code",
   "execution_count": 68,
   "metadata": {},
   "outputs": [
    {
     "name": "stdout",
     "output_type": "stream",
     "text": [
      "score:  0.8891428571428571\n",
      "activation:  softmax\n",
      "no. itterations:  1\n"
     ]
    }
   ],
   "source": [
    "print(\"score: \",SKL_NN.score(X_test, y_test))\n",
    "print(\"activation: \", SKL_NN.out_activation_)\n",
    "print(\"no. itterations: \",SKL_NN.n_iter_)"
   ]
  },
  {
   "cell_type": "code",
   "execution_count": 85,
   "metadata": {},
   "outputs": [],
   "source": [
    "w_skl = np.array(SKL_NN.coefs_, dtype='object')\n",
    "b_skl = np.array(SKL_NN.intercepts_, dtype='object')\n",
    "\n",
    "for i in range(len(w_skl)):\n",
    "    w_skl[i] = w_skl[i].T"
   ]
  }
 ],
 "metadata": {
  "kernelspec": {
   "display_name": "Python 3",
   "language": "python",
   "name": "python3"
  },
  "language_info": {
   "codemirror_mode": {
    "name": "ipython",
    "version": 3
   },
   "file_extension": ".py",
   "mimetype": "text/x-python",
   "name": "python",
   "nbconvert_exporter": "python",
   "pygments_lexer": "ipython3",
   "version": "3.8.3"
  }
 },
 "nbformat": 4,
 "nbformat_minor": 4
}
