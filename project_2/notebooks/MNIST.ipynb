{
 "cells": [
  {
   "cell_type": "code",
   "execution_count": 1,
   "metadata": {},
   "outputs": [],
   "source": [
    "import numpy as np\n",
    "import matplotlib.pyplot as plt\n",
    "from sklearn.datasets import fetch_openml\n",
    "from sklearn.neural_network import MLPClassifier\n",
    "from sklearn.model_selection import train_test_split\n",
    "from imageio import imread\n",
    "import sys\n",
    "\n",
    "sys.path.insert(0, \"../src/\")\n",
    "sys.path.insert(0, \"../../project_1/src\")\n",
    "from NeuralNetwork import *\n",
    "from CostFunctions import *\n",
    "from ActivationFunctions import *\n",
    "from SGD import *\n",
    "from sklearn.model_selection import train_test_split\n",
    "from FrankeFunction import *\n",
    "from linear_regression import *\n",
    "from stat_tools import *"
   ]
  },
  {
   "cell_type": "code",
   "execution_count": 2,
   "metadata": {},
   "outputs": [
    {
     "name": "stdout",
     "output_type": "stream",
     "text": [
      "X shape =  (70000, 784)\n",
      "y shape =  (70000,)\n"
     ]
    },
    {
     "data": {
      "text/plain": [
       "1.0"
      ]
     },
     "execution_count": 2,
     "metadata": {},
     "output_type": "execute_result"
    }
   ],
   "source": [
    "X, y = fetch_openml('mnist_784', version=1, return_X_y=True)\n",
    "print(\"X shape = \", X.shape)\n",
    "print(\"y shape = \", y.shape)\n",
    "\n",
    "# Rescale the X data from [0, 255] -> [0, 1]\n",
    "# NOTE: Re-Scaling brought the score from ~93 -> ~96 for a 30 layer ReLU\n",
    "X /= 255.0\n",
    "np.max(X)"
   ]
  },
  {
   "cell_type": "code",
   "execution_count": 3,
   "metadata": {},
   "outputs": [
    {
     "data": {
      "image/png": "[encoded data removed]",
      "text/plain": [
       "<Figure size 360x360 with 9 Axes>"
      ]
     },
     "metadata": {},
     "output_type": "display_data"
    }
   ],
   "source": [
    "plt.figure(figsize = (5,5))\n",
    "for i in range(9):\n",
    "    plt.subplot(3,3,i+1)\n",
    "    pick = np.random.randint(len(X)-1)\n",
    "    plt.imshow(X[pick].reshape(28, 28))\n",
    "    plt.title(f\"{y[pick]}\")\n",
    "    plt.xticks([]); plt.yticks([])"
   ]
  },
  {
   "cell_type": "code",
   "execution_count": 4,
   "metadata": {},
   "outputs": [
    {
     "name": "stdout",
     "output_type": "stream",
     "text": [
      "(56000, 784)\n",
      "(56000,)\n"
     ]
    }
   ],
   "source": [
    "X_train, X_test, y_train, y_test = train_test_split(X, y, test_size = 0.2)\n",
    "print(X_train.shape)\n",
    "print(y_train.shape)"
   ]
  },
  {
   "cell_type": "code",
   "execution_count": 5,
   "metadata": {},
   "outputs": [],
   "source": [
    "# Preprocess Y for our NN\n",
    "y_train_onehot = np.zeros([len(y_train), 10])\n",
    "y_test_onehot = np.zeros([len(y_test), 10])\n",
    "\n",
    "for i, num in enumerate(y_train):\n",
    "    y_train_onehot[i, int(num)] = 1\n",
    "    \n",
    "for i, num in enumerate(y_test):\n",
    "    y_test_onehot[i, int(num)] = 1    "
   ]
  },
  {
   "cell_type": "code",
   "execution_count": 6,
   "metadata": {},
   "outputs": [
    {
     "data": {
      "text/plain": [
       "(14000, 10)"
      ]
     },
     "execution_count": 6,
     "metadata": {},
     "output_type": "execute_result"
    }
   ],
   "source": [
    "y_test_onehot.shape"
   ]
  },
  {
   "cell_type": "code",
   "execution_count": 7,
   "metadata": {},
   "outputs": [],
   "source": [
    "FFNN = FeedForwardNeuralNetwork(\n",
    "    X=X_train,\n",
    "    Y=y_train_onehot,\n",
    "    cost=CostFunctions.CrossEntropy,\n",
    "    activation=ActivationFunctions.Sigmoid,\n",
    "    activation_out=ActivationFunctions.Softmax,\n",
    "    network_shape=[30]\n",
    ")"
   ]
  },
  {
   "cell_type": "code",
   "execution_count": 18,
   "metadata": {},
   "outputs": [],
   "source": [
    "FFNN.train(int(len(y_train) / 32), 0.01, 100)"
   ]
  },
  {
   "cell_type": "code",
   "execution_count": 19,
   "metadata": {},
   "outputs": [],
   "source": [
    "y_pred = FFNN.predict(X_test)"
   ]
  },
  {
   "cell_type": "code",
   "execution_count": 20,
   "metadata": {},
   "outputs": [
    {
     "data": {
      "text/plain": [
       "array([[9.36230750e-04, 2.79667797e-03, 8.95143742e-01, 3.83590587e-03,\n",
       "        4.96027554e-06, 5.58023589e-04, 2.98445767e-03, 3.66458088e-05,\n",
       "        2.49433976e-01, 3.73673421e-05],\n",
       "       [9.93593210e-01, 3.99987636e-07, 1.96203877e-02, 1.47941814e-03,\n",
       "        2.54545870e-05, 1.84274298e-02, 7.68337383e-03, 1.52556816e-04,\n",
       "        1.26907276e-02, 2.97039823e-04],\n",
       "       [8.13611622e-08, 9.97780089e-01, 5.82577776e-04, 3.72145158e-04,\n",
       "        1.74415012e-05, 1.95974719e-03, 1.06712272e-04, 2.25429273e-02,\n",
       "        1.15364477e-03, 3.81356321e-03],\n",
       "       [5.96603117e-05, 1.97257488e-05, 8.62650605e-04, 2.37274340e-05,\n",
       "        9.59916529e-01, 3.88956061e-02, 1.34422041e-03, 3.16048978e-03,\n",
       "        6.46858092e-04, 3.41398244e-02],\n",
       "       [2.30363291e-05, 1.85974618e-04, 3.10866235e-03, 1.12843216e-02,\n",
       "        2.37852221e-02, 6.86162061e-05, 1.90910883e-04, 1.58561686e-03,\n",
       "        2.11929295e-01, 8.41068940e-01],\n",
       "       [9.93259662e-01, 8.60000499e-07, 2.19216881e-02, 2.24582208e-03,\n",
       "        2.63445517e-05, 5.18514741e-02, 6.19341674e-03, 4.48443593e-04,\n",
       "        4.82204710e-03, 3.21287750e-04],\n",
       "       [4.07289665e-02, 5.57861322e-05, 2.34798973e-04, 2.73077376e-03,\n",
       "        1.40503470e-05, 5.89849799e-03, 3.09543967e-02, 3.14489125e-06,\n",
       "        6.95551443e-01, 1.85546851e-03],\n",
       "       [1.05936718e-04, 5.05487344e-03, 1.30007983e-03, 9.77668813e-01,\n",
       "        2.82760910e-05, 4.70896284e-02, 5.38489017e-07, 1.02090943e-03,\n",
       "        7.27038846e-03, 5.03276700e-04],\n",
       "       [7.35725560e-05, 4.34595219e-05, 7.95993398e-03, 7.76340641e-05,\n",
       "        7.35738594e-03, 1.52702818e-03, 9.96925963e-01, 1.69152028e-04,\n",
       "        4.81227137e-04, 1.50110879e-03],\n",
       "       [1.42678752e-04, 7.27787776e-06, 2.02997701e-03, 7.16551274e-06,\n",
       "        9.92204844e-01, 9.36006281e-04, 6.69378108e-03, 2.13952251e-02,\n",
       "        1.02542661e-02, 2.60457588e-03]])"
      ]
     },
     "execution_count": 20,
     "metadata": {},
     "output_type": "execute_result"
    }
   ],
   "source": [
    "y_pred[0:10]"
   ]
  },
  {
   "cell_type": "code",
   "execution_count": 21,
   "metadata": {},
   "outputs": [
    {
     "data": {
      "text/plain": [
       "array(['2', '0', '1', '4', '9', '0', '0', '3', '6', '4'], dtype=object)"
      ]
     },
     "execution_count": 21,
     "metadata": {},
     "output_type": "execute_result"
    }
   ],
   "source": [
    "y_test[0:10]"
   ]
  },
  {
   "cell_type": "code",
   "execution_count": 11,
   "metadata": {},
   "outputs": [
    {
     "data": {
      "text/plain": [
       "MLPClassifier(activation='relu', alpha=0.0001, batch_size='auto', beta_1=0.9,\n",
       "              beta_2=0.999, early_stopping=False, epsilon=1e-08,\n",
       "              hidden_layer_sizes=[30, 10], learning_rate='constant',\n",
       "              learning_rate_init=0.001, max_fun=15000, max_iter=200,\n",
       "              momentum=0.9, n_iter_no_change=10, nesterovs_momentum=True,\n",
       "              power_t=0.5, random_state=None, shuffle=True, solver='adam',\n",
       "              tol=0.0001, validation_fraction=0.1, verbose=False,\n",
       "              warm_start=False)"
      ]
     },
     "execution_count": 11,
     "metadata": {},
     "output_type": "execute_result"
    }
   ],
   "source": [
    "SKL_NN = MLPClassifier(\n",
    "    hidden_layer_sizes = [30, 10],\n",
    "    activation = \"relu\"\n",
    ")\n",
    "SKL_NN.fit(X_train, y_train)"
   ]
  },
  {
   "cell_type": "code",
   "execution_count": 12,
   "metadata": {},
   "outputs": [
    {
     "data": {
      "text/plain": [
       "0.9581428571428572"
      ]
     },
     "execution_count": 12,
     "metadata": {},
     "output_type": "execute_result"
    }
   ],
   "source": [
    "SKL_NN.score(X_test, y_test)"
   ]
  },
  {
   "cell_type": "code",
   "execution_count": 13,
   "metadata": {},
   "outputs": [
    {
     "data": {
      "text/plain": [
       "array([[0.98235294, 0.00196078, 0.00196078, 0.00196078, 0.00196078,\n",
       "        0.00196078, 0.00196078, 0.00196078, 0.00196078, 0.00196078],\n",
       "       [0.1       , 0.1       , 0.1       , 0.1       , 0.1       ,\n",
       "        0.1       , 0.1       , 0.1       , 0.1       , 0.1       ],\n",
       "       [0.1       , 0.1       , 0.1       , 0.1       , 0.1       ,\n",
       "        0.1       , 0.1       , 0.1       , 0.1       , 0.1       ],\n",
       "       [0.1       , 0.1       , 0.1       , 0.1       , 0.1       ,\n",
       "        0.1       , 0.1       , 0.1       , 0.1       , 0.1       ],\n",
       "       [0.1       , 0.1       , 0.1       , 0.1       , 0.1       ,\n",
       "        0.1       , 0.1       , 0.1       , 0.1       , 0.1       ]])"
      ]
     },
     "execution_count": 13,
     "metadata": {},
     "output_type": "execute_result"
    }
   ],
   "source": [
    "z = np.ones([5, 10])\n",
    "for i in range(5):\n",
    "    z[i] += i+1\n",
    "z[0,0] += 1000\n",
    "\n",
    "def activation(x):\n",
    "    return x / np.sum(x, axis=1, keepdims=True)\n",
    "\n",
    "activation(z)"
   ]
  },
  {
   "cell_type": "code",
   "execution_count": 14,
   "metadata": {},
   "outputs": [
    {
     "name": "stdout",
     "output_type": "stream",
     "text": [
      "[]\n",
      "[1, 2, 3, 4, 5]\n"
     ]
    }
   ],
   "source": [
    "\n",
    "\n",
    "labels = []\n",
    "Y = np.array([1, 2, 2, 3, 4, 5])\n",
    "\n",
    "print(labels)\n",
    "for i, num in enumerate(Y):\n",
    "    if num not in labels:\n",
    "        labels.append(num)\n",
    "print(labels)\n",
    "\n",
    "Y_processes = np.zeros([len(Y), len(labels)])\n",
    "\n"
   ]
  },
  {
   "cell_type": "code",
   "execution_count": 15,
   "metadata": {},
   "outputs": [
    {
     "name": "stdout",
     "output_type": "stream",
     "text": [
      "Super\n",
      "sub\n"
     ]
    }
   ],
   "source": [
    "class foo:\n",
    "    def __init__(self):\n",
    "        pass\n",
    "    \n",
    "    def a(self):\n",
    "        print(\"Super\")\n",
    "        \n",
    "    def b(self):\n",
    "        self.a()\n",
    "        \n",
    "class bar(foo):\n",
    "    def __init__(self):\n",
    "        super().__init__()\n",
    "        pass\n",
    "    def a(self):\n",
    "        print(\"sub\")\n",
    "    \n",
    "    def b(self):\n",
    "        self.a()\n",
    "        \n",
    "s = foo()\n",
    "s.b()\n",
    "\n",
    "s2 = bar()\n",
    "s2.b()"
   ]
  }
 ],
 "metadata": {
  "kernelspec": {
   "display_name": "Python 3",
   "language": "python",
   "name": "python3"
  },
  "language_info": {
   "codemirror_mode": {
    "name": "ipython",
    "version": 3
   },
   "file_extension": ".py",
   "mimetype": "text/x-python",
   "name": "python",
   "nbconvert_exporter": "python",
   "pygments_lexer": "ipython3",
   "version": "3.7.7"
  }
 },
 "nbformat": 4,
 "nbformat_minor": 4
}
